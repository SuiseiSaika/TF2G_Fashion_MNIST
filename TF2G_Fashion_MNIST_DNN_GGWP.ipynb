{
  "nbformat": 4,
  "nbformat_minor": 0,
  "metadata": {
    "colab": {
      "name": "TF2G_Fashion_MNIST_DNN_DataAugmentation_GGWP",
      "provenance": []
    },
    "kernelspec": {
      "name": "python3",
      "display_name": "Python 3"
    }
  },
  "cells": [
    {
      "cell_type": "code",
      "metadata": {
        "id": "qegO0Y9eFkJF",
        "colab_type": "code",
        "colab": {
          "base_uri": "https://localhost:8080/",
          "height": 80
        },
        "outputId": "72ed0d0e-7d87-4eb1-f01d-9df490b9e2ca"
      },
      "source": [
        "%matplotlib inline\n",
        "import tensorflow as tf\n",
        "import math\n",
        "import numpy as np\n",
        "import matplotlib.pyplot as plt\n",
        "from tensorflow.keras import *\n",
        "from tensorflow.keras.utils import *\n",
        "from tensorflow.keras.datasets import fashion_mnist"
      ],
      "execution_count": 1,
      "outputs": [
        {
          "output_type": "display_data",
          "data": {
            "text/html": [
              "<p style=\"color: red;\">\n",
              "The default version of TensorFlow in Colab will switch to TensorFlow 2.x on the 27th of March, 2020.<br>\n",
              "We recommend you <a href=\"https://www.tensorflow.org/guide/migrate\" target=\"_blank\">upgrade</a> now\n",
              "or ensure your notebook will continue to use TensorFlow 1.x via the <code>%tensorflow_version 1.x</code> magic:\n",
              "<a href=\"https://colab.research.google.com/notebooks/tensorflow_version.ipynb\" target=\"_blank\">more info</a>.</p>\n"
            ],
            "text/plain": [
              "<IPython.core.display.HTML object>"
            ]
          },
          "metadata": {
            "tags": []
          }
        }
      ]
    },
    {
      "cell_type": "code",
      "metadata": {
        "id": "wYB3AAfZFxFZ",
        "colab_type": "code",
        "colab": {}
      },
      "source": [
        "(x_train, y_train), (x_test, y_test) = fashion_mnist.load_data()\n",
        "x_train = x_train.astype('float32')\n",
        "x_test = x_test.astype('float32')\n",
        "x_train = x_train / 255.0\n",
        "x_test = x_test / 255.0\n",
        "x_train = np.expand_dims(x_train, -1)\n",
        "x_test = np.expand_dims(x_test, -1)"
      ],
      "execution_count": 0,
      "outputs": []
    },
    {
      "cell_type": "code",
      "metadata": {
        "id": "1CMnFpx0Fy2-",
        "colab_type": "code",
        "colab": {}
      },
      "source": [
        "epoch = 100\n",
        "batch_size = 128\n",
        "learning_rate = 1e-2\n",
        "initializer = initializers.he_normal(seed=114)"
      ],
      "execution_count": 0,
      "outputs": []
    },
    {
      "cell_type": "code",
      "metadata": {
        "id": "qrHm6eN_F0_W",
        "colab_type": "code",
        "colab": {}
      },
      "source": [
        "def basic_layer(node, dropoutrate = 0):\n",
        "    layer = models.Sequential()\n",
        "    layer.add(layers.Dense(node, kernel_initializer=initializer))\n",
        "    if(dropoutrate>0):\n",
        "        layer.add(layers.Dropout(dropoutrate))\n",
        "    layer.add(layers.BatchNormalization())\n",
        "    layer.add(layers.Activation('elu'))\n",
        "    return layer"
      ],
      "execution_count": 0,
      "outputs": []
    },
    {
      "cell_type": "code",
      "metadata": {
        "id": "ECNl9HAtF3_2",
        "colab_type": "code",
        "colab": {
          "base_uri": "https://localhost:8080/",
          "height": 88
        },
        "outputId": "688cf863-9daa-4f9e-ea0a-27cc1a9fb671"
      },
      "source": [
        "model = models.Sequential()\n",
        "model.add(layers.Flatten(input_shape=(28, 28, 1)))\n",
        "model.add(basic_layer(128))\n",
        "model.add(basic_layer(128))\n",
        "model.add(basic_layer(256, 0.125))\n",
        "model.add(basic_layer(256, 0.125))\n",
        "model.add(basic_layer(512, 0.25))\n",
        "model.add(basic_layer(512, 0.25))\n",
        "model.add(basic_layer(256))\n",
        "model.add(basic_layer(128))\n",
        "model.add(basic_layer(64))\n",
        "model.add(layers.Dense(10, activation='softmax'))"
      ],
      "execution_count": 5,
      "outputs": [
        {
          "output_type": "stream",
          "text": [
            "WARNING:tensorflow:From /tensorflow-1.15.0/python3.6/tensorflow_core/python/ops/resource_variable_ops.py:1630: calling BaseResourceVariable.__init__ (from tensorflow.python.ops.resource_variable_ops) with constraint is deprecated and will be removed in a future version.\n",
            "Instructions for updating:\n",
            "If using Keras pass *_constraint arguments to layers.\n"
          ],
          "name": "stdout"
        }
      ]
    },
    {
      "cell_type": "code",
      "metadata": {
        "id": "hW6-SQhRF5yY",
        "colab_type": "code",
        "colab": {
          "base_uri": "https://localhost:8080/",
          "height": 527
        },
        "outputId": "ac3e1533-1d18-49a8-9218-bcdcf5b9d661"
      },
      "source": [
        "model.summary()"
      ],
      "execution_count": 6,
      "outputs": [
        {
          "output_type": "stream",
          "text": [
            "Model: \"sequential\"\n",
            "_________________________________________________________________\n",
            "Layer (type)                 Output Shape              Param #   \n",
            "=================================================================\n",
            "flatten (Flatten)            (None, 784)               0         \n",
            "_________________________________________________________________\n",
            "sequential_1 (Sequential)    (None, 128)               100992    \n",
            "_________________________________________________________________\n",
            "sequential_2 (Sequential)    (None, 128)               17024     \n",
            "_________________________________________________________________\n",
            "sequential_3 (Sequential)    (None, 256)               34048     \n",
            "_________________________________________________________________\n",
            "sequential_4 (Sequential)    (None, 256)               66816     \n",
            "_________________________________________________________________\n",
            "sequential_5 (Sequential)    (None, 512)               133632    \n",
            "_________________________________________________________________\n",
            "sequential_6 (Sequential)    (None, 512)               264704    \n",
            "_________________________________________________________________\n",
            "sequential_7 (Sequential)    (None, 256)               132352    \n",
            "_________________________________________________________________\n",
            "sequential_8 (Sequential)    (None, 128)               33408     \n",
            "_________________________________________________________________\n",
            "sequential_9 (Sequential)    (None, 64)                8512      \n",
            "_________________________________________________________________\n",
            "dense_9 (Dense)              (None, 10)                650       \n",
            "=================================================================\n",
            "Total params: 792,138\n",
            "Trainable params: 787,658\n",
            "Non-trainable params: 4,480\n",
            "_________________________________________________________________\n"
          ],
          "name": "stdout"
        }
      ]
    },
    {
      "cell_type": "code",
      "metadata": {
        "id": "7yXtG_hOF7Ou",
        "colab_type": "code",
        "colab": {
          "base_uri": "https://localhost:8080/",
          "height": 1000
        },
        "outputId": "1912716f-f806-48b8-ece1-57430ad556f0"
      },
      "source": [
        "adam = optimizers.Adam(lr = learning_rate)\n",
        "model.compile(optimizer= adam,\n",
        "              loss='sparse_categorical_crossentropy',\n",
        "              metrics=['accuracy'])\n",
        "aug = preprocessing.image.ImageDataGenerator(width_shift_range=0.1,\n",
        "                                             height_shift_range=0.1,\n",
        "                                             horizontal_flip=True)\n",
        "batches = aug.flow(x_train, y_train, batch_size=batch_size)\n",
        "val_batches = aug.flow(x_test, y_test, batch_size=batch_size)\n",
        "history = model.fit_generator(batches, \n",
        "                               epochs=epoch,\n",
        "                               validation_data=val_batches, verbose=2)"
      ],
      "execution_count": 7,
      "outputs": [
        {
          "output_type": "stream",
          "text": [
            "Epoch 1/100\n",
            "Epoch 1/100\n",
            "469/469 - 31s - loss: 0.8130 - acc: 0.6936 - val_loss: 0.8753 - val_acc: 0.7289\n",
            "Epoch 2/100\n",
            "Epoch 1/100\n",
            "469/469 - 28s - loss: 0.6681 - acc: 0.7484 - val_loss: 0.6775 - val_acc: 0.7564\n",
            "Epoch 3/100\n",
            "Epoch 1/100\n",
            "469/469 - 29s - loss: 0.6067 - acc: 0.7750 - val_loss: 0.6234 - val_acc: 0.7747\n",
            "Epoch 4/100\n",
            "Epoch 1/100\n",
            "469/469 - 28s - loss: 0.5747 - acc: 0.7849 - val_loss: 0.6816 - val_acc: 0.7730\n",
            "Epoch 5/100\n",
            "Epoch 1/100\n",
            "469/469 - 28s - loss: 0.5518 - acc: 0.7959 - val_loss: 0.5600 - val_acc: 0.8006\n",
            "Epoch 6/100\n",
            "Epoch 1/100\n",
            "469/469 - 28s - loss: 0.5313 - acc: 0.8031 - val_loss: 0.5561 - val_acc: 0.8020\n",
            "Epoch 7/100\n",
            "Epoch 1/100\n",
            "469/469 - 29s - loss: 0.5160 - acc: 0.8074 - val_loss: 0.5167 - val_acc: 0.8145\n",
            "Epoch 8/100\n",
            "Epoch 1/100\n",
            "469/469 - 28s - loss: 0.5038 - acc: 0.8123 - val_loss: 0.5396 - val_acc: 0.8097\n",
            "Epoch 9/100\n",
            "Epoch 1/100\n",
            "469/469 - 28s - loss: 0.4914 - acc: 0.8186 - val_loss: 0.5307 - val_acc: 0.8157\n",
            "Epoch 10/100\n",
            "Epoch 1/100\n",
            "469/469 - 28s - loss: 0.4824 - acc: 0.8223 - val_loss: 0.5059 - val_acc: 0.8197\n",
            "Epoch 11/100\n",
            "Epoch 1/100\n",
            "469/469 - 28s - loss: 0.4754 - acc: 0.8228 - val_loss: 0.4914 - val_acc: 0.8185\n",
            "Epoch 12/100\n",
            "Epoch 1/100\n",
            "469/469 - 29s - loss: 0.4692 - acc: 0.8278 - val_loss: 0.6137 - val_acc: 0.7829\n",
            "Epoch 13/100\n",
            "Epoch 1/100\n",
            "469/469 - 28s - loss: 0.4612 - acc: 0.8292 - val_loss: 0.4621 - val_acc: 0.8291\n",
            "Epoch 14/100\n",
            "Epoch 1/100\n",
            "469/469 - 28s - loss: 0.4566 - acc: 0.8312 - val_loss: 0.4892 - val_acc: 0.8216\n",
            "Epoch 15/100\n",
            "Epoch 1/100\n",
            "469/469 - 28s - loss: 0.4481 - acc: 0.8351 - val_loss: 0.5404 - val_acc: 0.8078\n",
            "Epoch 16/100\n",
            "Epoch 1/100\n",
            "469/469 - 29s - loss: 0.4419 - acc: 0.8363 - val_loss: 0.5078 - val_acc: 0.8165\n",
            "Epoch 17/100\n",
            "Epoch 1/100\n",
            "469/469 - 29s - loss: 0.4426 - acc: 0.8370 - val_loss: 0.4998 - val_acc: 0.8158\n",
            "Epoch 18/100\n",
            "Epoch 1/100\n",
            "469/469 - 29s - loss: 0.4310 - acc: 0.8402 - val_loss: 0.4596 - val_acc: 0.8297\n",
            "Epoch 19/100\n",
            "Epoch 1/100\n",
            "469/469 - 30s - loss: 0.4341 - acc: 0.8396 - val_loss: 0.4594 - val_acc: 0.8280\n",
            "Epoch 20/100\n",
            "Epoch 1/100\n",
            "469/469 - 29s - loss: 0.4272 - acc: 0.8414 - val_loss: 0.4583 - val_acc: 0.8352\n",
            "Epoch 21/100\n",
            "Epoch 1/100\n",
            "469/469 - 29s - loss: 0.4233 - acc: 0.8430 - val_loss: 0.4720 - val_acc: 0.8284\n",
            "Epoch 22/100\n",
            "Epoch 1/100\n",
            "469/469 - 29s - loss: 0.4188 - acc: 0.8443 - val_loss: 0.4540 - val_acc: 0.8314\n",
            "Epoch 23/100\n",
            "Epoch 1/100\n",
            "469/469 - 29s - loss: 0.4176 - acc: 0.8439 - val_loss: 0.4691 - val_acc: 0.8236\n",
            "Epoch 24/100\n",
            "Epoch 1/100\n",
            "469/469 - 29s - loss: 0.4153 - acc: 0.8467 - val_loss: 0.4378 - val_acc: 0.8383\n",
            "Epoch 25/100\n",
            "Epoch 1/100\n",
            "469/469 - 29s - loss: 0.4073 - acc: 0.8484 - val_loss: 0.4139 - val_acc: 0.8464\n",
            "Epoch 26/100\n",
            "Epoch 1/100\n",
            "469/469 - 28s - loss: 0.4093 - acc: 0.8494 - val_loss: 0.4717 - val_acc: 0.8247\n",
            "Epoch 27/100\n",
            "Epoch 1/100\n",
            "469/469 - 29s - loss: 0.4031 - acc: 0.8493 - val_loss: 0.4291 - val_acc: 0.8385\n",
            "Epoch 28/100\n",
            "Epoch 1/100\n",
            "469/469 - 29s - loss: 0.4018 - acc: 0.8495 - val_loss: 0.4336 - val_acc: 0.8390\n",
            "Epoch 29/100\n",
            "Epoch 1/100\n",
            "469/469 - 29s - loss: 0.3973 - acc: 0.8537 - val_loss: 0.4205 - val_acc: 0.8464\n",
            "Epoch 30/100\n",
            "Epoch 1/100\n",
            "469/469 - 29s - loss: 0.3942 - acc: 0.8519 - val_loss: 0.4312 - val_acc: 0.8416\n",
            "Epoch 31/100\n",
            "Epoch 1/100\n",
            "469/469 - 29s - loss: 0.3944 - acc: 0.8536 - val_loss: 0.4097 - val_acc: 0.8515\n",
            "Epoch 32/100\n",
            "Epoch 1/100\n",
            "469/469 - 29s - loss: 0.3878 - acc: 0.8569 - val_loss: 0.4133 - val_acc: 0.8453\n",
            "Epoch 33/100\n",
            "Epoch 1/100\n",
            "469/469 - 29s - loss: 0.3925 - acc: 0.8534 - val_loss: 0.4305 - val_acc: 0.8422\n",
            "Epoch 34/100\n",
            "Epoch 1/100\n",
            "469/469 - 30s - loss: 0.3864 - acc: 0.8562 - val_loss: 0.4234 - val_acc: 0.8445\n",
            "Epoch 35/100\n",
            "Epoch 1/100\n",
            "469/469 - 30s - loss: 0.3843 - acc: 0.8564 - val_loss: 0.4090 - val_acc: 0.8479\n",
            "Epoch 36/100\n",
            "Epoch 1/100\n",
            "469/469 - 30s - loss: 0.3827 - acc: 0.8583 - val_loss: 0.4196 - val_acc: 0.8435\n",
            "Epoch 37/100\n",
            "Epoch 1/100\n",
            "469/469 - 30s - loss: 0.3817 - acc: 0.8572 - val_loss: 0.4159 - val_acc: 0.8489\n",
            "Epoch 38/100\n",
            "Epoch 1/100\n",
            "469/469 - 30s - loss: 0.3781 - acc: 0.8587 - val_loss: 0.4170 - val_acc: 0.8451\n",
            "Epoch 39/100\n",
            "Epoch 1/100\n",
            "469/469 - 30s - loss: 0.3808 - acc: 0.8586 - val_loss: 0.4048 - val_acc: 0.8535\n",
            "Epoch 40/100\n",
            "Epoch 1/100\n",
            "469/469 - 29s - loss: 0.3765 - acc: 0.8597 - val_loss: 0.4238 - val_acc: 0.8447\n",
            "Epoch 41/100\n",
            "Epoch 1/100\n",
            "469/469 - 29s - loss: 0.3765 - acc: 0.8602 - val_loss: 0.4047 - val_acc: 0.8522\n",
            "Epoch 42/100\n",
            "Epoch 1/100\n",
            "469/469 - 29s - loss: 0.3701 - acc: 0.8633 - val_loss: 0.4068 - val_acc: 0.8523\n",
            "Epoch 43/100\n",
            "Epoch 1/100\n",
            "469/469 - 29s - loss: 0.3702 - acc: 0.8615 - val_loss: 0.3920 - val_acc: 0.8532\n",
            "Epoch 44/100\n",
            "Epoch 1/100\n",
            "469/469 - 29s - loss: 0.3692 - acc: 0.8633 - val_loss: 0.3870 - val_acc: 0.8531\n",
            "Epoch 45/100\n",
            "Epoch 1/100\n",
            "469/469 - 29s - loss: 0.3717 - acc: 0.8619 - val_loss: 0.4177 - val_acc: 0.8487\n",
            "Epoch 46/100\n",
            "Epoch 1/100\n",
            "469/469 - 29s - loss: 0.3667 - acc: 0.8627 - val_loss: 0.3896 - val_acc: 0.8577\n",
            "Epoch 47/100\n",
            "Epoch 1/100\n",
            "469/469 - 29s - loss: 0.3659 - acc: 0.8640 - val_loss: 0.4154 - val_acc: 0.8470\n",
            "Epoch 48/100\n",
            "Epoch 1/100\n",
            "469/469 - 28s - loss: 0.3628 - acc: 0.8641 - val_loss: 0.4048 - val_acc: 0.8477\n",
            "Epoch 49/100\n",
            "Epoch 1/100\n",
            "469/469 - 29s - loss: 0.3642 - acc: 0.8646 - val_loss: 0.4075 - val_acc: 0.8502\n",
            "Epoch 50/100\n",
            "Epoch 1/100\n",
            "469/469 - 28s - loss: 0.3631 - acc: 0.8650 - val_loss: 0.3846 - val_acc: 0.8590\n",
            "Epoch 51/100\n",
            "Epoch 1/100\n",
            "469/469 - 29s - loss: 0.3601 - acc: 0.8657 - val_loss: 0.4126 - val_acc: 0.8443\n",
            "Epoch 52/100\n",
            "Epoch 1/100\n",
            "469/469 - 28s - loss: 0.3575 - acc: 0.8664 - val_loss: 0.4160 - val_acc: 0.8475\n",
            "Epoch 53/100\n",
            "Epoch 1/100\n",
            "469/469 - 28s - loss: 0.3563 - acc: 0.8669 - val_loss: 0.4055 - val_acc: 0.8516\n",
            "Epoch 54/100\n",
            "Epoch 1/100\n",
            "469/469 - 28s - loss: 0.3580 - acc: 0.8659 - val_loss: 0.3854 - val_acc: 0.8573\n",
            "Epoch 55/100\n",
            "Epoch 1/100\n",
            "469/469 - 28s - loss: 0.3556 - acc: 0.8681 - val_loss: 0.3912 - val_acc: 0.8576\n",
            "Epoch 56/100\n",
            "Epoch 1/100\n",
            "469/469 - 28s - loss: 0.3514 - acc: 0.8701 - val_loss: 0.3936 - val_acc: 0.8569\n",
            "Epoch 57/100\n",
            "Epoch 1/100\n",
            "469/469 - 28s - loss: 0.3567 - acc: 0.8672 - val_loss: 0.3957 - val_acc: 0.8588\n",
            "Epoch 58/100\n",
            "Epoch 1/100\n",
            "469/469 - 28s - loss: 0.3514 - acc: 0.8679 - val_loss: 0.3871 - val_acc: 0.8526\n",
            "Epoch 59/100\n",
            "Epoch 1/100\n",
            "469/469 - 28s - loss: 0.3535 - acc: 0.8676 - val_loss: 0.3973 - val_acc: 0.8542\n",
            "Epoch 60/100\n",
            "Epoch 1/100\n",
            "469/469 - 28s - loss: 0.3473 - acc: 0.8703 - val_loss: 0.3844 - val_acc: 0.8564\n",
            "Epoch 61/100\n",
            "Epoch 1/100\n",
            "469/469 - 28s - loss: 0.3471 - acc: 0.8711 - val_loss: 0.3756 - val_acc: 0.8597\n",
            "Epoch 62/100\n",
            "Epoch 1/100\n",
            "469/469 - 28s - loss: 0.3461 - acc: 0.8697 - val_loss: 0.3796 - val_acc: 0.8601\n",
            "Epoch 63/100\n",
            "Epoch 1/100\n",
            "469/469 - 28s - loss: 0.3489 - acc: 0.8707 - val_loss: 0.3685 - val_acc: 0.8624\n",
            "Epoch 64/100\n",
            "Epoch 1/100\n",
            "469/469 - 28s - loss: 0.3451 - acc: 0.8705 - val_loss: 0.4043 - val_acc: 0.8431\n",
            "Epoch 65/100\n",
            "Epoch 1/100\n",
            "469/469 - 28s - loss: 0.3469 - acc: 0.8700 - val_loss: 0.3610 - val_acc: 0.8652\n",
            "Epoch 66/100\n",
            "Epoch 1/100\n",
            "469/469 - 29s - loss: 0.3456 - acc: 0.8712 - val_loss: 0.3727 - val_acc: 0.8589\n",
            "Epoch 67/100\n",
            "Epoch 1/100\n",
            "469/469 - 28s - loss: 0.3414 - acc: 0.8723 - val_loss: 0.3863 - val_acc: 0.8567\n",
            "Epoch 68/100\n",
            "Epoch 1/100\n",
            "469/469 - 28s - loss: 0.3428 - acc: 0.8708 - val_loss: 0.3644 - val_acc: 0.8627\n",
            "Epoch 69/100\n",
            "Epoch 1/100\n",
            "469/469 - 28s - loss: 0.3395 - acc: 0.8726 - val_loss: 0.3758 - val_acc: 0.8612\n",
            "Epoch 70/100\n",
            "Epoch 1/100\n",
            "469/469 - 28s - loss: 0.3383 - acc: 0.8737 - val_loss: 0.3832 - val_acc: 0.8608\n",
            "Epoch 71/100\n",
            "Epoch 1/100\n",
            "469/469 - 28s - loss: 0.3388 - acc: 0.8726 - val_loss: 0.3792 - val_acc: 0.8601\n",
            "Epoch 72/100\n",
            "Epoch 1/100\n",
            "469/469 - 28s - loss: 0.3401 - acc: 0.8723 - val_loss: 0.3739 - val_acc: 0.8626\n",
            "Epoch 73/100\n",
            "Epoch 1/100\n",
            "469/469 - 28s - loss: 0.3357 - acc: 0.8734 - val_loss: 0.3783 - val_acc: 0.8619\n",
            "Epoch 74/100\n",
            "Epoch 1/100\n",
            "469/469 - 28s - loss: 0.3389 - acc: 0.8731 - val_loss: 0.3790 - val_acc: 0.8613\n",
            "Epoch 75/100\n",
            "Epoch 1/100\n",
            "469/469 - 28s - loss: 0.3320 - acc: 0.8760 - val_loss: 0.3748 - val_acc: 0.8644\n",
            "Epoch 76/100\n",
            "Epoch 1/100\n",
            "469/469 - 28s - loss: 0.3367 - acc: 0.8733 - val_loss: 0.3790 - val_acc: 0.8592\n",
            "Epoch 77/100\n",
            "Epoch 1/100\n",
            "469/469 - 29s - loss: 0.3358 - acc: 0.8752 - val_loss: 0.3699 - val_acc: 0.8654\n",
            "Epoch 78/100\n",
            "Epoch 1/100\n",
            "469/469 - 29s - loss: 0.3319 - acc: 0.8765 - val_loss: 0.3684 - val_acc: 0.8637\n",
            "Epoch 79/100\n",
            "Epoch 1/100\n",
            "469/469 - 29s - loss: 0.3306 - acc: 0.8755 - val_loss: 0.3534 - val_acc: 0.8693\n",
            "Epoch 80/100\n",
            "Epoch 1/100\n",
            "469/469 - 28s - loss: 0.3314 - acc: 0.8755 - val_loss: 0.3639 - val_acc: 0.8692\n",
            "Epoch 81/100\n",
            "Epoch 1/100\n",
            "469/469 - 28s - loss: 0.3330 - acc: 0.8754 - val_loss: 0.3649 - val_acc: 0.8635\n",
            "Epoch 82/100\n",
            "Epoch 1/100\n",
            "469/469 - 29s - loss: 0.3310 - acc: 0.8758 - val_loss: 0.3583 - val_acc: 0.8672\n",
            "Epoch 83/100\n",
            "Epoch 1/100\n",
            "469/469 - 29s - loss: 0.3305 - acc: 0.8763 - val_loss: 0.3659 - val_acc: 0.8643\n",
            "Epoch 84/100\n",
            "Epoch 1/100\n",
            "469/469 - 28s - loss: 0.3282 - acc: 0.8759 - val_loss: 0.3836 - val_acc: 0.8562\n",
            "Epoch 85/100\n",
            "Epoch 1/100\n",
            "469/469 - 29s - loss: 0.3290 - acc: 0.8777 - val_loss: 0.3694 - val_acc: 0.8657\n",
            "Epoch 86/100\n",
            "Epoch 1/100\n",
            "469/469 - 28s - loss: 0.3267 - acc: 0.8788 - val_loss: 0.3716 - val_acc: 0.8632\n",
            "Epoch 87/100\n",
            "Epoch 1/100\n",
            "469/469 - 28s - loss: 0.3298 - acc: 0.8767 - val_loss: 0.3598 - val_acc: 0.8704\n",
            "Epoch 88/100\n",
            "Epoch 1/100\n",
            "469/469 - 28s - loss: 0.3292 - acc: 0.8760 - val_loss: 0.3437 - val_acc: 0.8755\n",
            "Epoch 89/100\n",
            "Epoch 1/100\n",
            "469/469 - 28s - loss: 0.3244 - acc: 0.8767 - val_loss: 0.3452 - val_acc: 0.8710\n",
            "Epoch 90/100\n",
            "Epoch 1/100\n",
            "469/469 - 28s - loss: 0.3260 - acc: 0.8771 - val_loss: 0.3746 - val_acc: 0.8640\n",
            "Epoch 91/100\n",
            "Epoch 1/100\n",
            "469/469 - 28s - loss: 0.3244 - acc: 0.8777 - val_loss: 0.3660 - val_acc: 0.8624\n",
            "Epoch 92/100\n",
            "Epoch 1/100\n",
            "469/469 - 27s - loss: 0.3247 - acc: 0.8781 - val_loss: 0.3668 - val_acc: 0.8670\n",
            "Epoch 93/100\n",
            "Epoch 1/100\n",
            "469/469 - 27s - loss: 0.3241 - acc: 0.8783 - val_loss: 0.3743 - val_acc: 0.8597\n",
            "Epoch 94/100\n",
            "Epoch 1/100\n",
            "469/469 - 27s - loss: 0.3246 - acc: 0.8776 - val_loss: 0.3626 - val_acc: 0.8682\n",
            "Epoch 95/100\n",
            "Epoch 1/100\n",
            "469/469 - 28s - loss: 0.3222 - acc: 0.8780 - val_loss: 0.3673 - val_acc: 0.8630\n",
            "Epoch 96/100\n",
            "Epoch 1/100\n",
            "469/469 - 28s - loss: 0.3210 - acc: 0.8792 - val_loss: 0.3584 - val_acc: 0.8661\n",
            "Epoch 97/100\n",
            "Epoch 1/100\n",
            "469/469 - 28s - loss: 0.3225 - acc: 0.8786 - val_loss: 0.3626 - val_acc: 0.8670\n",
            "Epoch 98/100\n",
            "Epoch 1/100\n",
            "469/469 - 28s - loss: 0.3225 - acc: 0.8784 - val_loss: 0.3599 - val_acc: 0.8670\n",
            "Epoch 99/100\n",
            "Epoch 1/100\n",
            "469/469 - 28s - loss: 0.3196 - acc: 0.8792 - val_loss: 0.3608 - val_acc: 0.8614\n",
            "Epoch 100/100\n",
            "Epoch 1/100\n",
            "469/469 - 28s - loss: 0.3187 - acc: 0.8797 - val_loss: 0.3705 - val_acc: 0.8632\n"
          ],
          "name": "stdout"
        }
      ]
    },
    {
      "cell_type": "code",
      "metadata": {
        "id": "fFD1yH05GoOK",
        "colab_type": "code",
        "colab": {
          "base_uri": "https://localhost:8080/",
          "height": 34
        },
        "outputId": "4bd802e1-f6c2-4ce9-ac63-e9e2fe099e96"
      },
      "source": [
        "test_loss, test_acc = model.evaluate(x_test, y_test, verbose=2)"
      ],
      "execution_count": 8,
      "outputs": [
        {
          "output_type": "stream",
          "text": [
            "10000/10000 - 1s - loss: 0.3353 - acc: 0.8775\n"
          ],
          "name": "stdout"
        }
      ]
    },
    {
      "cell_type": "code",
      "metadata": {
        "id": "wOvU-G-WGr3v",
        "colab_type": "code",
        "colab": {
          "base_uri": "https://localhost:8080/",
          "height": 300
        },
        "outputId": "423570bf-1146-4e09-fb23-587193b6d5e6"
      },
      "source": [
        "plt.plot(history.history['acc'], label='accuracy')\n",
        "plt.plot(history.history['val_acc'], label = 'val_accuracy')\n",
        "plt.xlabel('Epoch')\n",
        "plt.ylabel('Accuracy')\n",
        "plt.ylim([0.5, 1])\n",
        "plt.legend(loc='lower right')\n",
        "# plt.savefig(\"ann_acc.png\", dpi=500)"
      ],
      "execution_count": 9,
      "outputs": [
        {
          "output_type": "execute_result",
          "data": {
            "text/plain": [
              "<matplotlib.legend.Legend at 0x7f0c2a4750b8>"
            ]
          },
          "metadata": {
            "tags": []
          },
          "execution_count": 9
        },
        {
          "output_type": "display_data",
          "data": {
            "image/png": "[encoded data removed]",
            "text/plain": [
              "<Figure size 432x288 with 1 Axes>"
            ]
          },
          "metadata": {
            "tags": []
          }
        }
      ]
    },
    {
      "cell_type": "code",
      "metadata": {
        "id": "diXzN8rxGseP",
        "colab_type": "code",
        "colab": {
          "base_uri": "https://localhost:8080/",
          "height": 300
        },
        "outputId": "9dad4a4c-a46a-4ef4-f532-0a5bed24b0f9"
      },
      "source": [
        "plt.plot(history.history['loss'], label='loss')\n",
        "plt.plot(history.history['val_loss'], label = 'val_loss')\n",
        "plt.xlabel('Epoch')\n",
        "plt.ylabel('loss')\n",
        "plt.ylim([0, 1])\n",
        "plt.legend(loc='upper right')\n",
        "# plt.savefig(\"ann_loss.png\", dpi=500)"
      ],
      "execution_count": 10,
      "outputs": [
        {
          "output_type": "execute_result",
          "data": {
            "text/plain": [
              "<matplotlib.legend.Legend at 0x7f0c2a4bfa20>"
            ]
          },
          "metadata": {
            "tags": []
          },
          "execution_count": 10
        },
        {
          "output_type": "display_data",
          "data": {
            "image/png": "[encoded data removed]",
            "text/plain": [
              "<Figure size 432x288 with 1 Axes>"
            ]
          },
          "metadata": {
            "tags": []
          }
        }
      ]
    },
    {
      "cell_type": "code",
      "metadata": {
        "id": "RUKbvpJnaO_D",
        "colab_type": "code",
        "colab": {}
      },
      "source": [
        "model.save('DNN_Adam_100.h5')"
      ],
      "execution_count": 0,
      "outputs": []
    },
    {
      "cell_type": "code",
      "metadata": {
        "id": "KO5mvM6ya7IE",
        "colab_type": "code",
        "colab": {
          "base_uri": "https://localhost:8080/",
          "height": 241
        },
        "outputId": "2f400c3b-6a2b-4a9c-f328-24c38820b0ba"
      },
      "source": [
        "model_2 = models.load_model('DNN_Adam_100.h5')"
      ],
      "execution_count": 12,
      "outputs": [
        {
          "output_type": "stream",
          "text": [
            "WARNING:tensorflow:From /tensorflow-1.15.0/python3.6/tensorflow_core/python/ops/init_ops.py:97: calling VarianceScaling.__init__ (from tensorflow.python.ops.init_ops) with dtype is deprecated and will be removed in a future version.\n",
            "Instructions for updating:\n",
            "Call initializer instance with the dtype argument instead of passing it to the constructor\n",
            "WARNING:tensorflow:From /tensorflow-1.15.0/python3.6/tensorflow_core/python/ops/init_ops.py:97: calling Zeros.__init__ (from tensorflow.python.ops.init_ops) with dtype is deprecated and will be removed in a future version.\n",
            "Instructions for updating:\n",
            "Call initializer instance with the dtype argument instead of passing it to the constructor\n",
            "WARNING:tensorflow:From /tensorflow-1.15.0/python3.6/tensorflow_core/python/ops/init_ops.py:97: calling Ones.__init__ (from tensorflow.python.ops.init_ops) with dtype is deprecated and will be removed in a future version.\n",
            "Instructions for updating:\n",
            "Call initializer instance with the dtype argument instead of passing it to the constructor\n",
            "WARNING:tensorflow:From /tensorflow-1.15.0/python3.6/tensorflow_core/python/ops/init_ops.py:97: calling GlorotUniform.__init__ (from tensorflow.python.ops.init_ops) with dtype is deprecated and will be removed in a future version.\n",
            "Instructions for updating:\n",
            "Call initializer instance with the dtype argument instead of passing it to the constructor\n"
          ],
          "name": "stdout"
        }
      ]
    },
    {
      "cell_type": "code",
      "metadata": {
        "id": "ecB100UpaDGv",
        "colab_type": "code",
        "colab": {}
      },
      "source": [
        "epoch = 100\n",
        "batch_size = 256\n",
        "learning_rate = 5e-3\n",
        "initializer = initializers.he_normal(seed=114)"
      ],
      "execution_count": 0,
      "outputs": []
    },
    {
      "cell_type": "code",
      "metadata": {
        "id": "n9FFe1FwaJeb",
        "colab_type": "code",
        "colab": {
          "base_uri": "https://localhost:8080/",
          "height": 1000
        },
        "outputId": "61ca6899-af03-4095-953b-3c4a1be5a722"
      },
      "source": [
        "adam = optimizers.Adam(lr = learning_rate)\n",
        "model_2.compile(optimizer= adam,\n",
        "              loss='sparse_categorical_crossentropy',\n",
        "              metrics=['accuracy'])\n",
        "aug = preprocessing.image.ImageDataGenerator(width_shift_range=0.1,\n",
        "                                             height_shift_range=0.1,\n",
        "                                             horizontal_flip=True)\n",
        "batches = aug.flow(x_train, y_train, batch_size=batch_size)\n",
        "val_batches = aug.flow(x_test, y_test, batch_size=batch_size)\n",
        "history = model_2.fit_generator(batches, \n",
        "                               epochs=epoch,\n",
        "                               validation_data=val_batches, verbose=2)"
      ],
      "execution_count": 14,
      "outputs": [
        {
          "output_type": "stream",
          "text": [
            "Epoch 1/100\n",
            "Epoch 1/100\n",
            "235/235 - 25s - loss: 0.2985 - acc: 0.8885 - val_loss: 0.3496 - val_acc: 0.8747\n",
            "Epoch 2/100\n",
            "Epoch 1/100\n",
            "235/235 - 24s - loss: 0.2949 - acc: 0.8878 - val_loss: 0.3392 - val_acc: 0.8760\n",
            "Epoch 3/100\n",
            "Epoch 1/100\n",
            "235/235 - 24s - loss: 0.2931 - acc: 0.8892 - val_loss: 0.3605 - val_acc: 0.8713\n",
            "Epoch 4/100\n",
            "Epoch 1/100\n",
            "235/235 - 24s - loss: 0.2922 - acc: 0.8903 - val_loss: 0.3483 - val_acc: 0.8727\n",
            "Epoch 5/100\n",
            "Epoch 1/100\n",
            "235/235 - 24s - loss: 0.2921 - acc: 0.8903 - val_loss: 0.3405 - val_acc: 0.8744\n",
            "Epoch 6/100\n",
            "Epoch 1/100\n",
            "235/235 - 24s - loss: 0.2932 - acc: 0.8892 - val_loss: 0.3402 - val_acc: 0.8743\n",
            "Epoch 7/100\n",
            "Epoch 1/100\n",
            "235/235 - 24s - loss: 0.2942 - acc: 0.8890 - val_loss: 0.3530 - val_acc: 0.8678\n",
            "Epoch 8/100\n",
            "Epoch 1/100\n",
            "235/235 - 24s - loss: 0.2948 - acc: 0.8884 - val_loss: 0.3479 - val_acc: 0.8752\n",
            "Epoch 9/100\n",
            "Epoch 1/100\n",
            "235/235 - 24s - loss: 0.2942 - acc: 0.8888 - val_loss: 0.3463 - val_acc: 0.8774\n",
            "Epoch 10/100\n",
            "Epoch 1/100\n",
            "235/235 - 24s - loss: 0.2941 - acc: 0.8888 - val_loss: 0.3534 - val_acc: 0.8764\n",
            "Epoch 11/100\n",
            "Epoch 1/100\n",
            "235/235 - 24s - loss: 0.2933 - acc: 0.8898 - val_loss: 0.3430 - val_acc: 0.8715\n",
            "Epoch 12/100\n",
            "Epoch 1/100\n",
            "235/235 - 25s - loss: 0.2939 - acc: 0.8890 - val_loss: 0.3440 - val_acc: 0.8744\n",
            "Epoch 13/100\n",
            "Epoch 1/100\n",
            "235/235 - 25s - loss: 0.2909 - acc: 0.8907 - val_loss: 0.3530 - val_acc: 0.8707\n",
            "Epoch 14/100\n",
            "Epoch 1/100\n",
            "235/235 - 25s - loss: 0.2901 - acc: 0.8897 - val_loss: 0.3473 - val_acc: 0.8764\n",
            "Epoch 15/100\n",
            "Epoch 1/100\n",
            "235/235 - 24s - loss: 0.2887 - acc: 0.8906 - val_loss: 0.3569 - val_acc: 0.8700\n",
            "Epoch 16/100\n",
            "Epoch 1/100\n",
            "235/235 - 25s - loss: 0.2909 - acc: 0.8892 - val_loss: 0.3649 - val_acc: 0.8735\n",
            "Epoch 17/100\n",
            "Epoch 1/100\n",
            "235/235 - 25s - loss: 0.2892 - acc: 0.8901 - val_loss: 0.3540 - val_acc: 0.8731\n",
            "Epoch 18/100\n",
            "Epoch 1/100\n",
            "235/235 - 24s - loss: 0.2878 - acc: 0.8916 - val_loss: 0.3512 - val_acc: 0.8729\n",
            "Epoch 19/100\n",
            "Epoch 1/100\n",
            "235/235 - 24s - loss: 0.2902 - acc: 0.8905 - val_loss: 0.3528 - val_acc: 0.8735\n",
            "Epoch 20/100\n",
            "Epoch 1/100\n",
            "235/235 - 24s - loss: 0.2889 - acc: 0.8909 - val_loss: 0.3487 - val_acc: 0.8721\n",
            "Epoch 21/100\n",
            "Epoch 1/100\n",
            "235/235 - 24s - loss: 0.2867 - acc: 0.8911 - val_loss: 0.3493 - val_acc: 0.8752\n",
            "Epoch 22/100\n",
            "Epoch 1/100\n",
            "235/235 - 24s - loss: 0.2877 - acc: 0.8907 - val_loss: 0.3558 - val_acc: 0.8778\n",
            "Epoch 23/100\n",
            "Epoch 1/100\n",
            "235/235 - 24s - loss: 0.2884 - acc: 0.8902 - val_loss: 0.3598 - val_acc: 0.8690\n",
            "Epoch 24/100\n",
            "Epoch 1/100\n",
            "235/235 - 24s - loss: 0.2889 - acc: 0.8907 - val_loss: 0.3621 - val_acc: 0.8766\n",
            "Epoch 25/100\n",
            "Epoch 1/100\n",
            "235/235 - 24s - loss: 0.2851 - acc: 0.8916 - val_loss: 0.3292 - val_acc: 0.8786\n",
            "Epoch 26/100\n",
            "Epoch 1/100\n",
            "235/235 - 24s - loss: 0.2867 - acc: 0.8906 - val_loss: 0.3712 - val_acc: 0.8693\n",
            "Epoch 27/100\n",
            "Epoch 1/100\n",
            "235/235 - 24s - loss: 0.2884 - acc: 0.8904 - val_loss: 0.3519 - val_acc: 0.8784\n",
            "Epoch 28/100\n",
            "Epoch 1/100\n",
            "235/235 - 24s - loss: 0.2852 - acc: 0.8912 - val_loss: 0.3305 - val_acc: 0.8761\n",
            "Epoch 29/100\n",
            "Epoch 1/100\n",
            "235/235 - 24s - loss: 0.2848 - acc: 0.8931 - val_loss: 0.3584 - val_acc: 0.8676\n",
            "Epoch 30/100\n",
            "Epoch 1/100\n",
            "235/235 - 25s - loss: 0.2871 - acc: 0.8913 - val_loss: 0.3532 - val_acc: 0.8718\n",
            "Epoch 31/100\n",
            "Epoch 1/100\n",
            "235/235 - 25s - loss: 0.2852 - acc: 0.8921 - val_loss: 0.3413 - val_acc: 0.8760\n",
            "Epoch 32/100\n",
            "Epoch 1/100\n",
            "235/235 - 25s - loss: 0.2858 - acc: 0.8910 - val_loss: 0.3501 - val_acc: 0.8727\n",
            "Epoch 33/100\n",
            "Epoch 1/100\n",
            "235/235 - 25s - loss: 0.2827 - acc: 0.8925 - val_loss: 0.3433 - val_acc: 0.8756\n",
            "Epoch 34/100\n",
            "Epoch 1/100\n",
            "235/235 - 25s - loss: 0.2831 - acc: 0.8926 - val_loss: 0.3433 - val_acc: 0.8736\n",
            "Epoch 35/100\n",
            "Epoch 1/100\n",
            "235/235 - 25s - loss: 0.2863 - acc: 0.8905 - val_loss: 0.3415 - val_acc: 0.8764\n",
            "Epoch 36/100\n",
            "Epoch 1/100\n",
            "235/235 - 25s - loss: 0.2816 - acc: 0.8921 - val_loss: 0.3440 - val_acc: 0.8751\n",
            "Epoch 37/100\n",
            "Epoch 1/100\n",
            "235/235 - 25s - loss: 0.2825 - acc: 0.8931 - val_loss: 0.3400 - val_acc: 0.8744\n",
            "Epoch 38/100\n",
            "Epoch 1/100\n",
            "235/235 - 25s - loss: 0.2846 - acc: 0.8921 - val_loss: 0.3490 - val_acc: 0.8758\n",
            "Epoch 39/100\n",
            "Epoch 1/100\n",
            "235/235 - 25s - loss: 0.2823 - acc: 0.8923 - val_loss: 0.3384 - val_acc: 0.8756\n",
            "Epoch 40/100\n",
            "Epoch 1/100\n",
            "235/235 - 25s - loss: 0.2825 - acc: 0.8929 - val_loss: 0.3532 - val_acc: 0.8688\n",
            "Epoch 41/100\n",
            "Epoch 1/100\n",
            "235/235 - 25s - loss: 0.2791 - acc: 0.8946 - val_loss: 0.3305 - val_acc: 0.8766\n",
            "Epoch 42/100\n",
            "Epoch 1/100\n",
            "235/235 - 25s - loss: 0.2816 - acc: 0.8928 - val_loss: 0.3449 - val_acc: 0.8716\n",
            "Epoch 43/100\n",
            "Epoch 1/100\n",
            "235/235 - 25s - loss: 0.2826 - acc: 0.8925 - val_loss: 0.3448 - val_acc: 0.8740\n",
            "Epoch 44/100\n",
            "Epoch 1/100\n",
            "235/235 - 25s - loss: 0.2819 - acc: 0.8935 - val_loss: 0.3415 - val_acc: 0.8783\n",
            "Epoch 45/100\n",
            "Epoch 1/100\n",
            "235/235 - 25s - loss: 0.2821 - acc: 0.8921 - val_loss: 0.3346 - val_acc: 0.8804\n",
            "Epoch 46/100\n",
            "Epoch 1/100\n",
            "235/235 - 25s - loss: 0.2799 - acc: 0.8941 - val_loss: 0.3284 - val_acc: 0.8803\n",
            "Epoch 47/100\n",
            "Epoch 1/100\n",
            "235/235 - 25s - loss: 0.2786 - acc: 0.8945 - val_loss: 0.3403 - val_acc: 0.8703\n",
            "Epoch 48/100\n",
            "Epoch 1/100\n",
            "235/235 - 25s - loss: 0.2780 - acc: 0.8939 - val_loss: 0.3415 - val_acc: 0.8760\n",
            "Epoch 49/100\n",
            "Epoch 1/100\n",
            "235/235 - 25s - loss: 0.2773 - acc: 0.8939 - val_loss: 0.3392 - val_acc: 0.8784\n",
            "Epoch 50/100\n",
            "Epoch 1/100\n",
            "235/235 - 25s - loss: 0.2801 - acc: 0.8934 - val_loss: 0.3500 - val_acc: 0.8707\n",
            "Epoch 51/100\n",
            "Epoch 1/100\n",
            "235/235 - 25s - loss: 0.2796 - acc: 0.8936 - val_loss: 0.3404 - val_acc: 0.8772\n",
            "Epoch 52/100\n",
            "Epoch 1/100\n",
            "235/235 - 25s - loss: 0.2762 - acc: 0.8948 - val_loss: 0.3297 - val_acc: 0.8771\n",
            "Epoch 53/100\n",
            "Epoch 1/100\n",
            "235/235 - 25s - loss: 0.2793 - acc: 0.8936 - val_loss: 0.3415 - val_acc: 0.8746\n",
            "Epoch 54/100\n",
            "Epoch 1/100\n",
            "235/235 - 25s - loss: 0.2786 - acc: 0.8950 - val_loss: 0.3326 - val_acc: 0.8786\n",
            "Epoch 55/100\n",
            "Epoch 1/100\n",
            "235/235 - 26s - loss: 0.2748 - acc: 0.8961 - val_loss: 0.3615 - val_acc: 0.8697\n",
            "Epoch 56/100\n",
            "Epoch 1/100\n",
            "235/235 - 25s - loss: 0.2772 - acc: 0.8950 - val_loss: 0.3498 - val_acc: 0.8728\n",
            "Epoch 57/100\n",
            "Epoch 1/100\n",
            "235/235 - 25s - loss: 0.2769 - acc: 0.8948 - val_loss: 0.3524 - val_acc: 0.8765\n",
            "Epoch 58/100\n",
            "Epoch 1/100\n",
            "235/235 - 25s - loss: 0.2755 - acc: 0.8949 - val_loss: 0.3344 - val_acc: 0.8790\n",
            "Epoch 59/100\n",
            "Epoch 1/100\n",
            "235/235 - 25s - loss: 0.2750 - acc: 0.8969 - val_loss: 0.3296 - val_acc: 0.8776\n",
            "Epoch 60/100\n",
            "Epoch 1/100\n",
            "235/235 - 26s - loss: 0.2747 - acc: 0.8966 - val_loss: 0.3334 - val_acc: 0.8872\n",
            "Epoch 61/100\n",
            "Epoch 1/100\n",
            "235/235 - 25s - loss: 0.2745 - acc: 0.8960 - val_loss: 0.3449 - val_acc: 0.8786\n",
            "Epoch 62/100\n",
            "Epoch 1/100\n",
            "235/235 - 26s - loss: 0.2724 - acc: 0.8960 - val_loss: 0.3369 - val_acc: 0.8800\n",
            "Epoch 63/100\n",
            "Epoch 1/100\n",
            "235/235 - 25s - loss: 0.2746 - acc: 0.8947 - val_loss: 0.3410 - val_acc: 0.8740\n",
            "Epoch 64/100\n",
            "Epoch 1/100\n",
            "235/235 - 26s - loss: 0.2729 - acc: 0.8963 - val_loss: 0.3261 - val_acc: 0.8833\n",
            "Epoch 65/100\n",
            "Epoch 1/100\n",
            "235/235 - 25s - loss: 0.2726 - acc: 0.8959 - val_loss: 0.3436 - val_acc: 0.8760\n",
            "Epoch 66/100\n",
            "Epoch 1/100\n",
            "235/235 - 25s - loss: 0.2736 - acc: 0.8960 - val_loss: 0.3410 - val_acc: 0.8730\n",
            "Epoch 67/100\n",
            "Epoch 1/100\n",
            "235/235 - 25s - loss: 0.2737 - acc: 0.8950 - val_loss: 0.3578 - val_acc: 0.8719\n",
            "Epoch 68/100\n",
            "Epoch 1/100\n",
            "235/235 - 25s - loss: 0.2760 - acc: 0.8946 - val_loss: 0.3344 - val_acc: 0.8776\n",
            "Epoch 69/100\n",
            "Epoch 1/100\n",
            "235/235 - 25s - loss: 0.2740 - acc: 0.8959 - val_loss: 0.3364 - val_acc: 0.8796\n",
            "Epoch 70/100\n",
            "Epoch 1/100\n",
            "235/235 - 24s - loss: 0.2729 - acc: 0.8966 - val_loss: 0.3684 - val_acc: 0.8682\n",
            "Epoch 71/100\n",
            "Epoch 1/100\n",
            "235/235 - 25s - loss: 0.2720 - acc: 0.8961 - val_loss: 0.3452 - val_acc: 0.8747\n",
            "Epoch 72/100\n",
            "Epoch 1/100\n",
            "235/235 - 24s - loss: 0.2728 - acc: 0.8966 - val_loss: 0.3313 - val_acc: 0.8791\n",
            "Epoch 73/100\n",
            "Epoch 1/100\n",
            "235/235 - 24s - loss: 0.2745 - acc: 0.8952 - val_loss: 0.3307 - val_acc: 0.8795\n",
            "Epoch 74/100\n",
            "Epoch 1/100\n",
            "235/235 - 25s - loss: 0.2733 - acc: 0.8957 - val_loss: 0.3394 - val_acc: 0.8801\n",
            "Epoch 75/100\n",
            "Epoch 1/100\n",
            "235/235 - 25s - loss: 0.2709 - acc: 0.8971 - val_loss: 0.3461 - val_acc: 0.8785\n",
            "Epoch 76/100\n",
            "Epoch 1/100\n",
            "235/235 - 25s - loss: 0.2694 - acc: 0.8974 - val_loss: 0.3416 - val_acc: 0.8768\n",
            "Epoch 77/100\n",
            "Epoch 1/100\n",
            "235/235 - 25s - loss: 0.2701 - acc: 0.8977 - val_loss: 0.3260 - val_acc: 0.8803\n",
            "Epoch 78/100\n",
            "Epoch 1/100\n",
            "235/235 - 25s - loss: 0.2691 - acc: 0.8974 - val_loss: 0.3218 - val_acc: 0.8805\n",
            "Epoch 79/100\n",
            "Epoch 1/100\n",
            "235/235 - 25s - loss: 0.2716 - acc: 0.8968 - val_loss: 0.3429 - val_acc: 0.8735\n",
            "Epoch 80/100\n",
            "Epoch 1/100\n",
            "235/235 - 24s - loss: 0.2716 - acc: 0.8968 - val_loss: 0.3444 - val_acc: 0.8789\n",
            "Epoch 81/100\n",
            "Epoch 1/100\n",
            "235/235 - 24s - loss: 0.2684 - acc: 0.8970 - val_loss: 0.3287 - val_acc: 0.8830\n",
            "Epoch 82/100\n",
            "Epoch 1/100\n",
            "235/235 - 25s - loss: 0.2704 - acc: 0.8977 - val_loss: 0.3380 - val_acc: 0.8768\n",
            "Epoch 83/100\n",
            "Epoch 1/100\n",
            "235/235 - 25s - loss: 0.2703 - acc: 0.8969 - val_loss: 0.3378 - val_acc: 0.8759\n",
            "Epoch 84/100\n",
            "Epoch 1/100\n",
            "235/235 - 25s - loss: 0.2690 - acc: 0.8976 - val_loss: 0.3556 - val_acc: 0.8771\n",
            "Epoch 85/100\n",
            "Epoch 1/100\n",
            "235/235 - 25s - loss: 0.2680 - acc: 0.8974 - val_loss: 0.3237 - val_acc: 0.8841\n",
            "Epoch 86/100\n",
            "Epoch 1/100\n",
            "235/235 - 25s - loss: 0.2662 - acc: 0.8990 - val_loss: 0.3398 - val_acc: 0.8776\n",
            "Epoch 87/100\n",
            "Epoch 1/100\n",
            "235/235 - 25s - loss: 0.2685 - acc: 0.8975 - val_loss: 0.3571 - val_acc: 0.8716\n",
            "Epoch 88/100\n",
            "Epoch 1/100\n",
            "235/235 - 25s - loss: 0.2692 - acc: 0.8972 - val_loss: 0.3274 - val_acc: 0.8824\n",
            "Epoch 89/100\n",
            "Epoch 1/100\n",
            "235/235 - 25s - loss: 0.2678 - acc: 0.8980 - val_loss: 0.3277 - val_acc: 0.8840\n",
            "Epoch 90/100\n",
            "Epoch 1/100\n",
            "235/235 - 25s - loss: 0.2657 - acc: 0.8985 - val_loss: 0.3293 - val_acc: 0.8813\n",
            "Epoch 91/100\n",
            "Epoch 1/100\n",
            "235/235 - 25s - loss: 0.2669 - acc: 0.8988 - val_loss: 0.3432 - val_acc: 0.8765\n",
            "Epoch 92/100\n",
            "Epoch 1/100\n",
            "235/235 - 25s - loss: 0.2662 - acc: 0.8980 - val_loss: 0.3376 - val_acc: 0.8761\n",
            "Epoch 93/100\n",
            "Epoch 1/100\n",
            "235/235 - 25s - loss: 0.2669 - acc: 0.8985 - val_loss: 0.3276 - val_acc: 0.8813\n",
            "Epoch 94/100\n",
            "Epoch 1/100\n",
            "235/235 - 25s - loss: 0.2675 - acc: 0.8978 - val_loss: 0.3343 - val_acc: 0.8788\n",
            "Epoch 95/100\n",
            "Epoch 1/100\n",
            "235/235 - 25s - loss: 0.2670 - acc: 0.8984 - val_loss: 0.3323 - val_acc: 0.8809\n",
            "Epoch 96/100\n",
            "Epoch 1/100\n",
            "235/235 - 25s - loss: 0.2656 - acc: 0.8992 - val_loss: 0.3378 - val_acc: 0.8755\n",
            "Epoch 97/100\n",
            "Epoch 1/100\n",
            "235/235 - 25s - loss: 0.2645 - acc: 0.8989 - val_loss: 0.3286 - val_acc: 0.8786\n",
            "Epoch 98/100\n",
            "Epoch 1/100\n",
            "235/235 - 25s - loss: 0.2663 - acc: 0.8976 - val_loss: 0.3321 - val_acc: 0.8770\n",
            "Epoch 99/100\n",
            "Epoch 1/100\n",
            "235/235 - 25s - loss: 0.2619 - acc: 0.9000 - val_loss: 0.3330 - val_acc: 0.8785\n",
            "Epoch 100/100\n",
            "Epoch 1/100\n",
            "235/235 - 25s - loss: 0.2647 - acc: 0.8999 - val_loss: 0.3427 - val_acc: 0.8771\n"
          ],
          "name": "stdout"
        }
      ]
    },
    {
      "cell_type": "code",
      "metadata": {
        "id": "J9n4ccHQuaA7",
        "colab_type": "code",
        "colab": {
          "base_uri": "https://localhost:8080/",
          "height": 34
        },
        "outputId": "329c8e7a-597b-45fd-9132-603080b6c5f9"
      },
      "source": [
        "test_loss, test_acc = model_2.evaluate(x_test, y_test, verbose=2)"
      ],
      "execution_count": 15,
      "outputs": [
        {
          "output_type": "stream",
          "text": [
            "10000/10000 - 1s - loss: 0.3245 - acc: 0.8853\n"
          ],
          "name": "stdout"
        }
      ]
    },
    {
      "cell_type": "code",
      "metadata": {
        "id": "U9XPSoInaaVz",
        "colab_type": "code",
        "colab": {
          "base_uri": "https://localhost:8080/",
          "height": 300
        },
        "outputId": "0ca70fbe-5466-4476-c949-a389f924a07d"
      },
      "source": [
        "plt.plot(history.history['acc'], label='accuracy')\n",
        "plt.plot(history.history['val_acc'], label = 'val_accuracy')\n",
        "plt.xlabel('Epoch')\n",
        "plt.ylabel('Accuracy')\n",
        "plt.ylim([0.5, 1])\n",
        "plt.legend(loc='lower right')\n",
        "# plt.savefig(\"ann_acc.png\", dpi=500)"
      ],
      "execution_count": 16,
      "outputs": [
        {
          "output_type": "execute_result",
          "data": {
            "text/plain": [
              "<matplotlib.legend.Legend at 0x7f0c324df518>"
            ]
          },
          "metadata": {
            "tags": []
          },
          "execution_count": 16
        },
        {
          "output_type": "display_data",
          "data": {
            "image/png": "[encoded data removed]",
            "text/plain": [
              "<Figure size 432x288 with 1 Axes>"
            ]
          },
          "metadata": {
            "tags": []
          }
        }
      ]
    },
    {
      "cell_type": "code",
      "metadata": {
        "id": "dn7japVXackM",
        "colab_type": "code",
        "colab": {
          "base_uri": "https://localhost:8080/",
          "height": 300
        },
        "outputId": "aa0d9166-0bff-4338-bd7a-183ea2a30418"
      },
      "source": [
        "plt.plot(history.history['loss'], label='loss')\n",
        "plt.plot(history.history['val_loss'], label = 'val_loss')\n",
        "plt.xlabel('Epoch')\n",
        "plt.ylabel('loss')\n",
        "plt.ylim([0, .5])\n",
        "plt.legend(loc='upper right')\n",
        "# plt.savefig(\"ann_loss.png\", dpi=500)"
      ],
      "execution_count": 17,
      "outputs": [
        {
          "output_type": "execute_result",
          "data": {
            "text/plain": [
              "<matplotlib.legend.Legend at 0x7f0c324beba8>"
            ]
          },
          "metadata": {
            "tags": []
          },
          "execution_count": 17
        },
        {
          "output_type": "display_data",
          "data": {
            "image/png": "[encoded data removed]",
            "text/plain": [
              "<Figure size 432x288 with 1 Axes>"
            ]
          },
          "metadata": {
            "tags": []
          }
        }
      ]
    },
    {
      "cell_type": "code",
      "metadata": {
        "id": "63bI94ifud2J",
        "colab_type": "code",
        "colab": {}
      },
      "source": [
        "model_2.save('DNN_Adam_200.h5')"
      ],
      "execution_count": 0,
      "outputs": []
    },
    {
      "cell_type": "code",
      "metadata": {
        "id": "ZCy_N1EAuguB",
        "colab_type": "code",
        "colab": {}
      },
      "source": [
        "model_3 = models.load_model('DNN_Adam_200.h5')"
      ],
      "execution_count": 0,
      "outputs": []
    },
    {
      "cell_type": "code",
      "metadata": {
        "id": "3EZHezTJumiU",
        "colab_type": "code",
        "colab": {}
      },
      "source": [
        "epoch = 100\n",
        "batch_size = 512\n",
        "learning_rate = 5e-3"
      ],
      "execution_count": 0,
      "outputs": []
    },
    {
      "cell_type": "code",
      "metadata": {
        "id": "i3VSjU6KurbZ",
        "colab_type": "code",
        "colab": {
          "base_uri": "https://localhost:8080/",
          "height": 1000
        },
        "outputId": "e6975655-5410-4bef-ae81-ec8800a43aa9"
      },
      "source": [
        "sgd = optimizers.SGD(lr = learning_rate)\n",
        "model_3.compile(optimizer= sgd,\n",
        "              loss='sparse_categorical_crossentropy',\n",
        "              metrics=['accuracy'])\n",
        "aug = preprocessing.image.ImageDataGenerator(width_shift_range=0.1,\n",
        "                                             height_shift_range=0.1,\n",
        "                                             horizontal_flip=True)\n",
        "batches = aug.flow(x_train, y_train, batch_size=batch_size)\n",
        "val_batches = aug.flow(x_test, y_test, batch_size=batch_size)\n",
        "history = model_3.fit_generator(batches, \n",
        "                               epochs=epoch,\n",
        "                               validation_data=val_batches, verbose=2)"
      ],
      "execution_count": 21,
      "outputs": [
        {
          "output_type": "stream",
          "text": [
            "Epoch 1/100\n",
            "Epoch 1/100\n",
            "118/118 - 25s - loss: 0.2506 - acc: 0.9040 - val_loss: 0.3313 - val_acc: 0.8830\n",
            "Epoch 2/100\n",
            "Epoch 1/100\n",
            "118/118 - 23s - loss: 0.2472 - acc: 0.9053 - val_loss: 0.3347 - val_acc: 0.8833\n",
            "Epoch 3/100\n",
            "Epoch 1/100\n",
            "118/118 - 23s - loss: 0.2470 - acc: 0.9051 - val_loss: 0.3288 - val_acc: 0.8882\n",
            "Epoch 4/100\n",
            "Epoch 1/100\n",
            "118/118 - 23s - loss: 0.2484 - acc: 0.9049 - val_loss: 0.3399 - val_acc: 0.8837\n",
            "Epoch 5/100\n",
            "Epoch 1/100\n",
            "118/118 - 23s - loss: 0.2465 - acc: 0.9049 - val_loss: 0.3286 - val_acc: 0.8844\n",
            "Epoch 6/100\n",
            "Epoch 1/100\n",
            "118/118 - 23s - loss: 0.2469 - acc: 0.9062 - val_loss: 0.3302 - val_acc: 0.8865\n",
            "Epoch 7/100\n",
            "Epoch 1/100\n",
            "118/118 - 23s - loss: 0.2446 - acc: 0.9061 - val_loss: 0.3314 - val_acc: 0.8869\n",
            "Epoch 8/100\n",
            "Epoch 1/100\n",
            "118/118 - 23s - loss: 0.2455 - acc: 0.9062 - val_loss: 0.3426 - val_acc: 0.8823\n",
            "Epoch 9/100\n",
            "Epoch 1/100\n",
            "118/118 - 23s - loss: 0.2452 - acc: 0.9060 - val_loss: 0.3353 - val_acc: 0.8819\n",
            "Epoch 10/100\n",
            "Epoch 1/100\n",
            "118/118 - 23s - loss: 0.2462 - acc: 0.9058 - val_loss: 0.3192 - val_acc: 0.8881\n",
            "Epoch 11/100\n",
            "Epoch 1/100\n",
            "118/118 - 23s - loss: 0.2436 - acc: 0.9062 - val_loss: 0.3251 - val_acc: 0.8864\n",
            "Epoch 12/100\n",
            "Epoch 1/100\n",
            "118/118 - 23s - loss: 0.2448 - acc: 0.9069 - val_loss: 0.3316 - val_acc: 0.8860\n",
            "Epoch 13/100\n",
            "Epoch 1/100\n",
            "118/118 - 23s - loss: 0.2489 - acc: 0.9055 - val_loss: 0.3320 - val_acc: 0.8810\n",
            "Epoch 14/100\n",
            "Epoch 1/100\n",
            "118/118 - 23s - loss: 0.2411 - acc: 0.9069 - val_loss: 0.3342 - val_acc: 0.8821\n",
            "Epoch 15/100\n",
            "Epoch 1/100\n",
            "118/118 - 23s - loss: 0.2462 - acc: 0.9051 - val_loss: 0.3276 - val_acc: 0.8841\n",
            "Epoch 16/100\n",
            "Epoch 1/100\n",
            "118/118 - 23s - loss: 0.2459 - acc: 0.9063 - val_loss: 0.3231 - val_acc: 0.8832\n",
            "Epoch 17/100\n",
            "Epoch 1/100\n",
            "118/118 - 23s - loss: 0.2448 - acc: 0.9065 - val_loss: 0.3291 - val_acc: 0.8866\n",
            "Epoch 18/100\n",
            "Epoch 1/100\n",
            "118/118 - 23s - loss: 0.2443 - acc: 0.9065 - val_loss: 0.3292 - val_acc: 0.8850\n",
            "Epoch 19/100\n",
            "Epoch 1/100\n",
            "118/118 - 23s - loss: 0.2467 - acc: 0.9056 - val_loss: 0.3264 - val_acc: 0.8818\n",
            "Epoch 20/100\n",
            "Epoch 1/100\n",
            "118/118 - 23s - loss: 0.2442 - acc: 0.9068 - val_loss: 0.3398 - val_acc: 0.8806\n",
            "Epoch 21/100\n",
            "Epoch 1/100\n",
            "118/118 - 23s - loss: 0.2423 - acc: 0.9065 - val_loss: 0.3340 - val_acc: 0.8820\n",
            "Epoch 22/100\n",
            "Epoch 1/100\n",
            "118/118 - 23s - loss: 0.2475 - acc: 0.9051 - val_loss: 0.3285 - val_acc: 0.8861\n",
            "Epoch 23/100\n",
            "Epoch 1/100\n",
            "118/118 - 23s - loss: 0.2445 - acc: 0.9056 - val_loss: 0.3452 - val_acc: 0.8805\n",
            "Epoch 24/100\n",
            "Epoch 1/100\n",
            "118/118 - 23s - loss: 0.2440 - acc: 0.9053 - val_loss: 0.3311 - val_acc: 0.8867\n",
            "Epoch 25/100\n",
            "Epoch 1/100\n",
            "118/118 - 23s - loss: 0.2440 - acc: 0.9052 - val_loss: 0.3358 - val_acc: 0.8835\n",
            "Epoch 26/100\n",
            "Epoch 1/100\n",
            "118/118 - 23s - loss: 0.2420 - acc: 0.9068 - val_loss: 0.3387 - val_acc: 0.8846\n",
            "Epoch 27/100\n",
            "Epoch 1/100\n",
            "118/118 - 23s - loss: 0.2442 - acc: 0.9054 - val_loss: 0.3274 - val_acc: 0.8871\n",
            "Epoch 28/100\n",
            "Epoch 1/100\n",
            "118/118 - 23s - loss: 0.2451 - acc: 0.9051 - val_loss: 0.3291 - val_acc: 0.8814\n",
            "Epoch 29/100\n",
            "Epoch 1/100\n",
            "118/118 - 23s - loss: 0.2417 - acc: 0.9066 - val_loss: 0.3318 - val_acc: 0.8858\n",
            "Epoch 30/100\n",
            "Epoch 1/100\n",
            "118/118 - 23s - loss: 0.2431 - acc: 0.9079 - val_loss: 0.3308 - val_acc: 0.8858\n",
            "Epoch 31/100\n",
            "Epoch 1/100\n",
            "118/118 - 24s - loss: 0.2412 - acc: 0.9080 - val_loss: 0.3265 - val_acc: 0.8849\n",
            "Epoch 32/100\n",
            "Epoch 1/100\n",
            "118/118 - 23s - loss: 0.2419 - acc: 0.9083 - val_loss: 0.3368 - val_acc: 0.8786\n",
            "Epoch 33/100\n",
            "Epoch 1/100\n",
            "118/118 - 23s - loss: 0.2414 - acc: 0.9071 - val_loss: 0.3265 - val_acc: 0.8868\n",
            "Epoch 34/100\n",
            "Epoch 1/100\n",
            "118/118 - 24s - loss: 0.2399 - acc: 0.9083 - val_loss: 0.3258 - val_acc: 0.8838\n",
            "Epoch 35/100\n",
            "Epoch 1/100\n",
            "118/118 - 24s - loss: 0.2425 - acc: 0.9071 - val_loss: 0.3361 - val_acc: 0.8783\n",
            "Epoch 36/100\n",
            "Epoch 1/100\n",
            "118/118 - 23s - loss: 0.2447 - acc: 0.9062 - val_loss: 0.3419 - val_acc: 0.8764\n",
            "Epoch 37/100\n",
            "Epoch 1/100\n",
            "118/118 - 23s - loss: 0.2427 - acc: 0.9068 - val_loss: 0.3335 - val_acc: 0.8842\n",
            "Epoch 38/100\n",
            "Epoch 1/100\n",
            "118/118 - 23s - loss: 0.2433 - acc: 0.9070 - val_loss: 0.3254 - val_acc: 0.8849\n",
            "Epoch 39/100\n",
            "Epoch 1/100\n",
            "118/118 - 23s - loss: 0.2427 - acc: 0.9065 - val_loss: 0.3257 - val_acc: 0.8845\n",
            "Epoch 40/100\n",
            "Epoch 1/100\n",
            "118/118 - 23s - loss: 0.2403 - acc: 0.9078 - val_loss: 0.3303 - val_acc: 0.8851\n",
            "Epoch 41/100\n",
            "Epoch 1/100\n",
            "118/118 - 23s - loss: 0.2400 - acc: 0.9063 - val_loss: 0.3252 - val_acc: 0.8860\n",
            "Epoch 42/100\n",
            "Epoch 1/100\n",
            "118/118 - 23s - loss: 0.2423 - acc: 0.9078 - val_loss: 0.3205 - val_acc: 0.8871\n",
            "Epoch 43/100\n",
            "Epoch 1/100\n",
            "118/118 - 23s - loss: 0.2413 - acc: 0.9079 - val_loss: 0.3295 - val_acc: 0.8824\n",
            "Epoch 44/100\n",
            "Epoch 1/100\n",
            "118/118 - 23s - loss: 0.2430 - acc: 0.9068 - val_loss: 0.3247 - val_acc: 0.8855\n",
            "Epoch 45/100\n",
            "Epoch 1/100\n",
            "118/118 - 23s - loss: 0.2414 - acc: 0.9068 - val_loss: 0.3258 - val_acc: 0.8859\n",
            "Epoch 46/100\n",
            "Epoch 1/100\n",
            "118/118 - 23s - loss: 0.2397 - acc: 0.9074 - val_loss: 0.3289 - val_acc: 0.8851\n",
            "Epoch 47/100\n",
            "Epoch 1/100\n",
            "118/118 - 22s - loss: 0.2415 - acc: 0.9078 - val_loss: 0.3409 - val_acc: 0.8790\n",
            "Epoch 48/100\n",
            "Epoch 1/100\n",
            "118/118 - 23s - loss: 0.2399 - acc: 0.9079 - val_loss: 0.3287 - val_acc: 0.8857\n",
            "Epoch 49/100\n",
            "Epoch 1/100\n",
            "118/118 - 23s - loss: 0.2384 - acc: 0.9076 - val_loss: 0.3433 - val_acc: 0.8815\n",
            "Epoch 50/100\n",
            "Epoch 1/100\n",
            "118/118 - 23s - loss: 0.2432 - acc: 0.9059 - val_loss: 0.3325 - val_acc: 0.8865\n",
            "Epoch 51/100\n",
            "Epoch 1/100\n",
            "118/118 - 23s - loss: 0.2385 - acc: 0.9090 - val_loss: 0.3323 - val_acc: 0.8807\n",
            "Epoch 52/100\n",
            "Epoch 1/100\n",
            "118/118 - 23s - loss: 0.2370 - acc: 0.9100 - val_loss: 0.3519 - val_acc: 0.8807\n",
            "Epoch 53/100\n",
            "Epoch 1/100\n",
            "118/118 - 23s - loss: 0.2387 - acc: 0.9076 - val_loss: 0.3241 - val_acc: 0.8827\n",
            "Epoch 54/100\n",
            "Epoch 1/100\n",
            "118/118 - 23s - loss: 0.2385 - acc: 0.9085 - val_loss: 0.3394 - val_acc: 0.8807\n",
            "Epoch 55/100\n",
            "Epoch 1/100\n",
            "118/118 - 23s - loss: 0.2387 - acc: 0.9088 - val_loss: 0.3428 - val_acc: 0.8771\n",
            "Epoch 56/100\n",
            "Epoch 1/100\n",
            "118/118 - 23s - loss: 0.2362 - acc: 0.9097 - val_loss: 0.3365 - val_acc: 0.8794\n",
            "Epoch 57/100\n",
            "Epoch 1/100\n",
            "118/118 - 23s - loss: 0.2390 - acc: 0.9079 - val_loss: 0.3458 - val_acc: 0.8800\n",
            "Epoch 58/100\n",
            "Epoch 1/100\n",
            "118/118 - 23s - loss: 0.2379 - acc: 0.9094 - val_loss: 0.3323 - val_acc: 0.8846\n",
            "Epoch 59/100\n",
            "Epoch 1/100\n",
            "118/118 - 23s - loss: 0.2355 - acc: 0.9109 - val_loss: 0.3400 - val_acc: 0.8855\n",
            "Epoch 60/100\n",
            "Epoch 1/100\n",
            "118/118 - 23s - loss: 0.2394 - acc: 0.9074 - val_loss: 0.3397 - val_acc: 0.8862\n",
            "Epoch 61/100\n",
            "Epoch 1/100\n",
            "118/118 - 23s - loss: 0.2330 - acc: 0.9108 - val_loss: 0.3418 - val_acc: 0.8833\n",
            "Epoch 62/100\n",
            "Epoch 1/100\n",
            "118/118 - 23s - loss: 0.2355 - acc: 0.9096 - val_loss: 0.3419 - val_acc: 0.8822\n",
            "Epoch 63/100\n",
            "Epoch 1/100\n",
            "118/118 - 23s - loss: 0.2361 - acc: 0.9087 - val_loss: 0.3473 - val_acc: 0.8771\n",
            "Epoch 64/100\n",
            "Epoch 1/100\n",
            "118/118 - 23s - loss: 0.2331 - acc: 0.9109 - val_loss: 0.3385 - val_acc: 0.8822\n",
            "Epoch 65/100\n",
            "Epoch 1/100\n",
            "118/118 - 23s - loss: 0.2361 - acc: 0.9092 - val_loss: 0.3318 - val_acc: 0.8851\n",
            "Epoch 66/100\n",
            "Epoch 1/100\n",
            "118/118 - 22s - loss: 0.2343 - acc: 0.9092 - val_loss: 0.3229 - val_acc: 0.8898\n",
            "Epoch 67/100\n",
            "Epoch 1/100\n",
            "118/118 - 23s - loss: 0.2354 - acc: 0.9098 - val_loss: 0.3338 - val_acc: 0.8867\n",
            "Epoch 68/100\n",
            "Epoch 1/100\n",
            "118/118 - 23s - loss: 0.2341 - acc: 0.9100 - val_loss: 0.3373 - val_acc: 0.8840\n",
            "Epoch 69/100\n",
            "Epoch 1/100\n",
            "118/118 - 23s - loss: 0.2404 - acc: 0.9080 - val_loss: 0.3273 - val_acc: 0.8869\n",
            "Epoch 70/100\n",
            "Epoch 1/100\n",
            "118/118 - 23s - loss: 0.2354 - acc: 0.9091 - val_loss: 0.3253 - val_acc: 0.8862\n",
            "Epoch 71/100\n",
            "Epoch 1/100\n",
            "118/118 - 23s - loss: 0.2376 - acc: 0.9087 - val_loss: 0.3241 - val_acc: 0.8849\n",
            "Epoch 72/100\n",
            "Epoch 1/100\n",
            "118/118 - 23s - loss: 0.2336 - acc: 0.9100 - val_loss: 0.3286 - val_acc: 0.8857\n",
            "Epoch 73/100\n",
            "Epoch 1/100\n",
            "118/118 - 23s - loss: 0.2332 - acc: 0.9095 - val_loss: 0.3341 - val_acc: 0.8844\n",
            "Epoch 74/100\n",
            "Epoch 1/100\n",
            "118/118 - 23s - loss: 0.2339 - acc: 0.9097 - val_loss: 0.3279 - val_acc: 0.8862\n",
            "Epoch 75/100\n",
            "Epoch 1/100\n",
            "118/118 - 23s - loss: 0.2338 - acc: 0.9093 - val_loss: 0.3328 - val_acc: 0.8834\n",
            "Epoch 76/100\n",
            "Epoch 1/100\n",
            "118/118 - 23s - loss: 0.2366 - acc: 0.9092 - val_loss: 0.3433 - val_acc: 0.8825\n",
            "Epoch 77/100\n",
            "Epoch 1/100\n",
            "118/118 - 22s - loss: 0.2379 - acc: 0.9093 - val_loss: 0.3348 - val_acc: 0.8818\n",
            "Epoch 78/100\n",
            "Epoch 1/100\n",
            "118/118 - 23s - loss: 0.2355 - acc: 0.9104 - val_loss: 0.3410 - val_acc: 0.8856\n",
            "Epoch 79/100\n",
            "Epoch 1/100\n",
            "118/118 - 23s - loss: 0.2360 - acc: 0.9102 - val_loss: 0.3289 - val_acc: 0.8867\n",
            "Epoch 80/100\n",
            "Epoch 1/100\n",
            "118/118 - 23s - loss: 0.2334 - acc: 0.9095 - val_loss: 0.3330 - val_acc: 0.8877\n",
            "Epoch 81/100\n",
            "Epoch 1/100\n",
            "118/118 - 23s - loss: 0.2304 - acc: 0.9104 - val_loss: 0.3268 - val_acc: 0.8860\n",
            "Epoch 82/100\n",
            "Epoch 1/100\n",
            "118/118 - 23s - loss: 0.2332 - acc: 0.9096 - val_loss: 0.3371 - val_acc: 0.8838\n",
            "Epoch 83/100\n",
            "Epoch 1/100\n",
            "118/118 - 23s - loss: 0.2347 - acc: 0.9108 - val_loss: 0.3394 - val_acc: 0.8785\n",
            "Epoch 84/100\n",
            "Epoch 1/100\n",
            "118/118 - 23s - loss: 0.2346 - acc: 0.9109 - val_loss: 0.3326 - val_acc: 0.8855\n",
            "Epoch 85/100\n",
            "Epoch 1/100\n",
            "118/118 - 23s - loss: 0.2341 - acc: 0.9115 - val_loss: 0.3261 - val_acc: 0.8895\n",
            "Epoch 86/100\n",
            "Epoch 1/100\n",
            "118/118 - 23s - loss: 0.2324 - acc: 0.9112 - val_loss: 0.3371 - val_acc: 0.8831\n",
            "Epoch 87/100\n",
            "Epoch 1/100\n",
            "118/118 - 23s - loss: 0.2331 - acc: 0.9100 - val_loss: 0.3390 - val_acc: 0.8840\n",
            "Epoch 88/100\n",
            "Epoch 1/100\n",
            "118/118 - 23s - loss: 0.2314 - acc: 0.9115 - val_loss: 0.3326 - val_acc: 0.8820\n",
            "Epoch 89/100\n",
            "Epoch 1/100\n",
            "118/118 - 22s - loss: 0.2318 - acc: 0.9114 - val_loss: 0.3330 - val_acc: 0.8826\n",
            "Epoch 90/100\n",
            "Epoch 1/100\n",
            "118/118 - 23s - loss: 0.2330 - acc: 0.9104 - val_loss: 0.3230 - val_acc: 0.8862\n",
            "Epoch 91/100\n",
            "Epoch 1/100\n",
            "118/118 - 23s - loss: 0.2323 - acc: 0.9102 - val_loss: 0.3309 - val_acc: 0.8857\n",
            "Epoch 92/100\n",
            "Epoch 1/100\n",
            "118/118 - 23s - loss: 0.2318 - acc: 0.9096 - val_loss: 0.3378 - val_acc: 0.8808\n",
            "Epoch 93/100\n",
            "Epoch 1/100\n",
            "118/118 - 23s - loss: 0.2338 - acc: 0.9106 - val_loss: 0.3302 - val_acc: 0.8872\n",
            "Epoch 94/100\n",
            "Epoch 1/100\n",
            "118/118 - 23s - loss: 0.2321 - acc: 0.9104 - val_loss: 0.3269 - val_acc: 0.8876\n",
            "Epoch 95/100\n",
            "Epoch 1/100\n",
            "118/118 - 23s - loss: 0.2313 - acc: 0.9116 - val_loss: 0.3272 - val_acc: 0.8878\n",
            "Epoch 96/100\n",
            "Epoch 1/100\n",
            "118/118 - 23s - loss: 0.2332 - acc: 0.9103 - val_loss: 0.3304 - val_acc: 0.8840\n",
            "Epoch 97/100\n",
            "Epoch 1/100\n",
            "118/118 - 23s - loss: 0.2312 - acc: 0.9097 - val_loss: 0.3247 - val_acc: 0.8855\n",
            "Epoch 98/100\n",
            "Epoch 1/100\n",
            "118/118 - 23s - loss: 0.2310 - acc: 0.9097 - val_loss: 0.3297 - val_acc: 0.8896\n",
            "Epoch 99/100\n",
            "Epoch 1/100\n",
            "118/118 - 23s - loss: 0.2323 - acc: 0.9100 - val_loss: 0.3371 - val_acc: 0.8829\n",
            "Epoch 100/100\n",
            "Epoch 1/100\n",
            "118/118 - 23s - loss: 0.2303 - acc: 0.9103 - val_loss: 0.3259 - val_acc: 0.8913\n"
          ],
          "name": "stdout"
        }
      ]
    },
    {
      "cell_type": "code",
      "metadata": {
        "id": "Khqccfwau2ez",
        "colab_type": "code",
        "colab": {
          "base_uri": "https://localhost:8080/",
          "height": 34
        },
        "outputId": "cd6bb106-1f47-4b4b-bc56-cb2650958fd0"
      },
      "source": [
        "test_loss, test_acc = model_3.evaluate(x_test, y_test, verbose=2)"
      ],
      "execution_count": 22,
      "outputs": [
        {
          "output_type": "stream",
          "text": [
            "10000/10000 - 1s - loss: 0.3062 - acc: 0.8965\n"
          ],
          "name": "stdout"
        }
      ]
    },
    {
      "cell_type": "code",
      "metadata": {
        "id": "UAe0W1eiu6bC",
        "colab_type": "code",
        "colab": {
          "base_uri": "https://localhost:8080/",
          "height": 300
        },
        "outputId": "038e486b-4ae8-4143-e680-5ba6c2c416ad"
      },
      "source": [
        "plt.plot(history.history['acc'], label='accuracy')\n",
        "plt.plot(history.history['val_acc'], label = 'val_accuracy')\n",
        "plt.xlabel('Epoch')\n",
        "plt.ylabel('Accuracy')\n",
        "plt.ylim([0.5, 1])\n",
        "plt.legend(loc='lower right')\n",
        "# plt.savefig(\"ann_acc.png\", dpi=500)"
      ],
      "execution_count": 23,
      "outputs": [
        {
          "output_type": "execute_result",
          "data": {
            "text/plain": [
              "<matplotlib.legend.Legend at 0x7f0c2f977438>"
            ]
          },
          "metadata": {
            "tags": []
          },
          "execution_count": 23
        },
        {
          "output_type": "display_data",
          "data": {
            "image/png": "[encoded data removed]",
            "text/plain": [
              "<Figure size 432x288 with 1 Axes>"
            ]
          },
          "metadata": {
            "tags": []
          }
        }
      ]
    },
    {
      "cell_type": "code",
      "metadata": {
        "id": "-X1Qs1DAu6dQ",
        "colab_type": "code",
        "colab": {
          "base_uri": "https://localhost:8080/",
          "height": 300
        },
        "outputId": "b5eba189-1f85-4936-bcfb-a35fda4b108b"
      },
      "source": [
        "plt.plot(history.history['loss'], label='loss')\n",
        "plt.plot(history.history['val_loss'], label = 'val_loss')\n",
        "plt.xlabel('Epoch')\n",
        "plt.ylabel('loss')\n",
        "plt.ylim([0, .5])\n",
        "plt.legend(loc='upper right')\n",
        "# plt.savefig(\"ann_loss.png\", dpi=500)"
      ],
      "execution_count": 24,
      "outputs": [
        {
          "output_type": "execute_result",
          "data": {
            "text/plain": [
              "<matplotlib.legend.Legend at 0x7f0c2f0ffa58>"
            ]
          },
          "metadata": {
            "tags": []
          },
          "execution_count": 24
        },
        {
          "output_type": "display_data",
          "data": {
            "image/png": "[encoded data removed]",
            "text/plain": [
              "<Figure size 432x288 with 1 Axes>"
            ]
          },
          "metadata": {
            "tags": []
          }
        }
      ]
    },
    {
      "cell_type": "code",
      "metadata": {
        "id": "cz5UPBibZ2lp",
        "colab_type": "code",
        "colab": {}
      },
      "source": [
        "model_3.save('DNN_Adam_300.h5')"
      ],
      "execution_count": 0,
      "outputs": []
    },
    {
      "cell_type": "code",
      "metadata": {
        "id": "xtjb_6Y7aFlh",
        "colab_type": "code",
        "colab": {}
      },
      "source": [
        "model_4 = models.load_model('DNN_Adam_300.h5')"
      ],
      "execution_count": 0,
      "outputs": []
    },
    {
      "cell_type": "code",
      "metadata": {
        "id": "Y-RM7AwxaNGv",
        "colab_type": "code",
        "colab": {}
      },
      "source": [
        "epoch = 50\n",
        "batch_size = 1024\n",
        "learning_rate = 1e-3"
      ],
      "execution_count": 0,
      "outputs": []
    },
    {
      "cell_type": "code",
      "metadata": {
        "id": "orxcuJmZaSsI",
        "colab_type": "code",
        "colab": {
          "base_uri": "https://localhost:8080/",
          "height": 1000
        },
        "outputId": "6a701ec2-ed79-4dca-9885-e75b5299c583"
      },
      "source": [
        "sgd = optimizers.SGD(lr = learning_rate)\n",
        "model_4.compile(optimizer= sgd,\n",
        "              loss='sparse_categorical_crossentropy',\n",
        "              metrics=['accuracy'])\n",
        "aug = preprocessing.image.ImageDataGenerator(width_shift_range=0.1,\n",
        "                                             height_shift_range=0.1,\n",
        "                                             horizontal_flip=True)\n",
        "batches = aug.flow(x_train, y_train, batch_size=batch_size)\n",
        "val_batches = aug.flow(x_test, y_test, batch_size=batch_size)\n",
        "history = model_4.fit_generator(batches, \n",
        "                               epochs=epoch,\n",
        "                               validation_data=val_batches, verbose=2)"
      ],
      "execution_count": 28,
      "outputs": [
        {
          "output_type": "stream",
          "text": [
            "Epoch 1/50\n",
            "Epoch 1/50\n",
            "59/59 - 27s - loss: 0.2230 - acc: 0.9142 - val_loss: 0.3253 - val_acc: 0.8881\n",
            "Epoch 2/50\n",
            "Epoch 1/50\n",
            "59/59 - 23s - loss: 0.2208 - acc: 0.9157 - val_loss: 0.3244 - val_acc: 0.8879\n",
            "Epoch 3/50\n",
            "Epoch 1/50\n",
            "59/59 - 23s - loss: 0.2218 - acc: 0.9143 - val_loss: 0.3215 - val_acc: 0.8874\n",
            "Epoch 4/50\n",
            "Epoch 1/50\n",
            "59/59 - 23s - loss: 0.2196 - acc: 0.9157 - val_loss: 0.3201 - val_acc: 0.8896\n",
            "Epoch 5/50\n",
            "Epoch 1/50\n",
            "59/59 - 23s - loss: 0.2202 - acc: 0.9154 - val_loss: 0.3154 - val_acc: 0.8915\n",
            "Epoch 6/50\n",
            "Epoch 1/50\n",
            "59/59 - 23s - loss: 0.2202 - acc: 0.9156 - val_loss: 0.3157 - val_acc: 0.8938\n",
            "Epoch 7/50\n",
            "Epoch 1/50\n",
            "59/59 - 23s - loss: 0.2237 - acc: 0.9140 - val_loss: 0.3174 - val_acc: 0.8896\n",
            "Epoch 8/50\n",
            "Epoch 1/50\n",
            "59/59 - 22s - loss: 0.2216 - acc: 0.9136 - val_loss: 0.3131 - val_acc: 0.8926\n",
            "Epoch 9/50\n",
            "Epoch 1/50\n",
            "59/59 - 23s - loss: 0.2190 - acc: 0.9161 - val_loss: 0.3227 - val_acc: 0.8903\n",
            "Epoch 10/50\n",
            "Epoch 1/50\n",
            "59/59 - 23s - loss: 0.2195 - acc: 0.9148 - val_loss: 0.3172 - val_acc: 0.8898\n",
            "Epoch 11/50\n",
            "Epoch 1/50\n",
            "59/59 - 23s - loss: 0.2205 - acc: 0.9147 - val_loss: 0.3184 - val_acc: 0.8886\n",
            "Epoch 12/50\n",
            "Epoch 1/50\n",
            "59/59 - 23s - loss: 0.2190 - acc: 0.9151 - val_loss: 0.3186 - val_acc: 0.8903\n",
            "Epoch 13/50\n",
            "Epoch 1/50\n",
            "59/59 - 23s - loss: 0.2220 - acc: 0.9153 - val_loss: 0.3223 - val_acc: 0.8920\n",
            "Epoch 14/50\n",
            "Epoch 1/50\n",
            "59/59 - 23s - loss: 0.2188 - acc: 0.9162 - val_loss: 0.3204 - val_acc: 0.8900\n",
            "Epoch 15/50\n",
            "Epoch 1/50\n",
            "59/59 - 23s - loss: 0.2207 - acc: 0.9141 - val_loss: 0.3256 - val_acc: 0.8911\n",
            "Epoch 16/50\n",
            "Epoch 1/50\n",
            "59/59 - 23s - loss: 0.2209 - acc: 0.9149 - val_loss: 0.3136 - val_acc: 0.8931\n",
            "Epoch 17/50\n",
            "Epoch 1/50\n",
            "59/59 - 23s - loss: 0.2215 - acc: 0.9144 - val_loss: 0.3246 - val_acc: 0.8906\n",
            "Epoch 18/50\n",
            "Epoch 1/50\n",
            "59/59 - 23s - loss: 0.2202 - acc: 0.9152 - val_loss: 0.3278 - val_acc: 0.8892\n",
            "Epoch 19/50\n",
            "Epoch 1/50\n",
            "59/59 - 23s - loss: 0.2199 - acc: 0.9149 - val_loss: 0.3166 - val_acc: 0.8878\n",
            "Epoch 20/50\n",
            "Epoch 1/50\n",
            "59/59 - 23s - loss: 0.2217 - acc: 0.9148 - val_loss: 0.3244 - val_acc: 0.8879\n",
            "Epoch 21/50\n",
            "Epoch 1/50\n",
            "59/59 - 23s - loss: 0.2211 - acc: 0.9147 - val_loss: 0.3194 - val_acc: 0.8883\n",
            "Epoch 22/50\n",
            "Epoch 1/50\n",
            "59/59 - 23s - loss: 0.2203 - acc: 0.9154 - val_loss: 0.3202 - val_acc: 0.8914\n",
            "Epoch 23/50\n",
            "Epoch 1/50\n",
            "59/59 - 23s - loss: 0.2227 - acc: 0.9141 - val_loss: 0.3166 - val_acc: 0.8918\n",
            "Epoch 24/50\n",
            "Epoch 1/50\n",
            "59/59 - 23s - loss: 0.2196 - acc: 0.9160 - val_loss: 0.3264 - val_acc: 0.8912\n",
            "Epoch 25/50\n",
            "Epoch 1/50\n",
            "59/59 - 23s - loss: 0.2199 - acc: 0.9155 - val_loss: 0.3227 - val_acc: 0.8890\n",
            "Epoch 26/50\n",
            "Epoch 1/50\n",
            "59/59 - 23s - loss: 0.2219 - acc: 0.9141 - val_loss: 0.3101 - val_acc: 0.8941\n",
            "Epoch 27/50\n",
            "Epoch 1/50\n",
            "59/59 - 22s - loss: 0.2211 - acc: 0.9146 - val_loss: 0.3172 - val_acc: 0.8934\n",
            "Epoch 28/50\n",
            "Epoch 1/50\n",
            "59/59 - 23s - loss: 0.2205 - acc: 0.9146 - val_loss: 0.3154 - val_acc: 0.8932\n",
            "Epoch 29/50\n",
            "Epoch 1/50\n",
            "59/59 - 23s - loss: 0.2196 - acc: 0.9155 - val_loss: 0.3178 - val_acc: 0.8885\n",
            "Epoch 30/50\n",
            "Epoch 1/50\n",
            "59/59 - 22s - loss: 0.2200 - acc: 0.9144 - val_loss: 0.3095 - val_acc: 0.8974\n",
            "Epoch 31/50\n",
            "Epoch 1/50\n",
            "59/59 - 23s - loss: 0.2210 - acc: 0.9149 - val_loss: 0.3185 - val_acc: 0.8929\n",
            "Epoch 32/50\n",
            "Epoch 1/50\n",
            "59/59 - 23s - loss: 0.2198 - acc: 0.9142 - val_loss: 0.3199 - val_acc: 0.8922\n",
            "Epoch 33/50\n",
            "Epoch 1/50\n",
            "59/59 - 23s - loss: 0.2227 - acc: 0.9144 - val_loss: 0.3200 - val_acc: 0.8895\n",
            "Epoch 34/50\n",
            "Epoch 1/50\n",
            "59/59 - 22s - loss: 0.2192 - acc: 0.9160 - val_loss: 0.3211 - val_acc: 0.8921\n",
            "Epoch 35/50\n",
            "Epoch 1/50\n",
            "59/59 - 22s - loss: 0.2183 - acc: 0.9157 - val_loss: 0.3209 - val_acc: 0.8857\n",
            "Epoch 36/50\n",
            "Epoch 1/50\n",
            "59/59 - 23s - loss: 0.2230 - acc: 0.9136 - val_loss: 0.3183 - val_acc: 0.8904\n",
            "Epoch 37/50\n",
            "Epoch 1/50\n",
            "59/59 - 23s - loss: 0.2221 - acc: 0.9155 - val_loss: 0.3146 - val_acc: 0.8910\n",
            "Epoch 38/50\n",
            "Epoch 1/50\n",
            "59/59 - 22s - loss: 0.2217 - acc: 0.9140 - val_loss: 0.3219 - val_acc: 0.8897\n",
            "Epoch 39/50\n",
            "Epoch 1/50\n",
            "59/59 - 23s - loss: 0.2176 - acc: 0.9158 - val_loss: 0.3051 - val_acc: 0.8943\n",
            "Epoch 40/50\n",
            "Epoch 1/50\n",
            "59/59 - 23s - loss: 0.2196 - acc: 0.9156 - val_loss: 0.3267 - val_acc: 0.8876\n",
            "Epoch 41/50\n",
            "Epoch 1/50\n",
            "59/59 - 23s - loss: 0.2202 - acc: 0.9156 - val_loss: 0.3272 - val_acc: 0.8860\n",
            "Epoch 42/50\n",
            "Epoch 1/50\n",
            "59/59 - 23s - loss: 0.2226 - acc: 0.9140 - val_loss: 0.3108 - val_acc: 0.8920\n",
            "Epoch 43/50\n",
            "Epoch 1/50\n",
            "59/59 - 23s - loss: 0.2210 - acc: 0.9159 - val_loss: 0.3110 - val_acc: 0.8890\n",
            "Epoch 44/50\n",
            "Epoch 1/50\n",
            "59/59 - 23s - loss: 0.2213 - acc: 0.9143 - val_loss: 0.3162 - val_acc: 0.8884\n",
            "Epoch 45/50\n",
            "Epoch 1/50\n",
            "59/59 - 23s - loss: 0.2203 - acc: 0.9147 - val_loss: 0.3210 - val_acc: 0.8900\n",
            "Epoch 46/50\n",
            "Epoch 1/50\n",
            "59/59 - 22s - loss: 0.2202 - acc: 0.9150 - val_loss: 0.3235 - val_acc: 0.8866\n",
            "Epoch 47/50\n",
            "Epoch 1/50\n",
            "59/59 - 22s - loss: 0.2224 - acc: 0.9139 - val_loss: 0.3220 - val_acc: 0.8880\n",
            "Epoch 48/50\n",
            "Epoch 1/50\n",
            "59/59 - 23s - loss: 0.2189 - acc: 0.9146 - val_loss: 0.3138 - val_acc: 0.8911\n",
            "Epoch 49/50\n",
            "Epoch 1/50\n",
            "59/59 - 23s - loss: 0.2200 - acc: 0.9149 - val_loss: 0.3134 - val_acc: 0.8917\n",
            "Epoch 50/50\n",
            "Epoch 1/50\n",
            "59/59 - 23s - loss: 0.2213 - acc: 0.9161 - val_loss: 0.3090 - val_acc: 0.8933\n"
          ],
          "name": "stdout"
        }
      ]
    },
    {
      "cell_type": "code",
      "metadata": {
        "id": "RduEsWOlaks_",
        "colab_type": "code",
        "colab": {
          "base_uri": "https://localhost:8080/",
          "height": 34
        },
        "outputId": "9c36a4a5-f24c-47da-cd3d-9754867586fb"
      },
      "source": [
        "test_loss, test_acc = model_4.evaluate(x_test, y_test, verbose=2)"
      ],
      "execution_count": 29,
      "outputs": [
        {
          "output_type": "stream",
          "text": [
            "10000/10000 - 2s - loss: 0.2956 - acc: 0.9011\n"
          ],
          "name": "stdout"
        }
      ]
    },
    {
      "cell_type": "code",
      "metadata": {
        "id": "_BUXTZM7amYv",
        "colab_type": "code",
        "colab": {
          "base_uri": "https://localhost:8080/",
          "height": 300
        },
        "outputId": "f9069b0b-e28d-4c29-e69d-664857354d52"
      },
      "source": [
        "plt.plot(history.history['acc'], label='accuracy')\n",
        "plt.plot(history.history['val_acc'], label = 'val_accuracy')\n",
        "plt.xlabel('Epoch')\n",
        "plt.ylabel('Accuracy')\n",
        "plt.ylim([0.5, 1])\n",
        "plt.legend(loc='lower right')\n",
        "# plt.savefig(\"ann_acc.png\", dpi=500)"
      ],
      "execution_count": 30,
      "outputs": [
        {
          "output_type": "execute_result",
          "data": {
            "text/plain": [
              "<matplotlib.legend.Legend at 0x7f0c2b024d68>"
            ]
          },
          "metadata": {
            "tags": []
          },
          "execution_count": 30
        },
        {
          "output_type": "display_data",
          "data": {
            "image/png": "[encoded data removed]",
            "text/plain": [
              "<Figure size 432x288 with 1 Axes>"
            ]
          },
          "metadata": {
            "tags": []
          }
        }
      ]
    },
    {
      "cell_type": "code",
      "metadata": {
        "id": "wmZKF_h_axCs",
        "colab_type": "code",
        "colab": {
          "base_uri": "https://localhost:8080/",
          "height": 300
        },
        "outputId": "b3965768-4199-4e85-8ed1-74b07c41efa6"
      },
      "source": [
        "plt.plot(history.history['loss'], label='loss')\n",
        "plt.plot(history.history['val_loss'], label = 'val_loss')\n",
        "plt.xlabel('Epoch')\n",
        "plt.ylabel('loss')\n",
        "plt.ylim([0, .5])\n",
        "plt.legend(loc='upper right')\n",
        "# plt.savefig(\"ann_loss.png\", dpi=500)"
      ],
      "execution_count": 31,
      "outputs": [
        {
          "output_type": "execute_result",
          "data": {
            "text/plain": [
              "<matplotlib.legend.Legend at 0x7f0c2ac8a780>"
            ]
          },
          "metadata": {
            "tags": []
          },
          "execution_count": 31
        },
        {
          "output_type": "display_data",
          "data": {
            "image/png": "[encoded data removed]",
            "text/plain": [
              "<Figure size 432x288 with 1 Axes>"
            ]
          },
          "metadata": {
            "tags": []
          }
        }
      ]
    },
    {
      "cell_type": "code",
      "metadata": {
        "id": "5v9emsPXgKwp",
        "colab_type": "code",
        "colab": {}
      },
      "source": [
        "model_4.save('DNN_Adam_350.h5')"
      ],
      "execution_count": 0,
      "outputs": []
    },
    {
      "cell_type": "code",
      "metadata": {
        "id": "D3fVyEIPgMMS",
        "colab_type": "code",
        "colab": {}
      },
      "source": [
        "model_5 = models.load_model('DNN_Adam_350.h5')"
      ],
      "execution_count": 0,
      "outputs": []
    },
    {
      "cell_type": "code",
      "metadata": {
        "colab_type": "code",
        "id": "jZMc7igrbQ79",
        "colab": {}
      },
      "source": [
        "epoch = 50\n",
        "batch_size = 2048\n",
        "learning_rate = 1e-3"
      ],
      "execution_count": 0,
      "outputs": []
    },
    {
      "cell_type": "code",
      "metadata": {
        "colab_type": "code",
        "id": "IzZ2fyR9bQ8A",
        "colab": {
          "base_uri": "https://localhost:8080/",
          "height": 1000
        },
        "outputId": "efd20d8b-ce58-4404-92f5-dfe0f0bf78ca"
      },
      "source": [
        "sgd = optimizers.SGD(lr = learning_rate)\n",
        "model_5.compile(optimizer= sgd,\n",
        "              loss='sparse_categorical_crossentropy',\n",
        "              metrics=['accuracy'])\n",
        "aug = preprocessing.image.ImageDataGenerator(width_shift_range=0.1,\n",
        "                                             height_shift_range=0.1,\n",
        "                                             horizontal_flip=True)\n",
        "batches = aug.flow(x_train, y_train, batch_size=batch_size)\n",
        "val_batches = aug.flow(x_test, y_test, batch_size=batch_size)\n",
        "history = model_5.fit_generator(batches, \n",
        "                               epochs=epoch,\n",
        "                               validation_data=val_batches, verbose=2)"
      ],
      "execution_count": 35,
      "outputs": [
        {
          "output_type": "stream",
          "text": [
            "Epoch 1/50\n",
            "Epoch 1/50\n",
            "30/30 - 26s - loss: 0.2201 - acc: 0.9159 - val_loss: 0.3243 - val_acc: 0.8898\n",
            "Epoch 2/50\n",
            "Epoch 1/50\n",
            "30/30 - 22s - loss: 0.2177 - acc: 0.9162 - val_loss: 0.3132 - val_acc: 0.8923\n",
            "Epoch 3/50\n",
            "Epoch 1/50\n",
            "30/30 - 22s - loss: 0.2158 - acc: 0.9168 - val_loss: 0.3200 - val_acc: 0.8900\n",
            "Epoch 4/50\n",
            "Epoch 1/50\n",
            "30/30 - 22s - loss: 0.2196 - acc: 0.9152 - val_loss: 0.3215 - val_acc: 0.8908\n",
            "Epoch 5/50\n",
            "Epoch 1/50\n",
            "30/30 - 22s - loss: 0.2175 - acc: 0.9154 - val_loss: 0.3200 - val_acc: 0.8929\n",
            "Epoch 6/50\n",
            "Epoch 1/50\n",
            "30/30 - 22s - loss: 0.2163 - acc: 0.9168 - val_loss: 0.3170 - val_acc: 0.8917\n",
            "Epoch 7/50\n",
            "Epoch 1/50\n",
            "30/30 - 22s - loss: 0.2175 - acc: 0.9156 - val_loss: 0.3130 - val_acc: 0.8904\n",
            "Epoch 8/50\n",
            "Epoch 1/50\n",
            "30/30 - 22s - loss: 0.2186 - acc: 0.9159 - val_loss: 0.3128 - val_acc: 0.8935\n",
            "Epoch 9/50\n",
            "Epoch 1/50\n",
            "30/30 - 22s - loss: 0.2196 - acc: 0.9144 - val_loss: 0.3171 - val_acc: 0.8905\n",
            "Epoch 10/50\n",
            "Epoch 1/50\n",
            "30/30 - 22s - loss: 0.2164 - acc: 0.9161 - val_loss: 0.3147 - val_acc: 0.8911\n",
            "Epoch 11/50\n",
            "Epoch 1/50\n",
            "30/30 - 22s - loss: 0.2174 - acc: 0.9156 - val_loss: 0.3201 - val_acc: 0.8904\n",
            "Epoch 12/50\n",
            "Epoch 1/50\n",
            "30/30 - 22s - loss: 0.2172 - acc: 0.9162 - val_loss: 0.3197 - val_acc: 0.8932\n",
            "Epoch 13/50\n",
            "Epoch 1/50\n",
            "30/30 - 22s - loss: 0.2184 - acc: 0.9163 - val_loss: 0.3188 - val_acc: 0.8883\n",
            "Epoch 14/50\n",
            "Epoch 1/50\n",
            "30/30 - 22s - loss: 0.2184 - acc: 0.9156 - val_loss: 0.3179 - val_acc: 0.8887\n",
            "Epoch 15/50\n",
            "Epoch 1/50\n",
            "30/30 - 22s - loss: 0.2210 - acc: 0.9149 - val_loss: 0.3177 - val_acc: 0.8904\n",
            "Epoch 16/50\n",
            "Epoch 1/50\n",
            "30/30 - 22s - loss: 0.2177 - acc: 0.9161 - val_loss: 0.3185 - val_acc: 0.8928\n",
            "Epoch 17/50\n",
            "Epoch 1/50\n",
            "30/30 - 22s - loss: 0.2179 - acc: 0.9153 - val_loss: 0.3196 - val_acc: 0.8916\n",
            "Epoch 18/50\n",
            "Epoch 1/50\n",
            "30/30 - 22s - loss: 0.2183 - acc: 0.9165 - val_loss: 0.3161 - val_acc: 0.8878\n",
            "Epoch 19/50\n",
            "Epoch 1/50\n",
            "30/30 - 22s - loss: 0.2206 - acc: 0.9158 - val_loss: 0.3215 - val_acc: 0.8862\n",
            "Epoch 20/50\n",
            "Epoch 1/50\n",
            "30/30 - 22s - loss: 0.2161 - acc: 0.9159 - val_loss: 0.3210 - val_acc: 0.8916\n",
            "Epoch 21/50\n",
            "Epoch 1/50\n",
            "30/30 - 22s - loss: 0.2166 - acc: 0.9157 - val_loss: 0.3206 - val_acc: 0.8898\n",
            "Epoch 22/50\n",
            "Epoch 1/50\n",
            "30/30 - 22s - loss: 0.2163 - acc: 0.9159 - val_loss: 0.3131 - val_acc: 0.8929\n",
            "Epoch 23/50\n",
            "Epoch 1/50\n",
            "30/30 - 22s - loss: 0.2174 - acc: 0.9161 - val_loss: 0.3164 - val_acc: 0.8922\n",
            "Epoch 24/50\n",
            "Epoch 1/50\n",
            "30/30 - 22s - loss: 0.2180 - acc: 0.9144 - val_loss: 0.3185 - val_acc: 0.8899\n",
            "Epoch 25/50\n",
            "Epoch 1/50\n",
            "30/30 - 22s - loss: 0.2183 - acc: 0.9149 - val_loss: 0.3264 - val_acc: 0.8890\n",
            "Epoch 26/50\n",
            "Epoch 1/50\n",
            "30/30 - 22s - loss: 0.2213 - acc: 0.9153 - val_loss: 0.3246 - val_acc: 0.8875\n",
            "Epoch 27/50\n",
            "Epoch 1/50\n",
            "30/30 - 22s - loss: 0.2171 - acc: 0.9152 - val_loss: 0.3146 - val_acc: 0.8913\n",
            "Epoch 28/50\n",
            "Epoch 1/50\n",
            "30/30 - 22s - loss: 0.2161 - acc: 0.9158 - val_loss: 0.3213 - val_acc: 0.8906\n",
            "Epoch 29/50\n",
            "Epoch 1/50\n",
            "30/30 - 22s - loss: 0.2200 - acc: 0.9143 - val_loss: 0.3143 - val_acc: 0.8913\n",
            "Epoch 30/50\n",
            "Epoch 1/50\n",
            "30/30 - 22s - loss: 0.2189 - acc: 0.9171 - val_loss: 0.3228 - val_acc: 0.8902\n",
            "Epoch 31/50\n",
            "Epoch 1/50\n",
            "30/30 - 22s - loss: 0.2204 - acc: 0.9168 - val_loss: 0.3182 - val_acc: 0.8927\n",
            "Epoch 32/50\n",
            "Epoch 1/50\n",
            "30/30 - 22s - loss: 0.2193 - acc: 0.9150 - val_loss: 0.3231 - val_acc: 0.8913\n",
            "Epoch 33/50\n",
            "Epoch 1/50\n",
            "30/30 - 22s - loss: 0.2178 - acc: 0.9155 - val_loss: 0.3156 - val_acc: 0.8905\n",
            "Epoch 34/50\n",
            "Epoch 1/50\n",
            "30/30 - 22s - loss: 0.2209 - acc: 0.9151 - val_loss: 0.3166 - val_acc: 0.8917\n",
            "Epoch 35/50\n",
            "Epoch 1/50\n",
            "30/30 - 22s - loss: 0.2206 - acc: 0.9153 - val_loss: 0.3157 - val_acc: 0.8908\n",
            "Epoch 36/50\n",
            "Epoch 1/50\n",
            "30/30 - 23s - loss: 0.2198 - acc: 0.9152 - val_loss: 0.3207 - val_acc: 0.8908\n",
            "Epoch 37/50\n",
            "Epoch 1/50\n",
            "30/30 - 22s - loss: 0.2190 - acc: 0.9159 - val_loss: 0.3243 - val_acc: 0.8906\n",
            "Epoch 38/50\n",
            "Epoch 1/50\n",
            "30/30 - 22s - loss: 0.2180 - acc: 0.9149 - val_loss: 0.3150 - val_acc: 0.8914\n",
            "Epoch 39/50\n",
            "Epoch 1/50\n",
            "30/30 - 22s - loss: 0.2200 - acc: 0.9162 - val_loss: 0.3062 - val_acc: 0.8942\n",
            "Epoch 40/50\n",
            "Epoch 1/50\n",
            "30/30 - 23s - loss: 0.2190 - acc: 0.9152 - val_loss: 0.3159 - val_acc: 0.8899\n",
            "Epoch 41/50\n",
            "Epoch 1/50\n",
            "30/30 - 22s - loss: 0.2174 - acc: 0.9165 - val_loss: 0.3179 - val_acc: 0.8892\n",
            "Epoch 42/50\n",
            "Epoch 1/50\n",
            "30/30 - 22s - loss: 0.2210 - acc: 0.9151 - val_loss: 0.3180 - val_acc: 0.8885\n",
            "Epoch 43/50\n",
            "Epoch 1/50\n",
            "30/30 - 22s - loss: 0.2180 - acc: 0.9150 - val_loss: 0.3132 - val_acc: 0.8913\n",
            "Epoch 44/50\n",
            "Epoch 1/50\n",
            "30/30 - 22s - loss: 0.2180 - acc: 0.9158 - val_loss: 0.3212 - val_acc: 0.8894\n",
            "Epoch 45/50\n",
            "Epoch 1/50\n",
            "30/30 - 22s - loss: 0.2172 - acc: 0.9162 - val_loss: 0.3231 - val_acc: 0.8896\n",
            "Epoch 46/50\n",
            "Epoch 1/50\n",
            "30/30 - 22s - loss: 0.2195 - acc: 0.9152 - val_loss: 0.3165 - val_acc: 0.8896\n",
            "Epoch 47/50\n",
            "Epoch 1/50\n",
            "30/30 - 24s - loss: 0.2182 - acc: 0.9156 - val_loss: 0.3131 - val_acc: 0.8938\n",
            "Epoch 48/50\n",
            "Epoch 1/50\n",
            "30/30 - 24s - loss: 0.2175 - acc: 0.9152 - val_loss: 0.3301 - val_acc: 0.8880\n",
            "Epoch 49/50\n",
            "Epoch 1/50\n",
            "30/30 - 23s - loss: 0.2154 - acc: 0.9167 - val_loss: 0.3216 - val_acc: 0.8871\n",
            "Epoch 50/50\n",
            "Epoch 1/50\n",
            "30/30 - 23s - loss: 0.2188 - acc: 0.9166 - val_loss: 0.3213 - val_acc: 0.8913\n"
          ],
          "name": "stdout"
        }
      ]
    },
    {
      "cell_type": "code",
      "metadata": {
        "colab_type": "code",
        "id": "5-PSJKt1bQ8D",
        "colab": {
          "base_uri": "https://localhost:8080/",
          "height": 34
        },
        "outputId": "a369f2e7-e8c9-4429-e66a-b9cb637e6667"
      },
      "source": [
        "test_loss, test_acc = model_5.evaluate(x_test, y_test, verbose=2)"
      ],
      "execution_count": 36,
      "outputs": [
        {
          "output_type": "stream",
          "text": [
            "10000/10000 - 2s - loss: 0.2955 - acc: 0.9005\n"
          ],
          "name": "stdout"
        }
      ]
    },
    {
      "cell_type": "code",
      "metadata": {
        "colab_type": "code",
        "id": "KYMzMuM4bQ8H",
        "colab": {
          "base_uri": "https://localhost:8080/",
          "height": 300
        },
        "outputId": "1b09020e-1f5f-43c5-8755-2896669a079f"
      },
      "source": [
        "plt.plot(history.history['acc'], label='accuracy')\n",
        "plt.plot(history.history['val_acc'], label = 'val_accuracy')\n",
        "plt.xlabel('Epoch')\n",
        "plt.ylabel('Accuracy')\n",
        "plt.ylim([0.5, 1])\n",
        "plt.legend(loc='lower right')\n",
        "# plt.savefig(\"ann_acc.png\", dpi=500)"
      ],
      "execution_count": 37,
      "outputs": [
        {
          "output_type": "execute_result",
          "data": {
            "text/plain": [
              "<matplotlib.legend.Legend at 0x7f0c2a9bc828>"
            ]
          },
          "metadata": {
            "tags": []
          },
          "execution_count": 37
        },
        {
          "output_type": "display_data",
          "data": {
            "image/png": "[encoded data removed]",
            "text/plain": [
              "<Figure size 432x288 with 1 Axes>"
            ]
          },
          "metadata": {
            "tags": []
          }
        }
      ]
    },
    {
      "cell_type": "code",
      "metadata": {
        "colab_type": "code",
        "id": "QGf8LwV8bQ8J",
        "colab": {
          "base_uri": "https://localhost:8080/",
          "height": 300
        },
        "outputId": "dacfa9c4-518c-4f9a-c6a1-bcaec629da2f"
      },
      "source": [
        "plt.plot(history.history['loss'], label='loss')\n",
        "plt.plot(history.history['val_loss'], label = 'val_loss')\n",
        "plt.xlabel('Epoch')\n",
        "plt.ylabel('loss')\n",
        "plt.ylim([0, .5])\n",
        "plt.legend(loc='upper right')\n",
        "# plt.savefig(\"ann_loss.png\", dpi=500)"
      ],
      "execution_count": 38,
      "outputs": [
        {
          "output_type": "execute_result",
          "data": {
            "text/plain": [
              "<matplotlib.legend.Legend at 0x7f0c2a9542e8>"
            ]
          },
          "metadata": {
            "tags": []
          },
          "execution_count": 38
        },
        {
          "output_type": "display_data",
          "data": {
            "image/png": "[encoded data removed]",
            "text/plain": [
              "<Figure size 432x288 with 1 Axes>"
            ]
          },
          "metadata": {
            "tags": []
          }
        }
      ]
    },
    {
      "cell_type": "code",
      "metadata": {
        "colab_type": "code",
        "id": "vDJd0dL0ojhE",
        "colab": {}
      },
      "source": [
        "model_5.save('DNN_Adam_400.h5')"
      ],
      "execution_count": 0,
      "outputs": []
    },
    {
      "cell_type": "code",
      "metadata": {
        "colab_type": "code",
        "id": "SIpGMue_ojhP",
        "colab": {}
      },
      "source": [
        "model_6 = models.load_model('DNN_Adam_400.h5')"
      ],
      "execution_count": 0,
      "outputs": []
    },
    {
      "cell_type": "code",
      "metadata": {
        "colab_type": "code",
        "id": "X0ZSgzJqojhS",
        "colab": {}
      },
      "source": [
        "epoch = 50\n",
        "batch_size = 4096\n",
        "learning_rate = 1e-4"
      ],
      "execution_count": 0,
      "outputs": []
    },
    {
      "cell_type": "code",
      "metadata": {
        "colab_type": "code",
        "outputId": "fdf3257f-f29e-4d4b-9ef2-8eb5b55148b4",
        "id": "qKbPnZk-ojhV",
        "colab": {
          "base_uri": "https://localhost:8080/",
          "height": 1000
        }
      },
      "source": [
        "sgd = optimizers.SGD(lr = learning_rate)\n",
        "model_6.compile(optimizer= sgd,\n",
        "              loss='sparse_categorical_crossentropy',\n",
        "              metrics=['accuracy'])\n",
        "aug = preprocessing.image.ImageDataGenerator(width_shift_range=0.1,\n",
        "                                             height_shift_range=0.1,\n",
        "                                             horizontal_flip=True)\n",
        "batches = aug.flow(x_train, y_train, batch_size=batch_size)\n",
        "val_batches = aug.flow(x_test, y_test, batch_size=batch_size)\n",
        "history = model_6.fit_generator(batches, \n",
        "                               epochs=epoch,\n",
        "                               validation_data=val_batches, verbose=2)"
      ],
      "execution_count": 45,
      "outputs": [
        {
          "output_type": "stream",
          "text": [
            "Epoch 1/50\n",
            "Epoch 1/50\n",
            "15/15 - 25s - loss: 0.2183 - acc: 0.9167 - val_loss: 0.3133 - val_acc: 0.8905\n",
            "Epoch 2/50\n",
            "Epoch 1/50\n",
            "15/15 - 23s - loss: 0.2164 - acc: 0.9166 - val_loss: 0.3251 - val_acc: 0.8882\n",
            "Epoch 3/50\n",
            "Epoch 1/50\n",
            "15/15 - 22s - loss: 0.2147 - acc: 0.9171 - val_loss: 0.3203 - val_acc: 0.8898\n",
            "Epoch 4/50\n",
            "Epoch 1/50\n",
            "15/15 - 23s - loss: 0.2173 - acc: 0.9163 - val_loss: 0.3212 - val_acc: 0.8895\n",
            "Epoch 5/50\n",
            "Epoch 1/50\n",
            "15/15 - 23s - loss: 0.2180 - acc: 0.9162 - val_loss: 0.3215 - val_acc: 0.8893\n",
            "Epoch 6/50\n",
            "Epoch 1/50\n",
            "15/15 - 23s - loss: 0.2180 - acc: 0.9155 - val_loss: 0.3313 - val_acc: 0.8932\n",
            "Epoch 7/50\n",
            "Epoch 1/50\n",
            "15/15 - 22s - loss: 0.2168 - acc: 0.9165 - val_loss: 0.3190 - val_acc: 0.8917\n",
            "Epoch 8/50\n",
            "Epoch 1/50\n",
            "15/15 - 23s - loss: 0.2179 - acc: 0.9149 - val_loss: 0.3255 - val_acc: 0.8914\n",
            "Epoch 9/50\n",
            "Epoch 1/50\n",
            "15/15 - 23s - loss: 0.2177 - acc: 0.9161 - val_loss: 0.3122 - val_acc: 0.8908\n",
            "Epoch 10/50\n",
            "Epoch 1/50\n",
            "15/15 - 21s - loss: 0.2172 - acc: 0.9168 - val_loss: 0.3150 - val_acc: 0.8884\n",
            "Epoch 11/50\n",
            "Epoch 1/50\n",
            "15/15 - 23s - loss: 0.2181 - acc: 0.9152 - val_loss: 0.3243 - val_acc: 0.8885\n",
            "Epoch 12/50\n",
            "Epoch 1/50\n",
            "15/15 - 23s - loss: 0.2166 - acc: 0.9168 - val_loss: 0.3266 - val_acc: 0.8868\n",
            "Epoch 13/50\n",
            "Epoch 1/50\n",
            "15/15 - 22s - loss: 0.2179 - acc: 0.9161 - val_loss: 0.3195 - val_acc: 0.8907\n",
            "Epoch 14/50\n",
            "Epoch 1/50\n",
            "15/15 - 22s - loss: 0.2170 - acc: 0.9172 - val_loss: 0.3156 - val_acc: 0.8905\n",
            "Epoch 15/50\n",
            "Epoch 1/50\n",
            "15/15 - 23s - loss: 0.2180 - acc: 0.9159 - val_loss: 0.3181 - val_acc: 0.8900\n",
            "Epoch 16/50\n",
            "Epoch 1/50\n",
            "15/15 - 23s - loss: 0.2164 - acc: 0.9163 - val_loss: 0.3179 - val_acc: 0.8919\n",
            "Epoch 17/50\n",
            "Epoch 1/50\n",
            "15/15 - 22s - loss: 0.2160 - acc: 0.9182 - val_loss: 0.3187 - val_acc: 0.8894\n",
            "Epoch 18/50\n",
            "Epoch 1/50\n",
            "15/15 - 23s - loss: 0.2178 - acc: 0.9166 - val_loss: 0.3194 - val_acc: 0.8913\n",
            "Epoch 19/50\n",
            "Epoch 1/50\n",
            "15/15 - 22s - loss: 0.2178 - acc: 0.9161 - val_loss: 0.3148 - val_acc: 0.8908\n",
            "Epoch 20/50\n",
            "Epoch 1/50\n",
            "15/15 - 22s - loss: 0.2182 - acc: 0.9163 - val_loss: 0.3145 - val_acc: 0.8937\n",
            "Epoch 21/50\n",
            "Epoch 1/50\n",
            "15/15 - 23s - loss: 0.2182 - acc: 0.9157 - val_loss: 0.3174 - val_acc: 0.8901\n",
            "Epoch 22/50\n",
            "Epoch 1/50\n",
            "15/15 - 22s - loss: 0.2195 - acc: 0.9147 - val_loss: 0.3120 - val_acc: 0.8905\n",
            "Epoch 23/50\n",
            "Epoch 1/50\n",
            "15/15 - 22s - loss: 0.2166 - acc: 0.9159 - val_loss: 0.3158 - val_acc: 0.8897\n",
            "Epoch 24/50\n",
            "Epoch 1/50\n",
            "15/15 - 22s - loss: 0.2168 - acc: 0.9163 - val_loss: 0.3214 - val_acc: 0.8912\n",
            "Epoch 25/50\n",
            "Epoch 1/50\n",
            "15/15 - 22s - loss: 0.2162 - acc: 0.9180 - val_loss: 0.3197 - val_acc: 0.8885\n",
            "Epoch 26/50\n",
            "Epoch 1/50\n",
            "15/15 - 22s - loss: 0.2152 - acc: 0.9173 - val_loss: 0.3208 - val_acc: 0.8917\n",
            "Epoch 27/50\n",
            "Epoch 1/50\n",
            "15/15 - 22s - loss: 0.2170 - acc: 0.9172 - val_loss: 0.3134 - val_acc: 0.8899\n",
            "Epoch 28/50\n",
            "Epoch 1/50\n",
            "15/15 - 22s - loss: 0.2160 - acc: 0.9178 - val_loss: 0.3102 - val_acc: 0.8875\n",
            "Epoch 29/50\n",
            "Epoch 1/50\n",
            "15/15 - 22s - loss: 0.2174 - acc: 0.9161 - val_loss: 0.3287 - val_acc: 0.8880\n",
            "Epoch 30/50\n",
            "Epoch 1/50\n",
            "15/15 - 22s - loss: 0.2197 - acc: 0.9160 - val_loss: 0.3101 - val_acc: 0.8922\n",
            "Epoch 31/50\n",
            "Epoch 1/50\n",
            "15/15 - 22s - loss: 0.2171 - acc: 0.9160 - val_loss: 0.3250 - val_acc: 0.8887\n",
            "Epoch 32/50\n",
            "Epoch 1/50\n",
            "15/15 - 22s - loss: 0.2170 - acc: 0.9156 - val_loss: 0.3145 - val_acc: 0.8921\n",
            "Epoch 33/50\n",
            "Epoch 1/50\n",
            "15/15 - 22s - loss: 0.2174 - acc: 0.9160 - val_loss: 0.3187 - val_acc: 0.8900\n",
            "Epoch 34/50\n",
            "Epoch 1/50\n",
            "15/15 - 22s - loss: 0.2179 - acc: 0.9158 - val_loss: 0.3199 - val_acc: 0.8908\n",
            "Epoch 35/50\n",
            "Epoch 1/50\n",
            "15/15 - 23s - loss: 0.2175 - acc: 0.9153 - val_loss: 0.3232 - val_acc: 0.8917\n",
            "Epoch 36/50\n",
            "Epoch 1/50\n",
            "15/15 - 23s - loss: 0.2178 - acc: 0.9162 - val_loss: 0.3241 - val_acc: 0.8908\n",
            "Epoch 37/50\n",
            "Epoch 1/50\n",
            "15/15 - 22s - loss: 0.2155 - acc: 0.9171 - val_loss: 0.3190 - val_acc: 0.8919\n",
            "Epoch 38/50\n",
            "Epoch 1/50\n",
            "15/15 - 22s - loss: 0.2169 - acc: 0.9167 - val_loss: 0.3204 - val_acc: 0.8864\n",
            "Epoch 39/50\n",
            "Epoch 1/50\n",
            "15/15 - 22s - loss: 0.2192 - acc: 0.9154 - val_loss: 0.3243 - val_acc: 0.8882\n",
            "Epoch 40/50\n",
            "Epoch 1/50\n",
            "15/15 - 22s - loss: 0.2179 - acc: 0.9158 - val_loss: 0.3152 - val_acc: 0.8913\n",
            "Epoch 41/50\n",
            "Epoch 1/50\n",
            "15/15 - 22s - loss: 0.2179 - acc: 0.9152 - val_loss: 0.3204 - val_acc: 0.8902\n",
            "Epoch 42/50\n",
            "Epoch 1/50\n",
            "15/15 - 22s - loss: 0.2184 - acc: 0.9164 - val_loss: 0.3159 - val_acc: 0.8927\n",
            "Epoch 43/50\n",
            "Epoch 1/50\n",
            "15/15 - 22s - loss: 0.2178 - acc: 0.9161 - val_loss: 0.3163 - val_acc: 0.8892\n",
            "Epoch 44/50\n",
            "Epoch 1/50\n",
            "15/15 - 22s - loss: 0.2166 - acc: 0.9165 - val_loss: 0.3139 - val_acc: 0.8922\n",
            "Epoch 45/50\n",
            "Epoch 1/50\n",
            "15/15 - 22s - loss: 0.2169 - acc: 0.9173 - val_loss: 0.3262 - val_acc: 0.8901\n",
            "Epoch 46/50\n",
            "Epoch 1/50\n",
            "15/15 - 22s - loss: 0.2170 - acc: 0.9162 - val_loss: 0.3249 - val_acc: 0.8887\n",
            "Epoch 47/50\n",
            "Epoch 1/50\n",
            "15/15 - 22s - loss: 0.2174 - acc: 0.9166 - val_loss: 0.3097 - val_acc: 0.8936\n",
            "Epoch 48/50\n",
            "Epoch 1/50\n",
            "15/15 - 22s - loss: 0.2160 - acc: 0.9169 - val_loss: 0.3213 - val_acc: 0.8889\n",
            "Epoch 49/50\n",
            "Epoch 1/50\n",
            "15/15 - 22s - loss: 0.2189 - acc: 0.9142 - val_loss: 0.3157 - val_acc: 0.8878\n",
            "Epoch 50/50\n",
            "Epoch 1/50\n",
            "15/15 - 23s - loss: 0.2171 - acc: 0.9172 - val_loss: 0.3304 - val_acc: 0.8897\n"
          ],
          "name": "stdout"
        }
      ]
    },
    {
      "cell_type": "code",
      "metadata": {
        "colab_type": "code",
        "id": "Zfj7XxEBojhZ",
        "colab": {
          "base_uri": "https://localhost:8080/",
          "height": 34
        },
        "outputId": "06ba1f4c-15c7-4630-8098-e61795f0111f"
      },
      "source": [
        "test_loss, test_acc = model_6.evaluate(x_test, y_test, verbose=2)"
      ],
      "execution_count": 46,
      "outputs": [
        {
          "output_type": "stream",
          "text": [
            "10000/10000 - 2s - loss: 0.2955 - acc: 0.9010\n"
          ],
          "name": "stdout"
        }
      ]
    },
    {
      "cell_type": "code",
      "metadata": {
        "colab_type": "code",
        "id": "RQyk1cwRojhb",
        "colab": {
          "base_uri": "https://localhost:8080/",
          "height": 300
        },
        "outputId": "9458ddf2-34f7-4002-ee99-2ef578629eca"
      },
      "source": [
        "plt.plot(history.history['acc'], label='accuracy')\n",
        "plt.plot(history.history['val_acc'], label = 'val_accuracy')\n",
        "plt.xlabel('Epoch')\n",
        "plt.ylabel('Accuracy')\n",
        "plt.ylim([0.5, 1])\n",
        "plt.legend(loc='lower right')\n",
        "# plt.savefig(\"ann_acc.png\", dpi=500)"
      ],
      "execution_count": 47,
      "outputs": [
        {
          "output_type": "execute_result",
          "data": {
            "text/plain": [
              "<matplotlib.legend.Legend at 0x7f0c26dff898>"
            ]
          },
          "metadata": {
            "tags": []
          },
          "execution_count": 47
        },
        {
          "output_type": "display_data",
          "data": {
            "image/png": "[encoded data removed]",
            "text/plain": [
              "<Figure size 432x288 with 1 Axes>"
            ]
          },
          "metadata": {
            "tags": []
          }
        }
      ]
    },
    {
      "cell_type": "code",
      "metadata": {
        "colab_type": "code",
        "id": "VyNhLlbWojhd",
        "colab": {
          "base_uri": "https://localhost:8080/",
          "height": 300
        },
        "outputId": "84a4b954-6bd6-4287-9b56-921e3617130b"
      },
      "source": [
        "plt.plot(history.history['loss'], label='loss')\n",
        "plt.plot(history.history['val_loss'], label = 'val_loss')\n",
        "plt.xlabel('Epoch')\n",
        "plt.ylabel('loss')\n",
        "plt.ylim([0, .5])\n",
        "plt.legend(loc='upper right')\n",
        "# plt.savefig(\"ann_loss.png\", dpi=500)"
      ],
      "execution_count": 48,
      "outputs": [
        {
          "output_type": "execute_result",
          "data": {
            "text/plain": [
              "<matplotlib.legend.Legend at 0x7f0c26dead30>"
            ]
          },
          "metadata": {
            "tags": []
          },
          "execution_count": 48
        },
        {
          "output_type": "display_data",
          "data": {
            "image/png": "[encoded data removed]",
            "text/plain": [
              "<Figure size 432x288 with 1 Axes>"
            ]
          },
          "metadata": {
            "tags": []
          }
        }
      ]
    }
  ]
}