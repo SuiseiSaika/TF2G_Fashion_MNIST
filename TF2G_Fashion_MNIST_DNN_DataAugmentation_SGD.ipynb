{
 "cells": [
  {
   "cell_type": "code",
   "execution_count": 2,
   "metadata": {},
   "outputs": [],
   "source": [
    "%matplotlib inline\n",
    "import tensorflow as tf\n",
    "import math\n",
    "import numpy as np\n",
    "import matplotlib.pyplot as plt\n",
    "from tensorflow.keras import *\n",
    "from tensorflow.keras.utils import *\n",
    "from tensorflow.keras.datasets import fashion_mnist"
   ]
  },
  {
   "cell_type": "code",
   "execution_count": 3,
   "metadata": {},
   "outputs": [],
   "source": [
    "(x_train, y_train), (x_test, y_test) = fashion_mnist.load_data()\n",
    "x_train = x_train.astype('float32')\n",
    "x_test = x_test.astype('float32')\n",
    "x_train = x_train / 255.0\n",
    "x_test = x_test / 255.0\n",
    "x_train = np.expand_dims(x_train, -1)\n",
    "x_test = np.expand_dims(x_test, -1)"
   ]
  },
  {
   "cell_type": "code",
   "execution_count": 4,
   "metadata": {},
   "outputs": [],
   "source": [
    "epoch = 100\n",
    "lr = 1e-1\n",
    "batch_size = 512\n",
    "initializer = initializers.he_normal(seed=114)"
   ]
  },
  {
   "cell_type": "code",
   "execution_count": 5,
   "metadata": {},
   "outputs": [],
   "source": [
    "def step_decay(epoch):\n",
    "    initial_lrate = 0.1\n",
    "    drop = math.sqrt(0.5)\n",
    "    epochs_drop = 5\n",
    "    lrate = initial_lrate * math.pow(drop, math.floor((1+epoch)/epochs_drop))\n",
    "    return lrate"
   ]
  },
  {
   "cell_type": "code",
   "execution_count": 6,
   "metadata": {},
   "outputs": [],
   "source": [
    "lrate = callbacks.LearningRateScheduler(step_decay)"
   ]
  },
  {
   "cell_type": "code",
   "execution_count": 7,
   "metadata": {},
   "outputs": [],
   "source": [
    "def basic_layer(node, dropoutrate = 0):\n",
    "    layer = models.Sequential()\n",
    "    layer.add(layers.Dense(node, kernel_initializer=initializer))\n",
    "    if(dropoutrate>0):\n",
    "        layer.add(layers.Dropout(dropoutrate))\n",
    "    layer.add(layers.BatchNormalization())\n",
    "    layer.add(layers.Activation('elu'))\n",
    "    return layer"
   ]
  },
  {
   "cell_type": "code",
   "execution_count": 8,
   "metadata": {},
   "outputs": [],
   "source": [
    "model = models.Sequential()\n",
    "model.add(layers.Flatten(input_shape=(28, 28, 1)))\n",
    "model.add(basic_layer(128, 0.125))\n",
    "model.add(basic_layer(128, 0.125))\n",
    "model.add(basic_layer(256, 0.25))\n",
    "model.add(basic_layer(256, 0.25))\n",
    "model.add(basic_layer(512, 0.5))\n",
    "model.add(basic_layer(512, 0.5))\n",
    "model.add(basic_layer(256))\n",
    "model.add(basic_layer(128))\n",
    "model.add(basic_layer(64))\n",
    "model.add(layers.Dense(10, activation='softmax'))"
   ]
  },
  {
   "cell_type": "code",
   "execution_count": 9,
   "metadata": {},
   "outputs": [
    {
     "name": "stdout",
     "output_type": "stream",
     "text": [
      "Model: \"sequential\"\n",
      "_________________________________________________________________\n",
      "Layer (type)                 Output Shape              Param #   \n",
      "=================================================================\n",
      "flatten (Flatten)            (None, 784)               0         \n",
      "_________________________________________________________________\n",
      "sequential_1 (Sequential)    (None, 128)               100992    \n",
      "_________________________________________________________________\n",
      "sequential_2 (Sequential)    (None, 128)               17024     \n",
      "_________________________________________________________________\n",
      "sequential_3 (Sequential)    (None, 256)               34048     \n",
      "_________________________________________________________________\n",
      "sequential_4 (Sequential)    (None, 256)               66816     \n",
      "_________________________________________________________________\n",
      "sequential_5 (Sequential)    (None, 512)               133632    \n",
      "_________________________________________________________________\n",
      "sequential_6 (Sequential)    (None, 512)               264704    \n",
      "_________________________________________________________________\n",
      "sequential_7 (Sequential)    (None, 256)               132352    \n",
      "_________________________________________________________________\n",
      "sequential_8 (Sequential)    (None, 128)               33408     \n",
      "_________________________________________________________________\n",
      "sequential_9 (Sequential)    (None, 64)                8512      \n",
      "_________________________________________________________________\n",
      "dense_9 (Dense)              (None, 10)                650       \n",
      "=================================================================\n",
      "Total params: 792,138\n",
      "Trainable params: 787,658\n",
      "Non-trainable params: 4,480\n",
      "_________________________________________________________________\n"
     ]
    }
   ],
   "source": [
    "model.summary()"
   ]
  },
  {
   "cell_type": "code",
   "execution_count": 10,
   "metadata": {
    "scrolled": true
   },
   "outputs": [
    {
     "name": "stdout",
     "output_type": "stream",
     "text": [
      "Epoch 1/100\n",
      "118/118 [==============================] - 22s 188ms/step - loss: 1.2979 - accuracy: 0.5170 - val_loss: 1.2773 - val_accuracy: 0.6172\n",
      "Epoch 2/100\n",
      "118/118 [==============================] - 16s 136ms/step - loss: 0.9105 - accuracy: 0.6618 - val_loss: 0.8814 - val_accuracy: 0.6981\n",
      "Epoch 3/100\n",
      "118/118 [==============================] - 16s 133ms/step - loss: 0.8401 - accuracy: 0.6868 - val_loss: 0.8129 - val_accuracy: 0.7238\n",
      "Epoch 4/100\n",
      "118/118 [==============================] - 15s 131ms/step - loss: 0.7999 - accuracy: 0.6990 - val_loss: 0.7232 - val_accuracy: 0.7436\n",
      "Epoch 5/100\n",
      "118/118 [==============================] - 15s 126ms/step - loss: 0.7761 - accuracy: 0.7101 - val_loss: 0.7129 - val_accuracy: 0.7424\n",
      "Epoch 6/100\n",
      "118/118 [==============================] - 17s 140ms/step - loss: 0.7570 - accuracy: 0.7161 - val_loss: 0.6932 - val_accuracy: 0.7462\n",
      "Epoch 7/100\n",
      "118/118 [==============================] - 18s 151ms/step - loss: 0.7474 - accuracy: 0.7202 - val_loss: 0.6936 - val_accuracy: 0.7485\n",
      "Epoch 8/100\n",
      "118/118 [==============================] - 17s 147ms/step - loss: 0.7310 - accuracy: 0.7254 - val_loss: 0.6905 - val_accuracy: 0.7504\n",
      "Epoch 9/100\n",
      "118/118 [==============================] - 18s 151ms/step - loss: 0.7234 - accuracy: 0.7287 - val_loss: 0.6898 - val_accuracy: 0.7500\n",
      "Epoch 10/100\n",
      "118/118 [==============================] - 17s 148ms/step - loss: 0.7145 - accuracy: 0.7334 - val_loss: 0.6630 - val_accuracy: 0.7602\n",
      "Epoch 11/100\n",
      "118/118 [==============================] - 17s 148ms/step - loss: 0.7027 - accuracy: 0.7376 - val_loss: 0.6583 - val_accuracy: 0.7618\n",
      "Epoch 12/100\n",
      "118/118 [==============================] - 17s 140ms/step - loss: 0.6998 - accuracy: 0.7397 - val_loss: 0.6593 - val_accuracy: 0.7619\n",
      "Epoch 13/100\n",
      "118/118 [==============================] - 17s 143ms/step - loss: 0.6956 - accuracy: 0.7430 - val_loss: 0.6463 - val_accuracy: 0.7675\n",
      "Epoch 14/100\n",
      "118/118 [==============================] - 17s 142ms/step - loss: 0.6922 - accuracy: 0.7407 - val_loss: 0.6416 - val_accuracy: 0.7679\n",
      "Epoch 15/100\n",
      "118/118 [==============================] - 17s 145ms/step - loss: 0.6847 - accuracy: 0.7443 - val_loss: 0.6425 - val_accuracy: 0.7652\n",
      "Epoch 16/100\n",
      "118/118 [==============================] - 17s 143ms/step - loss: 0.6812 - accuracy: 0.7464 - val_loss: 0.6507 - val_accuracy: 0.7585\n",
      "Epoch 17/100\n",
      "118/118 [==============================] - 16s 139ms/step - loss: 0.6788 - accuracy: 0.7471 - val_loss: 0.6421 - val_accuracy: 0.7676\n",
      "Epoch 18/100\n",
      "118/118 [==============================] - 17s 141ms/step - loss: 0.6745 - accuracy: 0.7480 - val_loss: 0.6220 - val_accuracy: 0.7766\n",
      "Epoch 19/100\n",
      "118/118 [==============================] - 17s 140ms/step - loss: 0.6747 - accuracy: 0.7477 - val_loss: 0.6186 - val_accuracy: 0.7710\n",
      "Epoch 20/100\n",
      "118/118 [==============================] - 16s 133ms/step - loss: 0.6688 - accuracy: 0.7501 - val_loss: 0.6250 - val_accuracy: 0.7704\n",
      "Epoch 21/100\n",
      "118/118 [==============================] - 16s 132ms/step - loss: 0.6649 - accuracy: 0.7531 - val_loss: 0.6237 - val_accuracy: 0.7691\n",
      "Epoch 22/100\n",
      "118/118 [==============================] - 15s 131ms/step - loss: 0.6663 - accuracy: 0.7521 - val_loss: 0.6227 - val_accuracy: 0.7729\n",
      "Epoch 23/100\n",
      "118/118 [==============================] - 15s 131ms/step - loss: 0.6620 - accuracy: 0.7527 - val_loss: 0.6205 - val_accuracy: 0.7707\n",
      "Epoch 24/100\n",
      "118/118 [==============================] - 16s 132ms/step - loss: 0.6631 - accuracy: 0.7532 - val_loss: 0.6159 - val_accuracy: 0.7771\n",
      "Epoch 25/100\n",
      "118/118 [==============================] - 16s 132ms/step - loss: 0.6592 - accuracy: 0.7538 - val_loss: 0.6177 - val_accuracy: 0.7760\n",
      "Epoch 26/100\n",
      "118/118 [==============================] - 16s 132ms/step - loss: 0.6588 - accuracy: 0.7548 - val_loss: 0.6115 - val_accuracy: 0.7743\n",
      "Epoch 27/100\n",
      "118/118 [==============================] - 16s 135ms/step - loss: 0.6569 - accuracy: 0.7542 - val_loss: 0.6110 - val_accuracy: 0.7779\n",
      "Epoch 28/100\n",
      "118/118 [==============================] - 16s 135ms/step - loss: 0.6569 - accuracy: 0.7546 - val_loss: 0.6110 - val_accuracy: 0.7721\n",
      "Epoch 29/100\n",
      "118/118 [==============================] - 16s 134ms/step - loss: 0.6535 - accuracy: 0.7557 - val_loss: 0.6144 - val_accuracy: 0.7753\n",
      "Epoch 30/100\n",
      "118/118 [==============================] - 16s 133ms/step - loss: 0.6533 - accuracy: 0.7568 - val_loss: 0.6139 - val_accuracy: 0.7750\n",
      "Epoch 31/100\n",
      "118/118 [==============================] - 16s 135ms/step - loss: 0.6487 - accuracy: 0.7565 - val_loss: 0.6143 - val_accuracy: 0.7757\n",
      "Epoch 32/100\n",
      "118/118 [==============================] - 16s 132ms/step - loss: 0.6493 - accuracy: 0.7572 - val_loss: 0.6083 - val_accuracy: 0.7750\n",
      "Epoch 33/100\n",
      "118/118 [==============================] - 16s 133ms/step - loss: 0.6510 - accuracy: 0.7570 - val_loss: 0.6111 - val_accuracy: 0.7762\n",
      "Epoch 34/100\n",
      "118/118 [==============================] - 15s 131ms/step - loss: 0.6443 - accuracy: 0.7601 - val_loss: 0.6023 - val_accuracy: 0.7762\n",
      "Epoch 35/100\n",
      "118/118 [==============================] - 15s 131ms/step - loss: 0.6444 - accuracy: 0.7589 - val_loss: 0.6137 - val_accuracy: 0.7761\n",
      "Epoch 36/100\n",
      "118/118 [==============================] - 15s 130ms/step - loss: 0.6468 - accuracy: 0.7587 - val_loss: 0.6067 - val_accuracy: 0.7754\n",
      "Epoch 37/100\n",
      "118/118 [==============================] - 16s 138ms/step - loss: 0.6445 - accuracy: 0.7595 - val_loss: 0.6047 - val_accuracy: 0.7788\n",
      "Epoch 38/100\n",
      "118/118 [==============================] - 17s 147ms/step - loss: 0.6446 - accuracy: 0.7596 - val_loss: 0.6090 - val_accuracy: 0.7810\n",
      "Epoch 39/100\n",
      "118/118 [==============================] - 17s 143ms/step - loss: 0.6456 - accuracy: 0.7591 - val_loss: 0.6054 - val_accuracy: 0.7781\n",
      "Epoch 40/100\n",
      "118/118 [==============================] - 17s 143ms/step - loss: 0.6389 - accuracy: 0.7618 - val_loss: 0.6019 - val_accuracy: 0.7781\n",
      "Epoch 41/100\n",
      "118/118 [==============================] - 17s 145ms/step - loss: 0.6416 - accuracy: 0.7595 - val_loss: 0.6033 - val_accuracy: 0.7817\n",
      "Epoch 42/100\n",
      "118/118 [==============================] - 18s 149ms/step - loss: 0.6447 - accuracy: 0.7591 - val_loss: 0.6014 - val_accuracy: 0.7813\n",
      "Epoch 43/100\n",
      "118/118 [==============================] - 17s 146ms/step - loss: 0.6449 - accuracy: 0.7609 - val_loss: 0.6081 - val_accuracy: 0.7745\n",
      "Epoch 44/100\n",
      "118/118 [==============================] - 18s 150ms/step - loss: 0.6409 - accuracy: 0.7617 - val_loss: 0.6021 - val_accuracy: 0.7783\n",
      "Epoch 45/100\n",
      "118/118 [==============================] - 19s 159ms/step - loss: 0.6418 - accuracy: 0.7605 - val_loss: 0.6044 - val_accuracy: 0.7781\n",
      "Epoch 46/100\n",
      "118/118 [==============================] - 19s 157ms/step - loss: 0.6421 - accuracy: 0.7610 - val_loss: 0.6012 - val_accuracy: 0.7813\n",
      "Epoch 47/100\n",
      "118/118 [==============================] - 19s 160ms/step - loss: 0.6427 - accuracy: 0.7614 - val_loss: 0.5996 - val_accuracy: 0.7783\n",
      "Epoch 48/100\n",
      "118/118 [==============================] - 19s 165ms/step - loss: 0.6428 - accuracy: 0.7587 - val_loss: 0.6027 - val_accuracy: 0.7797\n",
      "Epoch 49/100\n",
      "118/118 [==============================] - 18s 154ms/step - loss: 0.6400 - accuracy: 0.7639 - val_loss: 0.6052 - val_accuracy: 0.7771\n",
      "Epoch 50/100\n",
      "118/118 [==============================] - 19s 164ms/step - loss: 0.6392 - accuracy: 0.7618 - val_loss: 0.6009 - val_accuracy: 0.7807\n",
      "Epoch 51/100\n",
      "118/118 [==============================] - 18s 156ms/step - loss: 0.6369 - accuracy: 0.7610 - val_loss: 0.6007 - val_accuracy: 0.7754\n",
      "Epoch 52/100\n",
      "118/118 [==============================] - 17s 142ms/step - loss: 0.6391 - accuracy: 0.7607 - val_loss: 0.6036 - val_accuracy: 0.7782\n",
      "Epoch 53/100\n",
      "118/118 [==============================] - 17s 141ms/step - loss: 0.6389 - accuracy: 0.7611 - val_loss: 0.5994 - val_accuracy: 0.7832\n",
      "Epoch 54/100\n",
      "118/118 [==============================] - 16s 139ms/step - loss: 0.6398 - accuracy: 0.7627 - val_loss: 0.5925 - val_accuracy: 0.7824\n",
      "Epoch 55/100\n",
      "118/118 [==============================] - 15s 131ms/step - loss: 0.6362 - accuracy: 0.7638 - val_loss: 0.5928 - val_accuracy: 0.7831\n",
      "Epoch 56/100\n",
      "118/118 [==============================] - 15s 130ms/step - loss: 0.6367 - accuracy: 0.7620 - val_loss: 0.5965 - val_accuracy: 0.7829\n"
     ]
    },
    {
     "name": "stdout",
     "output_type": "stream",
     "text": [
      "Epoch 57/100\n",
      "118/118 [==============================] - 16s 132ms/step - loss: 0.6378 - accuracy: 0.7617 - val_loss: 0.6054 - val_accuracy: 0.7801\n",
      "Epoch 58/100\n",
      "118/118 [==============================] - 16s 132ms/step - loss: 0.6321 - accuracy: 0.7661 - val_loss: 0.5969 - val_accuracy: 0.7811\n",
      "Epoch 59/100\n",
      "118/118 [==============================] - 16s 133ms/step - loss: 0.6366 - accuracy: 0.7635 - val_loss: 0.6007 - val_accuracy: 0.7804\n",
      "Epoch 60/100\n",
      "118/118 [==============================] - 16s 138ms/step - loss: 0.6367 - accuracy: 0.7629 - val_loss: 0.6011 - val_accuracy: 0.7807\n",
      "Epoch 61/100\n",
      "118/118 [==============================] - 17s 141ms/step - loss: 0.6381 - accuracy: 0.7623 - val_loss: 0.6002 - val_accuracy: 0.7789\n",
      "Epoch 62/100\n",
      "118/118 [==============================] - 17s 140ms/step - loss: 0.6345 - accuracy: 0.7645 - val_loss: 0.5972 - val_accuracy: 0.7833\n",
      "Epoch 63/100\n",
      "118/118 [==============================] - 17s 145ms/step - loss: 0.6386 - accuracy: 0.7619 - val_loss: 0.5914 - val_accuracy: 0.7829\n",
      "Epoch 64/100\n",
      "118/118 [==============================] - 17s 144ms/step - loss: 0.6394 - accuracy: 0.7617 - val_loss: 0.5965 - val_accuracy: 0.7802\n",
      "Epoch 65/100\n",
      "118/118 [==============================] - 17s 148ms/step - loss: 0.6396 - accuracy: 0.7621 - val_loss: 0.5994 - val_accuracy: 0.7839\n",
      "Epoch 66/100\n",
      "118/118 [==============================] - 15s 130ms/step - loss: 0.6386 - accuracy: 0.7603 - val_loss: 0.5988 - val_accuracy: 0.7792\n",
      "Epoch 67/100\n",
      "118/118 [==============================] - 16s 131ms/step - loss: 0.6400 - accuracy: 0.7624 - val_loss: 0.6023 - val_accuracy: 0.7795\n",
      "Epoch 68/100\n",
      "118/118 [==============================] - 15s 131ms/step - loss: 0.6365 - accuracy: 0.7625 - val_loss: 0.5908 - val_accuracy: 0.7862\n",
      "Epoch 69/100\n",
      "118/118 [==============================] - 18s 150ms/step - loss: 0.6368 - accuracy: 0.7634 - val_loss: 0.5968 - val_accuracy: 0.7811\n",
      "Epoch 70/100\n",
      "118/118 [==============================] - 18s 149ms/step - loss: 0.6351 - accuracy: 0.7636 - val_loss: 0.5947 - val_accuracy: 0.7801\n",
      "Epoch 71/100\n",
      "118/118 [==============================] - 17s 145ms/step - loss: 0.6379 - accuracy: 0.7620 - val_loss: 0.5976 - val_accuracy: 0.7807\n",
      "Epoch 72/100\n",
      "118/118 [==============================] - 15s 124ms/step - loss: 0.6357 - accuracy: 0.7635 - val_loss: 0.6014 - val_accuracy: 0.7832\n",
      "Epoch 73/100\n",
      "118/118 [==============================] - 16s 136ms/step - loss: 0.6336 - accuracy: 0.7643 - val_loss: 0.5960 - val_accuracy: 0.7813\n",
      "Epoch 74/100\n",
      "118/118 [==============================] - 16s 136ms/step - loss: 0.6364 - accuracy: 0.7634 - val_loss: 0.5940 - val_accuracy: 0.7810\n",
      "Epoch 75/100\n",
      "118/118 [==============================] - 16s 135ms/step - loss: 0.6385 - accuracy: 0.7641 - val_loss: 0.6091 - val_accuracy: 0.7765\n",
      "Epoch 76/100\n",
      "118/118 [==============================] - 16s 132ms/step - loss: 0.6388 - accuracy: 0.7623 - val_loss: 0.5972 - val_accuracy: 0.7858\n",
      "Epoch 77/100\n",
      "118/118 [==============================] - 16s 132ms/step - loss: 0.6358 - accuracy: 0.7641 - val_loss: 0.6039 - val_accuracy: 0.7811\n",
      "Epoch 78/100\n",
      "118/118 [==============================] - 16s 139ms/step - loss: 0.6364 - accuracy: 0.7626 - val_loss: 0.6070 - val_accuracy: 0.7792\n",
      "Epoch 79/100\n",
      "118/118 [==============================] - 16s 137ms/step - loss: 0.6341 - accuracy: 0.7628 - val_loss: 0.5951 - val_accuracy: 0.7796\n",
      "Epoch 80/100\n",
      "118/118 [==============================] - 16s 138ms/step - loss: 0.6344 - accuracy: 0.7630 - val_loss: 0.5953 - val_accuracy: 0.7809\n",
      "Epoch 81/100\n",
      "118/118 [==============================] - 16s 134ms/step - loss: 0.6326 - accuracy: 0.7642 - val_loss: 0.5961 - val_accuracy: 0.7803\n",
      "Epoch 82/100\n",
      "118/118 [==============================] - 15s 127ms/step - loss: 0.6336 - accuracy: 0.7641 - val_loss: 0.6021 - val_accuracy: 0.7776\n",
      "Epoch 83/100\n",
      "118/118 [==============================] - 15s 130ms/step - loss: 0.6370 - accuracy: 0.7621 - val_loss: 0.6031 - val_accuracy: 0.7786\n",
      "Epoch 84/100\n",
      "118/118 [==============================] - 15s 128ms/step - loss: 0.6350 - accuracy: 0.7644 - val_loss: 0.5944 - val_accuracy: 0.7835\n",
      "Epoch 85/100\n",
      "118/118 [==============================] - 15s 127ms/step - loss: 0.6361 - accuracy: 0.7639 - val_loss: 0.5952 - val_accuracy: 0.7842\n",
      "Epoch 86/100\n",
      "118/118 [==============================] - 16s 134ms/step - loss: 0.6386 - accuracy: 0.7623 - val_loss: 0.5916 - val_accuracy: 0.7845\n",
      "Epoch 87/100\n",
      "118/118 [==============================] - 16s 136ms/step - loss: 0.6347 - accuracy: 0.7630 - val_loss: 0.5953 - val_accuracy: 0.7805\n",
      "Epoch 88/100\n",
      "118/118 [==============================] - 16s 133ms/step - loss: 0.6376 - accuracy: 0.7614 - val_loss: 0.6016 - val_accuracy: 0.7822\n",
      "Epoch 89/100\n",
      "118/118 [==============================] - 14s 122ms/step - loss: 0.6373 - accuracy: 0.7639 - val_loss: 0.5940 - val_accuracy: 0.7850\n",
      "Epoch 90/100\n",
      "118/118 [==============================] - 15s 130ms/step - loss: 0.6364 - accuracy: 0.7628 - val_loss: 0.5997 - val_accuracy: 0.7794\n",
      "Epoch 91/100\n",
      "118/118 [==============================] - 15s 125ms/step - loss: 0.6351 - accuracy: 0.7620 - val_loss: 0.5940 - val_accuracy: 0.7815\n",
      "Epoch 92/100\n",
      "118/118 [==============================] - 15s 125ms/step - loss: 0.6390 - accuracy: 0.7626 - val_loss: 0.5986 - val_accuracy: 0.7782\n",
      "Epoch 93/100\n",
      "118/118 [==============================] - 15s 126ms/step - loss: 0.6372 - accuracy: 0.7621 - val_loss: 0.6008 - val_accuracy: 0.7800\n",
      "Epoch 94/100\n",
      "118/118 [==============================] - 15s 126ms/step - loss: 0.6353 - accuracy: 0.7627 - val_loss: 0.5945 - val_accuracy: 0.7834\n",
      "Epoch 95/100\n",
      "118/118 [==============================] - 15s 128ms/step - loss: 0.6370 - accuracy: 0.7624 - val_loss: 0.5932 - val_accuracy: 0.7816\n",
      "Epoch 96/100\n",
      "118/118 [==============================] - 15s 130ms/step - loss: 0.6363 - accuracy: 0.7613 - val_loss: 0.5963 - val_accuracy: 0.7809\n",
      "Epoch 97/100\n",
      "118/118 [==============================] - 15s 125ms/step - loss: 0.6346 - accuracy: 0.7644 - val_loss: 0.5980 - val_accuracy: 0.7800\n",
      "Epoch 98/100\n",
      "118/118 [==============================] - 15s 127ms/step - loss: 0.6357 - accuracy: 0.7631 - val_loss: 0.6054 - val_accuracy: 0.7808\n",
      "Epoch 99/100\n",
      "118/118 [==============================] - 15s 127ms/step - loss: 0.6369 - accuracy: 0.7635 - val_loss: 0.6009 - val_accuracy: 0.7830\n",
      "Epoch 100/100\n",
      "118/118 [==============================] - 15s 125ms/step - loss: 0.6317 - accuracy: 0.7640 - val_loss: 0.6018 - val_accuracy: 0.7800\n"
     ]
    }
   ],
   "source": [
    "sgd = optimizers.SGD()\n",
    "model.compile(optimizer= sgd,\n",
    "              loss='sparse_categorical_crossentropy',\n",
    "              metrics=['accuracy'])\n",
    "aug = preprocessing.image.ImageDataGenerator(width_shift_range=0.1,\n",
    "                                             height_shift_range=0.1,\n",
    "                                             horizontal_flip=True)\n",
    "batches = aug.flow(x_train, y_train, batch_size=batch_size)\n",
    "val_batches = aug.flow(x_test, y_test, batch_size=batch_size)\n",
    "history = model.fit_generator(batches, \n",
    "                               epochs=epoch,\n",
    "                               validation_data=val_batches, \n",
    "                               callbacks=[lrate])"
   ]
  },
  {
   "cell_type": "code",
   "execution_count": 11,
   "metadata": {},
   "outputs": [
    {
     "name": "stdout",
     "output_type": "stream",
     "text": [
      "10000/10000 - 1s - loss: 0.5527 - accuracy: 0.7940\n"
     ]
    }
   ],
   "source": [
    "test_loss, test_acc = model.evaluate(x_test, y_test, verbose=2)"
   ]
  },
  {
   "cell_type": "code",
   "execution_count": 15,
   "metadata": {},
   "outputs": [
    {
     "data": {
      "text/plain": [
       "<matplotlib.legend.Legend at 0x1b6584b2ef0>"
      ]
     },
     "execution_count": 15,
     "metadata": {},
     "output_type": "execute_result"
    },
    {
     "data": {
      "image/png": "[encoded data removed]",
      "text/plain": [
       "<Figure size 432x288 with 1 Axes>"
      ]
     },
     "metadata": {
      "needs_background": "light"
     },
     "output_type": "display_data"
    }
   ],
   "source": [
    "plt.plot(history.history['accuracy'], label='accuracy')\n",
    "plt.plot(history.history['val_accuracy'], label = 'val_accuracy')\n",
    "plt.xlabel('Epoch')\n",
    "plt.ylabel('Accuracy')\n",
    "plt.ylim([0.5, 0.8])\n",
    "plt.legend(loc='lower right')\n",
    "# plt.savefig(\"ann_acc.png\", dpi=500)"
   ]
  },
  {
   "cell_type": "code",
   "execution_count": 16,
   "metadata": {},
   "outputs": [
    {
     "data": {
      "text/plain": [
       "<matplotlib.legend.Legend at 0x1b658529400>"
      ]
     },
     "execution_count": 16,
     "metadata": {},
     "output_type": "execute_result"
    },
    {
     "data": {
      "image/png": "[encoded data removed]",
      "text/plain": [
       "<Figure size 432x288 with 1 Axes>"
      ]
     },
     "metadata": {
      "needs_background": "light"
     },
     "output_type": "display_data"
    }
   ],
   "source": [
    "plt.plot(history.history['loss'], label='loss')\n",
    "plt.plot(history.history['val_loss'], label = 'val_loss')\n",
    "plt.xlabel('Epoch')\n",
    "plt.ylabel('loss')\n",
    "plt.ylim([0.5, 1])\n",
    "plt.legend(loc='upper right')\n",
    "# plt.savefig(\"ann_loss.png\", dpi=500)"
   ]
  }
 ],
 "metadata": {
  "kernelspec": {
   "display_name": "Python 3",
   "language": "python",
   "name": "python3"
  },
  "language_info": {
   "codemirror_mode": {
    "name": "ipython",
    "version": 3
   },
   "file_extension": ".py",
   "mimetype": "text/x-python",
   "name": "python",
   "nbconvert_exporter": "python",
   "pygments_lexer": "ipython3",
   "version": "3.7.3"
  }
 },
 "nbformat": 4,
 "nbformat_minor": 2
}
