{
  "nbformat": 4,
  "nbformat_minor": 0,
  "metadata": {
    "colab": {
      "name": "TF2G_Fashion_MNIST_PlainCNN9",
      "provenance": [],
      "collapsed_sections": []
    },
    "kernelspec": {
      "name": "python3",
      "display_name": "Python 3"
    },
    "accelerator": "GPU"
  },
  "cells": [
    {
      "cell_type": "code",
      "metadata": {
        "id": "9AGwUFJyToQm",
        "colab_type": "code",
        "colab": {}
      },
      "source": [
        "%tensorflow_version 2.x"
      ],
      "execution_count": 0,
      "outputs": []
    },
    {
      "cell_type": "code",
      "metadata": {
        "id": "LFq5JxDrTkLa",
        "colab_type": "code",
        "colab": {}
      },
      "source": [
        "%matplotlib inline\n",
        "import math\n",
        "import numpy as np\n",
        "import pandas as pd\n",
        "import matplotlib.pyplot as plt\n",
        "from tensorflow.keras import *\n",
        "from tensorflow.keras.utils import *\n",
        "from tensorflow.keras.datasets import fashion_mnist"
      ],
      "execution_count": 0,
      "outputs": []
    },
    {
      "cell_type": "code",
      "metadata": {
        "id": "c7LJ9Dhbb3aQ",
        "colab_type": "code",
        "outputId": "d782fb57-ca8a-4528-d638-fbcd195f26da",
        "colab": {
          "base_uri": "https://localhost:8080/",
          "height": 153
        }
      },
      "source": [
        "(x_train, y_train), (x_test, y_test) = fashion_mnist.load_data()\n",
        "x_train = x_train.astype('float32')\n",
        "x_test = x_test.astype('float32')\n",
        "x_train = x_train / 255.0\n",
        "x_test = x_test / 255.0\n",
        "x_train = np.expand_dims(x_train, -1)\n",
        "x_test = np.expand_dims(x_test, -1)"
      ],
      "execution_count": 3,
      "outputs": [
        {
          "output_type": "stream",
          "text": [
            "Downloading data from https://storage.googleapis.com/tensorflow/tf-keras-datasets/train-labels-idx1-ubyte.gz\n",
            "32768/29515 [=================================] - 0s 0us/step\n",
            "Downloading data from https://storage.googleapis.com/tensorflow/tf-keras-datasets/train-images-idx3-ubyte.gz\n",
            "26427392/26421880 [==============================] - 0s 0us/step\n",
            "Downloading data from https://storage.googleapis.com/tensorflow/tf-keras-datasets/t10k-labels-idx1-ubyte.gz\n",
            "8192/5148 [===============================================] - 0s 0us/step\n",
            "Downloading data from https://storage.googleapis.com/tensorflow/tf-keras-datasets/t10k-images-idx3-ubyte.gz\n",
            "4423680/4422102 [==============================] - 0s 0us/step\n"
          ],
          "name": "stdout"
        }
      ]
    },
    {
      "cell_type": "markdown",
      "metadata": {
        "id": "4jEkwXyUesNw",
        "colab_type": "text"
      },
      "source": [
        "### Hyperparameters\n",
        "#### Epoch: 100\n",
        "\n",
        "#### Initial Learning Rate: 0.005\n",
        "##### 測試過0.01太大，0.001有點小，取0.005。\n",
        "#### Batch  Size: 512\n",
        "##### 取2的次方數能加快學習，反正Colab的Ram不用白不用，就取了512。\n",
        "#### Kernel Initializer: he_normal\n",
        "\n"
      ]
    },
    {
      "cell_type": "code",
      "metadata": {
        "id": "rdwR9nT7b4Au",
        "colab_type": "code",
        "colab": {}
      },
      "source": [
        "epoch = 100\n",
        "learning_rate = 5e-3\n",
        "batch = 512\n",
        "initializer = initializers.he_normal(seed=114)"
      ],
      "execution_count": 0,
      "outputs": []
    },
    {
      "cell_type": "markdown",
      "metadata": {
        "id": "5Yx7hl-2gXVv",
        "colab_type": "text"
      },
      "source": [
        "### 定義basic_layer :\n",
        "#### 順序是 Conv - BN - Dropout (- Maxpool) - Activation Function\n",
        "###### -   卷積層都採用 3x3 Filter，stride=1，padding=1\n",
        "###### -   每層都使用BN\n",
        "###### -   Dropout策略使用Spatial Dropout代替基本Dropout\n",
        "###### -   Maxpool使用(3,2,1)而非(2,2,0)\n",
        "###### -   Activation Function使用ELUs\n",
        "###### -   MP層放Activation層前面\n",
        "\n",
        "\n"
      ]
    },
    {
      "cell_type": "code",
      "metadata": {
        "id": "gby80imYb4jy",
        "colab_type": "code",
        "colab": {}
      },
      "source": [
        "def basic_layer(channel, dropoutrate = 0.0, bn = True, mp = False):\n",
        "    layer = models.Sequential()\n",
        "    layer.add(layers.Conv2D(channel, (3, 3), padding='same', kernel_initializer=initializer))\n",
        "    if bn:\n",
        "        layer.add(layers.BatchNormalization())\n",
        "    if(dropoutrate>0):\n",
        "        layer.add(layers.SpatialDropout2D(dropoutrate))\n",
        "    if mp:\n",
        "        layer.add(layers.MaxPooling2D((3, 3), strides=2, padding='same'))\n",
        "    layer.add(layers.Activation('elu'))\n",
        "    return layer"
      ],
      "execution_count": 0,
      "outputs": []
    },
    {
      "cell_type": "markdown",
      "metadata": {
        "id": "h0wPvZqdhcuQ",
        "colab_type": "text"
      },
      "source": [
        "###網路結構 :\n",
        "#### 使用9層Plain CNN\n",
        "#### channel : (16)x2 - (Maxpool) - (32)x3 - (Maxpool) - (64)x3 - GAP - output\n",
        "##### 用GAP代替FC層，效果好，節省運算資源\n"
      ]
    },
    {
      "cell_type": "code",
      "metadata": {
        "id": "K6tDCQfLb5Mh",
        "colab_type": "code",
        "colab": {}
      },
      "source": [
        "model = models.Sequential()\n",
        "model.add(layers.Conv2D(16, (3, 3), padding='same', use_bias='true', kernel_initializer=initializer, input_shape=(28, 28, 1)))\n",
        "model.add(layers.BatchNormalization())\n",
        "model.add(layers.Activation('elu'))\n",
        "model.add(basic_layer(16, mp = True))\n",
        "model.add(basic_layer(32))\n",
        "model.add(basic_layer(32, 0.25))\n",
        "model.add(basic_layer(32, 0.25, mp = True))\n",
        "model.add(basic_layer(64, 0.25))\n",
        "model.add(basic_layer(64, 0.25))\n",
        "model.add(basic_layer(64, 0.25))\n",
        "model.add(layers.GlobalAveragePooling2D())\n",
        "model.add(layers.Dense(10, activation='softmax'))"
      ],
      "execution_count": 0,
      "outputs": []
    },
    {
      "cell_type": "code",
      "metadata": {
        "id": "sAgAeXb3b6Re",
        "colab_type": "code",
        "outputId": "e74ddfc9-f9a1-488a-cf49-1f0d726334c0",
        "colab": {
          "base_uri": "https://localhost:8080/",
          "height": 561
        }
      },
      "source": [
        "model.summary()"
      ],
      "execution_count": 7,
      "outputs": [
        {
          "output_type": "stream",
          "text": [
            "Model: \"sequential\"\n",
            "_________________________________________________________________\n",
            "Layer (type)                 Output Shape              Param #   \n",
            "=================================================================\n",
            "conv2d (Conv2D)              (None, 28, 28, 16)        160       \n",
            "_________________________________________________________________\n",
            "batch_normalization (BatchNo (None, 28, 28, 16)        64        \n",
            "_________________________________________________________________\n",
            "activation (Activation)      (None, 28, 28, 16)        0         \n",
            "_________________________________________________________________\n",
            "sequential_1 (Sequential)    (None, 14, 14, 16)        2384      \n",
            "_________________________________________________________________\n",
            "sequential_2 (Sequential)    (None, 14, 14, 32)        4768      \n",
            "_________________________________________________________________\n",
            "sequential_3 (Sequential)    (None, 14, 14, 32)        9376      \n",
            "_________________________________________________________________\n",
            "sequential_4 (Sequential)    (None, 7, 7, 32)          9376      \n",
            "_________________________________________________________________\n",
            "sequential_5 (Sequential)    (None, 7, 7, 64)          18752     \n",
            "_________________________________________________________________\n",
            "sequential_6 (Sequential)    (None, 7, 7, 64)          37184     \n",
            "_________________________________________________________________\n",
            "sequential_7 (Sequential)    (None, 7, 7, 64)          37184     \n",
            "_________________________________________________________________\n",
            "global_average_pooling2d (Gl (None, 64)                0         \n",
            "_________________________________________________________________\n",
            "dense (Dense)                (None, 10)                650       \n",
            "=================================================================\n",
            "Total params: 119,898\n",
            "Trainable params: 119,258\n",
            "Non-trainable params: 640\n",
            "_________________________________________________________________\n"
          ],
          "name": "stdout"
        }
      ]
    },
    {
      "cell_type": "markdown",
      "metadata": {
        "id": "7msGkZjXliO4",
        "colab_type": "text"
      },
      "source": [
        "#### Optimizer : Adam\n",
        "#### Train : Validation : Test = 5 : 1 : 1"
      ]
    },
    {
      "cell_type": "code",
      "metadata": {
        "id": "eIT0sSS0b67P",
        "colab_type": "code",
        "outputId": "a2fd56c3-8e4c-4389-ac95-21e07c2f42ba",
        "colab": {
          "base_uri": "https://localhost:8080/",
          "height": 1000
        }
      },
      "source": [
        "adam = optimizers.Adam(lr = learning_rate)\n",
        "model.compile(optimizer= adam,\n",
        "              loss='sparse_categorical_crossentropy',\n",
        "              metrics=['accuracy'])\n",
        "history = model.fit(x_train,\n",
        "                    y_train, \n",
        "                    batch_size=batch, \n",
        "                    epochs=epoch, \n",
        "                    validation_split = (1/6))  "
      ],
      "execution_count": 8,
      "outputs": [
        {
          "output_type": "stream",
          "text": [
            "Epoch 1/100\n",
            "98/98 [==============================] - 7s 71ms/step - loss: 0.9188 - accuracy: 0.6598 - val_loss: 2.2064 - val_accuracy: 0.4873\n",
            "Epoch 2/100\n",
            "98/98 [==============================] - 6s 64ms/step - loss: 0.5675 - accuracy: 0.7896 - val_loss: 1.0363 - val_accuracy: 0.6821\n",
            "Epoch 3/100\n",
            "98/98 [==============================] - 6s 63ms/step - loss: 0.4586 - accuracy: 0.8336 - val_loss: 0.9845 - val_accuracy: 0.6796\n",
            "Epoch 4/100\n",
            "98/98 [==============================] - 6s 63ms/step - loss: 0.4034 - accuracy: 0.8560 - val_loss: 0.3642 - val_accuracy: 0.8687\n",
            "Epoch 5/100\n",
            "98/98 [==============================] - 6s 63ms/step - loss: 0.3633 - accuracy: 0.8711 - val_loss: 0.3188 - val_accuracy: 0.8898\n",
            "Epoch 6/100\n",
            "98/98 [==============================] - 6s 63ms/step - loss: 0.3432 - accuracy: 0.8777 - val_loss: 0.3100 - val_accuracy: 0.8933\n",
            "Epoch 7/100\n",
            "98/98 [==============================] - 6s 63ms/step - loss: 0.3253 - accuracy: 0.8865 - val_loss: 0.3077 - val_accuracy: 0.8951\n",
            "Epoch 8/100\n",
            "98/98 [==============================] - 6s 63ms/step - loss: 0.3152 - accuracy: 0.8901 - val_loss: 0.2781 - val_accuracy: 0.9037\n",
            "Epoch 9/100\n",
            "98/98 [==============================] - 6s 64ms/step - loss: 0.2959 - accuracy: 0.8970 - val_loss: 0.3045 - val_accuracy: 0.8955\n",
            "Epoch 10/100\n",
            "98/98 [==============================] - 6s 64ms/step - loss: 0.2878 - accuracy: 0.8979 - val_loss: 0.2736 - val_accuracy: 0.9051\n",
            "Epoch 11/100\n",
            "98/98 [==============================] - 6s 63ms/step - loss: 0.2827 - accuracy: 0.8987 - val_loss: 0.2776 - val_accuracy: 0.9050\n",
            "Epoch 12/100\n",
            "98/98 [==============================] - 6s 63ms/step - loss: 0.2706 - accuracy: 0.9027 - val_loss: 0.2586 - val_accuracy: 0.9126\n",
            "Epoch 13/100\n",
            "98/98 [==============================] - 6s 64ms/step - loss: 0.2669 - accuracy: 0.9050 - val_loss: 0.2593 - val_accuracy: 0.9121\n",
            "Epoch 14/100\n",
            "98/98 [==============================] - 6s 63ms/step - loss: 0.2589 - accuracy: 0.9083 - val_loss: 0.2728 - val_accuracy: 0.9120\n",
            "Epoch 15/100\n",
            "98/98 [==============================] - 6s 63ms/step - loss: 0.2503 - accuracy: 0.9101 - val_loss: 0.2601 - val_accuracy: 0.9118\n",
            "Epoch 16/100\n",
            "98/98 [==============================] - 6s 63ms/step - loss: 0.2451 - accuracy: 0.9139 - val_loss: 0.2658 - val_accuracy: 0.9124\n",
            "Epoch 17/100\n",
            "98/98 [==============================] - 6s 63ms/step - loss: 0.2426 - accuracy: 0.9152 - val_loss: 0.2446 - val_accuracy: 0.9167\n",
            "Epoch 18/100\n",
            "98/98 [==============================] - 6s 63ms/step - loss: 0.2373 - accuracy: 0.9152 - val_loss: 0.2457 - val_accuracy: 0.9161\n",
            "Epoch 19/100\n",
            "98/98 [==============================] - 6s 63ms/step - loss: 0.2350 - accuracy: 0.9168 - val_loss: 0.2496 - val_accuracy: 0.9153\n",
            "Epoch 20/100\n",
            "98/98 [==============================] - 6s 63ms/step - loss: 0.2292 - accuracy: 0.9175 - val_loss: 0.2854 - val_accuracy: 0.9075\n",
            "Epoch 21/100\n",
            "98/98 [==============================] - 6s 63ms/step - loss: 0.2285 - accuracy: 0.9186 - val_loss: 0.2479 - val_accuracy: 0.9188\n",
            "Epoch 22/100\n",
            "98/98 [==============================] - 6s 63ms/step - loss: 0.2200 - accuracy: 0.9222 - val_loss: 0.2228 - val_accuracy: 0.9251\n",
            "Epoch 23/100\n",
            "98/98 [==============================] - 6s 63ms/step - loss: 0.2168 - accuracy: 0.9218 - val_loss: 0.2480 - val_accuracy: 0.9187\n",
            "Epoch 24/100\n",
            "98/98 [==============================] - 6s 63ms/step - loss: 0.2149 - accuracy: 0.9236 - val_loss: 0.2181 - val_accuracy: 0.9268\n",
            "Epoch 25/100\n",
            "98/98 [==============================] - 6s 63ms/step - loss: 0.2123 - accuracy: 0.9246 - val_loss: 0.2459 - val_accuracy: 0.9173\n",
            "Epoch 26/100\n",
            "98/98 [==============================] - 6s 63ms/step - loss: 0.2116 - accuracy: 0.9239 - val_loss: 0.2394 - val_accuracy: 0.9220\n",
            "Epoch 27/100\n",
            "98/98 [==============================] - 6s 63ms/step - loss: 0.2075 - accuracy: 0.9262 - val_loss: 0.2639 - val_accuracy: 0.9152\n",
            "Epoch 28/100\n",
            "98/98 [==============================] - 6s 63ms/step - loss: 0.2067 - accuracy: 0.9262 - val_loss: 0.2380 - val_accuracy: 0.9239\n",
            "Epoch 29/100\n",
            "98/98 [==============================] - 6s 63ms/step - loss: 0.2034 - accuracy: 0.9282 - val_loss: 0.2246 - val_accuracy: 0.9254\n",
            "Epoch 30/100\n",
            "98/98 [==============================] - 6s 63ms/step - loss: 0.2004 - accuracy: 0.9283 - val_loss: 0.2170 - val_accuracy: 0.9293\n",
            "Epoch 31/100\n",
            "98/98 [==============================] - 6s 62ms/step - loss: 0.1968 - accuracy: 0.9298 - val_loss: 0.2187 - val_accuracy: 0.9278\n",
            "Epoch 32/100\n",
            "98/98 [==============================] - 6s 63ms/step - loss: 0.1961 - accuracy: 0.9287 - val_loss: 0.2492 - val_accuracy: 0.9222\n",
            "Epoch 33/100\n",
            "98/98 [==============================] - 6s 63ms/step - loss: 0.1930 - accuracy: 0.9297 - val_loss: 0.2497 - val_accuracy: 0.9206\n",
            "Epoch 34/100\n",
            "98/98 [==============================] - 6s 63ms/step - loss: 0.1899 - accuracy: 0.9326 - val_loss: 0.2359 - val_accuracy: 0.9248\n",
            "Epoch 35/100\n",
            "98/98 [==============================] - 6s 63ms/step - loss: 0.1896 - accuracy: 0.9316 - val_loss: 0.2166 - val_accuracy: 0.9295\n",
            "Epoch 36/100\n",
            "98/98 [==============================] - 6s 62ms/step - loss: 0.1892 - accuracy: 0.9329 - val_loss: 0.2487 - val_accuracy: 0.9201\n",
            "Epoch 37/100\n",
            "98/98 [==============================] - 6s 63ms/step - loss: 0.1849 - accuracy: 0.9333 - val_loss: 0.2281 - val_accuracy: 0.9266\n",
            "Epoch 38/100\n",
            "98/98 [==============================] - 6s 63ms/step - loss: 0.1822 - accuracy: 0.9348 - val_loss: 0.2680 - val_accuracy: 0.9133\n",
            "Epoch 39/100\n",
            "98/98 [==============================] - 6s 63ms/step - loss: 0.1815 - accuracy: 0.9353 - val_loss: 0.2205 - val_accuracy: 0.9306\n",
            "Epoch 40/100\n",
            "98/98 [==============================] - 6s 63ms/step - loss: 0.1791 - accuracy: 0.9362 - val_loss: 0.2282 - val_accuracy: 0.9290\n",
            "Epoch 41/100\n",
            "98/98 [==============================] - 6s 63ms/step - loss: 0.1773 - accuracy: 0.9364 - val_loss: 0.2293 - val_accuracy: 0.9292\n",
            "Epoch 42/100\n",
            "98/98 [==============================] - 6s 63ms/step - loss: 0.1765 - accuracy: 0.9361 - val_loss: 0.2321 - val_accuracy: 0.9284\n",
            "Epoch 43/100\n",
            "98/98 [==============================] - 6s 64ms/step - loss: 0.1776 - accuracy: 0.9362 - val_loss: 0.2251 - val_accuracy: 0.9296\n",
            "Epoch 44/100\n",
            "98/98 [==============================] - 6s 63ms/step - loss: 0.1731 - accuracy: 0.9390 - val_loss: 0.2361 - val_accuracy: 0.9261\n",
            "Epoch 45/100\n",
            "98/98 [==============================] - 6s 64ms/step - loss: 0.1723 - accuracy: 0.9386 - val_loss: 0.2338 - val_accuracy: 0.9290\n",
            "Epoch 46/100\n",
            "98/98 [==============================] - 6s 63ms/step - loss: 0.1706 - accuracy: 0.9394 - val_loss: 0.2290 - val_accuracy: 0.9297\n",
            "Epoch 47/100\n",
            "98/98 [==============================] - 6s 63ms/step - loss: 0.1694 - accuracy: 0.9399 - val_loss: 0.2255 - val_accuracy: 0.9311\n",
            "Epoch 48/100\n",
            "98/98 [==============================] - 6s 64ms/step - loss: 0.1673 - accuracy: 0.9410 - val_loss: 0.2263 - val_accuracy: 0.9319\n",
            "Epoch 49/100\n",
            "98/98 [==============================] - 6s 64ms/step - loss: 0.1655 - accuracy: 0.9402 - val_loss: 0.2560 - val_accuracy: 0.9244\n",
            "Epoch 50/100\n",
            "98/98 [==============================] - 6s 63ms/step - loss: 0.1635 - accuracy: 0.9407 - val_loss: 0.2223 - val_accuracy: 0.9334\n",
            "Epoch 51/100\n",
            "98/98 [==============================] - 6s 63ms/step - loss: 0.1633 - accuracy: 0.9408 - val_loss: 0.2547 - val_accuracy: 0.9220\n",
            "Epoch 52/100\n",
            "98/98 [==============================] - 6s 63ms/step - loss: 0.1616 - accuracy: 0.9420 - val_loss: 0.2329 - val_accuracy: 0.9297\n",
            "Epoch 53/100\n",
            "98/98 [==============================] - 6s 63ms/step - loss: 0.1646 - accuracy: 0.9420 - val_loss: 0.2443 - val_accuracy: 0.9255\n",
            "Epoch 54/100\n",
            "98/98 [==============================] - 6s 63ms/step - loss: 0.1597 - accuracy: 0.9431 - val_loss: 0.2282 - val_accuracy: 0.9300\n",
            "Epoch 55/100\n",
            "98/98 [==============================] - 6s 63ms/step - loss: 0.1582 - accuracy: 0.9440 - val_loss: 0.2482 - val_accuracy: 0.9236\n",
            "Epoch 56/100\n",
            "98/98 [==============================] - 6s 63ms/step - loss: 0.1544 - accuracy: 0.9439 - val_loss: 0.2399 - val_accuracy: 0.9318\n",
            "Epoch 57/100\n",
            "98/98 [==============================] - 6s 64ms/step - loss: 0.1540 - accuracy: 0.9454 - val_loss: 0.2191 - val_accuracy: 0.9340\n",
            "Epoch 58/100\n",
            "98/98 [==============================] - 6s 63ms/step - loss: 0.1592 - accuracy: 0.9419 - val_loss: 0.2249 - val_accuracy: 0.9343\n",
            "Epoch 59/100\n",
            "98/98 [==============================] - 6s 63ms/step - loss: 0.1523 - accuracy: 0.9448 - val_loss: 0.2288 - val_accuracy: 0.9309\n",
            "Epoch 60/100\n",
            "98/98 [==============================] - 6s 63ms/step - loss: 0.1517 - accuracy: 0.9452 - val_loss: 0.2402 - val_accuracy: 0.9302\n",
            "Epoch 61/100\n",
            "98/98 [==============================] - 6s 63ms/step - loss: 0.1525 - accuracy: 0.9440 - val_loss: 0.2541 - val_accuracy: 0.9283\n",
            "Epoch 62/100\n",
            "98/98 [==============================] - 6s 63ms/step - loss: 0.1479 - accuracy: 0.9465 - val_loss: 0.2399 - val_accuracy: 0.9306\n",
            "Epoch 63/100\n",
            "98/98 [==============================] - 6s 63ms/step - loss: 0.1518 - accuracy: 0.9458 - val_loss: 0.2388 - val_accuracy: 0.9303\n",
            "Epoch 64/100\n",
            "98/98 [==============================] - 6s 63ms/step - loss: 0.1473 - accuracy: 0.9486 - val_loss: 0.2320 - val_accuracy: 0.9321\n",
            "Epoch 65/100\n",
            "98/98 [==============================] - 6s 63ms/step - loss: 0.1453 - accuracy: 0.9484 - val_loss: 0.2347 - val_accuracy: 0.9317\n",
            "Epoch 66/100\n",
            "98/98 [==============================] - 6s 63ms/step - loss: 0.1417 - accuracy: 0.9490 - val_loss: 0.2337 - val_accuracy: 0.9320\n",
            "Epoch 67/100\n",
            "98/98 [==============================] - 6s 63ms/step - loss: 0.1469 - accuracy: 0.9463 - val_loss: 0.2460 - val_accuracy: 0.9291\n",
            "Epoch 68/100\n",
            "98/98 [==============================] - 6s 63ms/step - loss: 0.1431 - accuracy: 0.9481 - val_loss: 0.2288 - val_accuracy: 0.9311\n",
            "Epoch 69/100\n",
            "98/98 [==============================] - 6s 63ms/step - loss: 0.1418 - accuracy: 0.9488 - val_loss: 0.2458 - val_accuracy: 0.9324\n",
            "Epoch 70/100\n",
            "98/98 [==============================] - 6s 64ms/step - loss: 0.1413 - accuracy: 0.9482 - val_loss: 0.2606 - val_accuracy: 0.9258\n",
            "Epoch 71/100\n",
            "98/98 [==============================] - 6s 62ms/step - loss: 0.1396 - accuracy: 0.9500 - val_loss: 0.2414 - val_accuracy: 0.9330\n",
            "Epoch 72/100\n",
            "98/98 [==============================] - 6s 63ms/step - loss: 0.1387 - accuracy: 0.9503 - val_loss: 0.2570 - val_accuracy: 0.9309\n",
            "Epoch 73/100\n",
            "98/98 [==============================] - 6s 63ms/step - loss: 0.1385 - accuracy: 0.9507 - val_loss: 0.2310 - val_accuracy: 0.9351\n",
            "Epoch 74/100\n",
            "98/98 [==============================] - 6s 63ms/step - loss: 0.1356 - accuracy: 0.9507 - val_loss: 0.2313 - val_accuracy: 0.9349\n",
            "Epoch 75/100\n",
            "98/98 [==============================] - 6s 63ms/step - loss: 0.1357 - accuracy: 0.9511 - val_loss: 0.2343 - val_accuracy: 0.9318\n",
            "Epoch 76/100\n",
            "98/98 [==============================] - 6s 63ms/step - loss: 0.1345 - accuracy: 0.9522 - val_loss: 0.2548 - val_accuracy: 0.9322\n",
            "Epoch 77/100\n",
            "98/98 [==============================] - 6s 63ms/step - loss: 0.1351 - accuracy: 0.9513 - val_loss: 0.2559 - val_accuracy: 0.9312\n",
            "Epoch 78/100\n",
            "98/98 [==============================] - 6s 62ms/step - loss: 0.1327 - accuracy: 0.9521 - val_loss: 0.2297 - val_accuracy: 0.9365\n",
            "Epoch 79/100\n",
            "98/98 [==============================] - 6s 63ms/step - loss: 0.1329 - accuracy: 0.9525 - val_loss: 0.2410 - val_accuracy: 0.9322\n",
            "Epoch 80/100\n",
            "98/98 [==============================] - 6s 63ms/step - loss: 0.1285 - accuracy: 0.9545 - val_loss: 0.2527 - val_accuracy: 0.9312\n",
            "Epoch 81/100\n",
            "98/98 [==============================] - 6s 63ms/step - loss: 0.1303 - accuracy: 0.9533 - val_loss: 0.2322 - val_accuracy: 0.9321\n",
            "Epoch 82/100\n",
            "98/98 [==============================] - 6s 63ms/step - loss: 0.1279 - accuracy: 0.9534 - val_loss: 0.2467 - val_accuracy: 0.9332\n",
            "Epoch 83/100\n",
            "98/98 [==============================] - 6s 64ms/step - loss: 0.1278 - accuracy: 0.9539 - val_loss: 0.2573 - val_accuracy: 0.9314\n",
            "Epoch 84/100\n",
            "98/98 [==============================] - 6s 64ms/step - loss: 0.1307 - accuracy: 0.9531 - val_loss: 0.2480 - val_accuracy: 0.9358\n",
            "Epoch 85/100\n",
            "98/98 [==============================] - 6s 63ms/step - loss: 0.1280 - accuracy: 0.9540 - val_loss: 0.2404 - val_accuracy: 0.9335\n",
            "Epoch 86/100\n",
            "98/98 [==============================] - 6s 63ms/step - loss: 0.1272 - accuracy: 0.9542 - val_loss: 0.2708 - val_accuracy: 0.9245\n",
            "Epoch 87/100\n",
            "98/98 [==============================] - 6s 64ms/step - loss: 0.1254 - accuracy: 0.9542 - val_loss: 0.2496 - val_accuracy: 0.9345\n",
            "Epoch 88/100\n",
            "98/98 [==============================] - 6s 63ms/step - loss: 0.1263 - accuracy: 0.9541 - val_loss: 0.2462 - val_accuracy: 0.9327\n",
            "Epoch 89/100\n",
            "98/98 [==============================] - 6s 63ms/step - loss: 0.1270 - accuracy: 0.9546 - val_loss: 0.2983 - val_accuracy: 0.9197\n",
            "Epoch 90/100\n",
            "98/98 [==============================] - 6s 63ms/step - loss: 0.1243 - accuracy: 0.9549 - val_loss: 0.2789 - val_accuracy: 0.9280\n",
            "Epoch 91/100\n",
            "98/98 [==============================] - 6s 63ms/step - loss: 0.1239 - accuracy: 0.9551 - val_loss: 0.2596 - val_accuracy: 0.9275\n",
            "Epoch 92/100\n",
            "98/98 [==============================] - 6s 63ms/step - loss: 0.1197 - accuracy: 0.9566 - val_loss: 0.2511 - val_accuracy: 0.9320\n",
            "Epoch 93/100\n",
            "98/98 [==============================] - 6s 64ms/step - loss: 0.1223 - accuracy: 0.9570 - val_loss: 0.2575 - val_accuracy: 0.9344\n",
            "Epoch 94/100\n",
            "98/98 [==============================] - 6s 64ms/step - loss: 0.1210 - accuracy: 0.9559 - val_loss: 0.2448 - val_accuracy: 0.9330\n",
            "Epoch 95/100\n",
            "98/98 [==============================] - 6s 63ms/step - loss: 0.1192 - accuracy: 0.9569 - val_loss: 0.2484 - val_accuracy: 0.9342\n",
            "Epoch 96/100\n",
            "98/98 [==============================] - 6s 64ms/step - loss: 0.1216 - accuracy: 0.9560 - val_loss: 0.2620 - val_accuracy: 0.9328\n",
            "Epoch 97/100\n",
            "98/98 [==============================] - 6s 63ms/step - loss: 0.1202 - accuracy: 0.9560 - val_loss: 0.2445 - val_accuracy: 0.9333\n",
            "Epoch 98/100\n",
            "98/98 [==============================] - 6s 63ms/step - loss: 0.1178 - accuracy: 0.9583 - val_loss: 0.2448 - val_accuracy: 0.9306\n",
            "Epoch 99/100\n",
            "98/98 [==============================] - 6s 63ms/step - loss: 0.1138 - accuracy: 0.9575 - val_loss: 0.2638 - val_accuracy: 0.9327\n",
            "Epoch 100/100\n",
            "98/98 [==============================] - 6s 63ms/step - loss: 0.1140 - accuracy: 0.9584 - val_loss: 0.2527 - val_accuracy: 0.9324\n"
          ],
          "name": "stdout"
        }
      ]
    },
    {
      "cell_type": "code",
      "metadata": {
        "id": "mMUjF5T4b7ww",
        "colab_type": "code",
        "outputId": "afcb6387-882d-4c9d-b328-778633de0d9c",
        "colab": {
          "base_uri": "https://localhost:8080/",
          "height": 34
        }
      },
      "source": [
        "test_loss, test_acc = model.evaluate(x_test, y_test, verbose=2)"
      ],
      "execution_count": 9,
      "outputs": [
        {
          "output_type": "stream",
          "text": [
            "313/313 - 1s - loss: 0.3012 - accuracy: 0.9253\n"
          ],
          "name": "stdout"
        }
      ]
    },
    {
      "cell_type": "code",
      "metadata": {
        "id": "bIWJ_yjwb8V_",
        "colab_type": "code",
        "outputId": "a86da1dd-58a4-4b6c-e12a-a405902169f7",
        "colab": {
          "base_uri": "https://localhost:8080/",
          "height": 300
        }
      },
      "source": [
        "plt.plot(history.history['accuracy'], label='accuracy')\n",
        "plt.plot(history.history['val_accuracy'], label = 'val_accuracy')\n",
        "plt.xlabel('Epoch')\n",
        "plt.ylabel('Accuracy')\n",
        "plt.ylim([0.5, 1])\n",
        "plt.legend(loc='lower right')\n",
        "# plt.savefig(\"ann_acc.png\", dpi=500)"
      ],
      "execution_count": 10,
      "outputs": [
        {
          "output_type": "execute_result",
          "data": {
            "text/plain": [
              "<matplotlib.legend.Legend at 0x7f5b74e5beb8>"
            ]
          },
          "metadata": {
            "tags": []
          },
          "execution_count": 10
        },
        {
          "output_type": "display_data",
          "data": {
            "image/png": "[encoded data removed]",
            "text/plain": [
              "<Figure size 432x288 with 1 Axes>"
            ]
          },
          "metadata": {
            "tags": []
          }
        }
      ]
    },
    {
      "cell_type": "code",
      "metadata": {
        "id": "maods0xfb85_",
        "colab_type": "code",
        "outputId": "0dc21f84-79e2-45c0-a722-9efe68448b87",
        "colab": {
          "base_uri": "https://localhost:8080/",
          "height": 300
        }
      },
      "source": [
        "plt.plot(history.history['loss'], label='loss')\n",
        "plt.plot(history.history['val_loss'], label = 'val_loss')\n",
        "plt.xlabel('Epoch')\n",
        "plt.ylabel('loss')\n",
        "plt.ylim([0, 1])\n",
        "plt.legend(loc='upper right')\n",
        "# plt.savefig(\"ann_loss.png\", dpi=500)"
      ],
      "execution_count": 11,
      "outputs": [
        {
          "output_type": "execute_result",
          "data": {
            "text/plain": [
              "<matplotlib.legend.Legend at 0x7f5b74e5bf28>"
            ]
          },
          "metadata": {
            "tags": []
          },
          "execution_count": 11
        },
        {
          "output_type": "display_data",
          "data": {
            "image/png": "[encoded data removed]",
            "text/plain": [
              "<Figure size 432x288 with 1 Axes>"
            ]
          },
          "metadata": {
            "tags": []
          }
        }
      ]
    },
    {
      "cell_type": "markdown",
      "metadata": {
        "id": "rmFhmwrAl511",
        "colab_type": "text"
      },
      "source": [
        "##Result : \n",
        "### Train accuracy: 95.84%\n",
        "### Valid accuracy: 93.24%\n",
        "### Test  accuracy: 92.53%\n",
        "#### 可以看到訓練後期有過擬合現象。"
      ]
    }
  ]
}