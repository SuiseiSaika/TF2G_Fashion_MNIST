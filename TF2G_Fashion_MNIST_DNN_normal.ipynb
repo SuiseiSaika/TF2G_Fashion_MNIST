{
 "cells": [
  {
   "cell_type": "code",
   "execution_count": 1,
   "metadata": {},
   "outputs": [
    {
     "name": "stderr",
     "output_type": "stream",
     "text": [
      "C:\\Users\\Suisei_Saika\\Anaconda3\\lib\\site-packages\\tensorflow\\python\\framework\\dtypes.py:523: FutureWarning: Passing (type, 1) or '1type' as a synonym of type is deprecated; in a future version of numpy, it will be understood as (type, (1,)) / '(1,)type'.\n",
      "  _np_qint8 = np.dtype([(\"qint8\", np.int8, 1)])\n",
      "C:\\Users\\Suisei_Saika\\Anaconda3\\lib\\site-packages\\tensorflow\\python\\framework\\dtypes.py:524: FutureWarning: Passing (type, 1) or '1type' as a synonym of type is deprecated; in a future version of numpy, it will be understood as (type, (1,)) / '(1,)type'.\n",
      "  _np_quint8 = np.dtype([(\"quint8\", np.uint8, 1)])\n",
      "C:\\Users\\Suisei_Saika\\Anaconda3\\lib\\site-packages\\tensorflow\\python\\framework\\dtypes.py:525: FutureWarning: Passing (type, 1) or '1type' as a synonym of type is deprecated; in a future version of numpy, it will be understood as (type, (1,)) / '(1,)type'.\n",
      "  _np_qint16 = np.dtype([(\"qint16\", np.int16, 1)])\n",
      "C:\\Users\\Suisei_Saika\\Anaconda3\\lib\\site-packages\\tensorflow\\python\\framework\\dtypes.py:526: FutureWarning: Passing (type, 1) or '1type' as a synonym of type is deprecated; in a future version of numpy, it will be understood as (type, (1,)) / '(1,)type'.\n",
      "  _np_quint16 = np.dtype([(\"quint16\", np.uint16, 1)])\n",
      "C:\\Users\\Suisei_Saika\\Anaconda3\\lib\\site-packages\\tensorflow\\python\\framework\\dtypes.py:527: FutureWarning: Passing (type, 1) or '1type' as a synonym of type is deprecated; in a future version of numpy, it will be understood as (type, (1,)) / '(1,)type'.\n",
      "  _np_qint32 = np.dtype([(\"qint32\", np.int32, 1)])\n",
      "C:\\Users\\Suisei_Saika\\Anaconda3\\lib\\site-packages\\tensorflow\\python\\framework\\dtypes.py:532: FutureWarning: Passing (type, 1) or '1type' as a synonym of type is deprecated; in a future version of numpy, it will be understood as (type, (1,)) / '(1,)type'.\n",
      "  np_resource = np.dtype([(\"resource\", np.ubyte, 1)])\n",
      "C:\\Users\\Suisei_Saika\\Anaconda3\\lib\\site-packages\\tensorboard\\compat\\tensorflow_stub\\dtypes.py:541: FutureWarning: Passing (type, 1) or '1type' as a synonym of type is deprecated; in a future version of numpy, it will be understood as (type, (1,)) / '(1,)type'.\n",
      "  _np_qint8 = np.dtype([(\"qint8\", np.int8, 1)])\n",
      "C:\\Users\\Suisei_Saika\\Anaconda3\\lib\\site-packages\\tensorboard\\compat\\tensorflow_stub\\dtypes.py:542: FutureWarning: Passing (type, 1) or '1type' as a synonym of type is deprecated; in a future version of numpy, it will be understood as (type, (1,)) / '(1,)type'.\n",
      "  _np_quint8 = np.dtype([(\"quint8\", np.uint8, 1)])\n",
      "C:\\Users\\Suisei_Saika\\Anaconda3\\lib\\site-packages\\tensorboard\\compat\\tensorflow_stub\\dtypes.py:543: FutureWarning: Passing (type, 1) or '1type' as a synonym of type is deprecated; in a future version of numpy, it will be understood as (type, (1,)) / '(1,)type'.\n",
      "  _np_qint16 = np.dtype([(\"qint16\", np.int16, 1)])\n",
      "C:\\Users\\Suisei_Saika\\Anaconda3\\lib\\site-packages\\tensorboard\\compat\\tensorflow_stub\\dtypes.py:544: FutureWarning: Passing (type, 1) or '1type' as a synonym of type is deprecated; in a future version of numpy, it will be understood as (type, (1,)) / '(1,)type'.\n",
      "  _np_quint16 = np.dtype([(\"quint16\", np.uint16, 1)])\n",
      "C:\\Users\\Suisei_Saika\\Anaconda3\\lib\\site-packages\\tensorboard\\compat\\tensorflow_stub\\dtypes.py:545: FutureWarning: Passing (type, 1) or '1type' as a synonym of type is deprecated; in a future version of numpy, it will be understood as (type, (1,)) / '(1,)type'.\n",
      "  _np_qint32 = np.dtype([(\"qint32\", np.int32, 1)])\n",
      "C:\\Users\\Suisei_Saika\\Anaconda3\\lib\\site-packages\\tensorboard\\compat\\tensorflow_stub\\dtypes.py:550: FutureWarning: Passing (type, 1) or '1type' as a synonym of type is deprecated; in a future version of numpy, it will be understood as (type, (1,)) / '(1,)type'.\n",
      "  np_resource = np.dtype([(\"resource\", np.ubyte, 1)])\n"
     ]
    }
   ],
   "source": [
    "%matplotlib inline\n",
    "import tensorflow as tf\n",
    "import math\n",
    "import numpy as np\n",
    "import matplotlib.pyplot as plt\n",
    "from tensorflow.keras import *\n",
    "from tensorflow.keras.utils import *\n",
    "from tensorflow.keras.datasets import fashion_mnist"
   ]
  },
  {
   "cell_type": "code",
   "execution_count": 2,
   "metadata": {},
   "outputs": [],
   "source": [
    "(x_train, y_train), (x_test, y_test) = fashion_mnist.load_data()\n",
    "x_train, x_test = x_train.reshape(60000,784)/255.0, x_test.reshape(10000,784)/255.0"
   ]
  },
  {
   "cell_type": "code",
   "execution_count": 3,
   "metadata": {},
   "outputs": [],
   "source": [
    "epoch = 100\n",
    "lr = 1e-1\n",
    "batch_size = 256\n",
    "initializer = initializers.he_normal(seed=114)"
   ]
  },
  {
   "cell_type": "code",
   "execution_count": 4,
   "metadata": {},
   "outputs": [],
   "source": [
    "def step_decay(epoch):\n",
    "    initial_lrate = 0.1\n",
    "    drop = math.sqrt(0.5)\n",
    "    epochs_drop = 5\n",
    "    lrate = initial_lrate * math.pow(drop, math.floor((1+epoch)/epochs_drop))\n",
    "    return lrate"
   ]
  },
  {
   "cell_type": "code",
   "execution_count": 5,
   "metadata": {},
   "outputs": [],
   "source": [
    "lrate = callbacks.LearningRateScheduler(step_decay)"
   ]
  },
  {
   "cell_type": "code",
   "execution_count": 6,
   "metadata": {},
   "outputs": [],
   "source": [
    "def basic_layer(node, dropoutrate = 0):\n",
    "    layer = models.Sequential()\n",
    "    layer.add(layers.Dense(node, kernel_initializer=initializer))\n",
    "    if(dropoutrate>0):\n",
    "        layer.add(layers.Dropout(dropoutrate))\n",
    "    layer.add(layers.BatchNormalization())\n",
    "    layer.add(layers.Activation('elu'))\n",
    "    return layer"
   ]
  },
  {
   "cell_type": "code",
   "execution_count": 7,
   "metadata": {},
   "outputs": [],
   "source": [
    "model = models.Sequential()\n",
    "model.add(layers.Dense(128, input_dim=784))\n",
    "model.add(layers.Dropout(0.125))\n",
    "model.add(layers.BatchNormalization())\n",
    "model.add(layers.Activation('elu'))\n",
    "model.add(basic_layer(128, 0.125))\n",
    "model.add(basic_layer(256, 0.25))\n",
    "model.add(basic_layer(256, 0.25))\n",
    "model.add(basic_layer(512, 0.5))\n",
    "model.add(basic_layer(512, 0.5))\n",
    "model.add(layers.Dense(10, activation='softmax'))"
   ]
  },
  {
   "cell_type": "code",
   "execution_count": 8,
   "metadata": {},
   "outputs": [
    {
     "name": "stdout",
     "output_type": "stream",
     "text": [
      "Model: \"sequential\"\n",
      "_________________________________________________________________\n",
      "Layer (type)                 Output Shape              Param #   \n",
      "=================================================================\n",
      "dense (Dense)                (None, 128)               100480    \n",
      "_________________________________________________________________\n",
      "dropout (Dropout)            (None, 128)               0         \n",
      "_________________________________________________________________\n",
      "batch_normalization_v2 (Batc (None, 128)               512       \n",
      "_________________________________________________________________\n",
      "activation (Activation)      (None, 128)               0         \n",
      "_________________________________________________________________\n",
      "sequential_1 (Sequential)    (None, 128)               17024     \n",
      "_________________________________________________________________\n",
      "sequential_2 (Sequential)    (None, 256)               34048     \n",
      "_________________________________________________________________\n",
      "sequential_3 (Sequential)    (None, 256)               66816     \n",
      "_________________________________________________________________\n",
      "sequential_4 (Sequential)    (None, 512)               133632    \n",
      "_________________________________________________________________\n",
      "sequential_5 (Sequential)    (None, 512)               264704    \n",
      "_________________________________________________________________\n",
      "dense_6 (Dense)              (None, 10)                5130      \n",
      "=================================================================\n",
      "Total params: 622,346\n",
      "Trainable params: 618,762\n",
      "Non-trainable params: 3,584\n",
      "_________________________________________________________________\n"
     ]
    }
   ],
   "source": [
    "model.summary()"
   ]
  },
  {
   "cell_type": "code",
   "execution_count": 9,
   "metadata": {
    "scrolled": true
   },
   "outputs": [
    {
     "name": "stdout",
     "output_type": "stream",
     "text": [
      "Train on 60000 samples, validate on 10000 samples\n",
      "Epoch 1/100\n",
      "60000/60000 [==============================] - 7s 116us/sample - loss: 0.7845 - accuracy: 0.7243 - val_loss: 0.6334 - val_accuracy: 0.8107\n",
      "Epoch 2/100\n",
      "60000/60000 [==============================] - 6s 93us/sample - loss: 0.5385 - accuracy: 0.8097 - val_loss: 0.5411 - val_accuracy: 0.8268\n",
      "Epoch 3/100\n",
      "60000/60000 [==============================] - 5s 92us/sample - loss: 0.4852 - accuracy: 0.8301 - val_loss: 0.4941 - val_accuracy: 0.8398\n",
      "Epoch 4/100\n",
      "60000/60000 [==============================] - 6s 93us/sample - loss: 0.4565 - accuracy: 0.8373 - val_loss: 0.4747 - val_accuracy: 0.8466\n",
      "Epoch 5/100\n",
      "60000/60000 [==============================] - 6s 99us/sample - loss: 0.4375 - accuracy: 0.8448 - val_loss: 0.4858 - val_accuracy: 0.8458\n",
      "Epoch 6/100\n",
      "60000/60000 [==============================] - 6s 97us/sample - loss: 0.4246 - accuracy: 0.8489 - val_loss: 0.4999 - val_accuracy: 0.8375\n",
      "Epoch 7/100\n",
      "60000/60000 [==============================] - 6s 92us/sample - loss: 0.4146 - accuracy: 0.8522 - val_loss: 0.5670 - val_accuracy: 0.8331\n",
      "Epoch 8/100\n",
      "60000/60000 [==============================] - 6s 94us/sample - loss: 0.4054 - accuracy: 0.8571 - val_loss: 0.4676 - val_accuracy: 0.8540\n",
      "Epoch 9/100\n",
      "60000/60000 [==============================] - 6s 98us/sample - loss: 0.3979 - accuracy: 0.8576 - val_loss: 0.4357 - val_accuracy: 0.8606\n",
      "Epoch 10/100\n",
      "60000/60000 [==============================] - 6s 96us/sample - loss: 0.3908 - accuracy: 0.8607 - val_loss: 0.4699 - val_accuracy: 0.8540\n",
      "Epoch 11/100\n",
      "60000/60000 [==============================] - 6s 102us/sample - loss: 0.3839 - accuracy: 0.8630 - val_loss: 0.4908 - val_accuracy: 0.8522\n",
      "Epoch 12/100\n",
      "60000/60000 [==============================] - 6s 104us/sample - loss: 0.3761 - accuracy: 0.8670 - val_loss: 0.4288 - val_accuracy: 0.8615\n",
      "Epoch 13/100\n",
      "60000/60000 [==============================] - 6s 105us/sample - loss: 0.3740 - accuracy: 0.8651 - val_loss: 0.4283 - val_accuracy: 0.8654\n",
      "Epoch 14/100\n",
      "60000/60000 [==============================] - 7s 113us/sample - loss: 0.3694 - accuracy: 0.8668 - val_loss: 0.4158 - val_accuracy: 0.8658\n",
      "Epoch 15/100\n",
      "60000/60000 [==============================] - 6s 106us/sample - loss: 0.3615 - accuracy: 0.8712 - val_loss: 0.4258 - val_accuracy: 0.8654\n",
      "Epoch 16/100\n",
      "60000/60000 [==============================] - 6s 106us/sample - loss: 0.3601 - accuracy: 0.8704 - val_loss: 0.4262 - val_accuracy: 0.8654\n",
      "Epoch 17/100\n",
      "60000/60000 [==============================] - 6s 97us/sample - loss: 0.3597 - accuracy: 0.8717 - val_loss: 0.4227 - val_accuracy: 0.8666\n",
      "Epoch 18/100\n",
      "60000/60000 [==============================] - 6s 96us/sample - loss: 0.3570 - accuracy: 0.8720 - val_loss: 0.4143 - val_accuracy: 0.8683\n",
      "Epoch 19/100\n",
      "60000/60000 [==============================] - 6s 96us/sample - loss: 0.3557 - accuracy: 0.8717 - val_loss: 0.4131 - val_accuracy: 0.8673\n",
      "Epoch 20/100\n",
      "60000/60000 [==============================] - 6s 100us/sample - loss: 0.3518 - accuracy: 0.8744 - val_loss: 0.4178 - val_accuracy: 0.8686\n",
      "Epoch 21/100\n",
      "60000/60000 [==============================] - 6s 97us/sample - loss: 0.3484 - accuracy: 0.8762 - val_loss: 0.4295 - val_accuracy: 0.8668\n",
      "Epoch 22/100\n",
      "60000/60000 [==============================] - 6s 97us/sample - loss: 0.3479 - accuracy: 0.8750 - val_loss: 0.4409 - val_accuracy: 0.8643\n",
      "Epoch 23/100\n",
      "60000/60000 [==============================] - 6s 93us/sample - loss: 0.3462 - accuracy: 0.8750 - val_loss: 0.4318 - val_accuracy: 0.8642\n",
      "Epoch 24/100\n",
      "60000/60000 [==============================] - 6s 94us/sample - loss: 0.3430 - accuracy: 0.8763 - val_loss: 0.4129 - val_accuracy: 0.8690\n",
      "Epoch 25/100\n",
      "60000/60000 [==============================] - 6s 93us/sample - loss: 0.3385 - accuracy: 0.8783 - val_loss: 0.4108 - val_accuracy: 0.8717\n",
      "Epoch 26/100\n",
      "60000/60000 [==============================] - 6s 92us/sample - loss: 0.3406 - accuracy: 0.8770 - val_loss: 0.4311 - val_accuracy: 0.8653\n",
      "Epoch 27/100\n",
      "60000/60000 [==============================] - 6s 94us/sample - loss: 0.3355 - accuracy: 0.8787 - val_loss: 0.4246 - val_accuracy: 0.8680\n",
      "Epoch 28/100\n",
      "60000/60000 [==============================] - 6s 93us/sample - loss: 0.3362 - accuracy: 0.8780 - val_loss: 0.4090 - val_accuracy: 0.8722\n",
      "Epoch 29/100\n",
      "60000/60000 [==============================] - 6s 93us/sample - loss: 0.3339 - accuracy: 0.8801 - val_loss: 0.4058 - val_accuracy: 0.8704\n",
      "Epoch 30/100\n",
      "60000/60000 [==============================] - 6s 97us/sample - loss: 0.3329 - accuracy: 0.8795 - val_loss: 0.4108 - val_accuracy: 0.8719\n",
      "Epoch 31/100\n",
      "60000/60000 [==============================] - 6s 96us/sample - loss: 0.3304 - accuracy: 0.8810 - val_loss: 0.4096 - val_accuracy: 0.8703\n",
      "Epoch 32/100\n",
      "60000/60000 [==============================] - 6s 98us/sample - loss: 0.3323 - accuracy: 0.8807 - val_loss: 0.4037 - val_accuracy: 0.8726\n",
      "Epoch 33/100\n",
      "60000/60000 [==============================] - 6s 95us/sample - loss: 0.3349 - accuracy: 0.8797 - val_loss: 0.4090 - val_accuracy: 0.8727\n",
      "Epoch 34/100\n",
      "60000/60000 [==============================] - 6s 93us/sample - loss: 0.3296 - accuracy: 0.8826 - val_loss: 0.4114 - val_accuracy: 0.8729\n",
      "Epoch 35/100\n",
      "60000/60000 [==============================] - 6s 96us/sample - loss: 0.3293 - accuracy: 0.8813 - val_loss: 0.4096 - val_accuracy: 0.8739\n",
      "Epoch 36/100\n",
      "60000/60000 [==============================] - 6s 93us/sample - loss: 0.3256 - accuracy: 0.8823 - val_loss: 0.3997 - val_accuracy: 0.8735\n",
      "Epoch 37/100\n",
      "60000/60000 [==============================] - 6s 93us/sample - loss: 0.3286 - accuracy: 0.8807 - val_loss: 0.4065 - val_accuracy: 0.8739\n",
      "Epoch 38/100\n",
      "60000/60000 [==============================] - 6s 95us/sample - loss: 0.3282 - accuracy: 0.8811 - val_loss: 0.4041 - val_accuracy: 0.8734\n",
      "Epoch 39/100\n",
      "60000/60000 [==============================] - 6s 96us/sample - loss: 0.3242 - accuracy: 0.8842 - val_loss: 0.4043 - val_accuracy: 0.8736\n",
      "Epoch 40/100\n",
      "60000/60000 [==============================] - 6s 95us/sample - loss: 0.3261 - accuracy: 0.8826 - val_loss: 0.4041 - val_accuracy: 0.8739\n",
      "Epoch 41/100\n",
      "60000/60000 [==============================] - 6s 97us/sample - loss: 0.3263 - accuracy: 0.8827 - val_loss: 0.4092 - val_accuracy: 0.8733\n",
      "Epoch 42/100\n",
      "60000/60000 [==============================] - 6s 96us/sample - loss: 0.3246 - accuracy: 0.8833 - val_loss: 0.4028 - val_accuracy: 0.8746\n",
      "Epoch 43/100\n",
      "60000/60000 [==============================] - 6s 94us/sample - loss: 0.3240 - accuracy: 0.8823 - val_loss: 0.4043 - val_accuracy: 0.8742\n",
      "Epoch 44/100\n",
      "60000/60000 [==============================] - 6s 99us/sample - loss: 0.3243 - accuracy: 0.8826 - val_loss: 0.3993 - val_accuracy: 0.8748\n",
      "Epoch 45/100\n",
      "60000/60000 [==============================] - 6s 93us/sample - loss: 0.3211 - accuracy: 0.8843 - val_loss: 0.4018 - val_accuracy: 0.8749\n",
      "Epoch 46/100\n",
      "60000/60000 [==============================] - 6s 95us/sample - loss: 0.3229 - accuracy: 0.8842 - val_loss: 0.4014 - val_accuracy: 0.8747\n",
      "Epoch 47/100\n",
      "60000/60000 [==============================] - 6s 94us/sample - loss: 0.3210 - accuracy: 0.8844 - val_loss: 0.4050 - val_accuracy: 0.8749\n",
      "Epoch 48/100\n",
      "60000/60000 [==============================] - 6s 101us/sample - loss: 0.3213 - accuracy: 0.8841 - val_loss: 0.4054 - val_accuracy: 0.8744\n",
      "Epoch 49/100\n",
      "60000/60000 [==============================] - 7s 112us/sample - loss: 0.3240 - accuracy: 0.8838 - val_loss: 0.4038 - val_accuracy: 0.8742\n",
      "Epoch 50/100\n",
      "60000/60000 [==============================] - 6s 95us/sample - loss: 0.3221 - accuracy: 0.8837 - val_loss: 0.4003 - val_accuracy: 0.8750\n",
      "Epoch 51/100\n",
      "60000/60000 [==============================] - 6s 97us/sample - loss: 0.3238 - accuracy: 0.8829 - val_loss: 0.4010 - val_accuracy: 0.8743\n",
      "Epoch 52/100\n",
      "60000/60000 [==============================] - 6s 106us/sample - loss: 0.3208 - accuracy: 0.8847 - val_loss: 0.4031 - val_accuracy: 0.8755\n",
      "Epoch 53/100\n",
      "60000/60000 [==============================] - 6s 95us/sample - loss: 0.3204 - accuracy: 0.8841 - val_loss: 0.4033 - val_accuracy: 0.8753\n",
      "Epoch 54/100\n",
      "60000/60000 [==============================] - 6s 92us/sample - loss: 0.3201 - accuracy: 0.8854 - val_loss: 0.3999 - val_accuracy: 0.8745\n"
     ]
    },
    {
     "name": "stdout",
     "output_type": "stream",
     "text": [
      "Epoch 55/100\n",
      "60000/60000 [==============================] - 6s 95us/sample - loss: 0.3191 - accuracy: 0.8850 - val_loss: 0.4039 - val_accuracy: 0.8753\n",
      "Epoch 56/100\n",
      "60000/60000 [==============================] - 6s 94us/sample - loss: 0.3208 - accuracy: 0.8850 - val_loss: 0.4042 - val_accuracy: 0.8761\n",
      "Epoch 57/100\n",
      "60000/60000 [==============================] - 6s 95us/sample - loss: 0.3217 - accuracy: 0.8835 - val_loss: 0.4053 - val_accuracy: 0.8752\n",
      "Epoch 58/100\n",
      "60000/60000 [==============================] - 6s 93us/sample - loss: 0.3210 - accuracy: 0.8833 - val_loss: 0.4012 - val_accuracy: 0.8757\n",
      "Epoch 59/100\n",
      "60000/60000 [==============================] - 6s 94us/sample - loss: 0.3200 - accuracy: 0.8840 - val_loss: 0.4043 - val_accuracy: 0.8748\n",
      "Epoch 60/100\n",
      "60000/60000 [==============================] - 6s 98us/sample - loss: 0.3196 - accuracy: 0.8844 - val_loss: 0.4019 - val_accuracy: 0.8760\n",
      "Epoch 61/100\n",
      "60000/60000 [==============================] - 6s 95us/sample - loss: 0.3192 - accuracy: 0.8850 - val_loss: 0.4029 - val_accuracy: 0.8757\n",
      "Epoch 62/100\n",
      "60000/60000 [==============================] - 6s 96us/sample - loss: 0.3172 - accuracy: 0.8853 - val_loss: 0.4006 - val_accuracy: 0.8752\n",
      "Epoch 63/100\n",
      "60000/60000 [==============================] - 6s 95us/sample - loss: 0.3194 - accuracy: 0.8853 - val_loss: 0.4018 - val_accuracy: 0.8759\n",
      "Epoch 64/100\n",
      "60000/60000 [==============================] - 6s 93us/sample - loss: 0.3191 - accuracy: 0.8856 - val_loss: 0.4013 - val_accuracy: 0.8753\n",
      "Epoch 65/100\n",
      "60000/60000 [==============================] - 6s 96us/sample - loss: 0.3181 - accuracy: 0.8863 - val_loss: 0.4002 - val_accuracy: 0.8755\n",
      "Epoch 66/100\n",
      "60000/60000 [==============================] - 6s 101us/sample - loss: 0.3196 - accuracy: 0.8841 - val_loss: 0.4016 - val_accuracy: 0.8752\n",
      "Epoch 67/100\n",
      "60000/60000 [==============================] - 6s 95us/sample - loss: 0.3167 - accuracy: 0.8839 - val_loss: 0.4018 - val_accuracy: 0.8753\n",
      "Epoch 68/100\n",
      "60000/60000 [==============================] - 6s 98us/sample - loss: 0.3173 - accuracy: 0.8839 - val_loss: 0.4011 - val_accuracy: 0.8753\n",
      "Epoch 69/100\n",
      "60000/60000 [==============================] - 6s 97us/sample - loss: 0.3167 - accuracy: 0.8849 - val_loss: 0.4008 - val_accuracy: 0.8760\n",
      "Epoch 70/100\n",
      "60000/60000 [==============================] - 6s 98us/sample - loss: 0.3174 - accuracy: 0.8858 - val_loss: 0.3998 - val_accuracy: 0.8753\n",
      "Epoch 71/100\n",
      "60000/60000 [==============================] - 6s 97us/sample - loss: 0.3172 - accuracy: 0.8852 - val_loss: 0.4005 - val_accuracy: 0.8755\n",
      "Epoch 72/100\n",
      "60000/60000 [==============================] - 6s 97us/sample - loss: 0.3177 - accuracy: 0.8839 - val_loss: 0.4008 - val_accuracy: 0.8755\n",
      "Epoch 73/100\n",
      "60000/60000 [==============================] - 6s 94us/sample - loss: 0.3188 - accuracy: 0.8839 - val_loss: 0.4025 - val_accuracy: 0.8759\n",
      "Epoch 74/100\n",
      "60000/60000 [==============================] - 6s 97us/sample - loss: 0.3198 - accuracy: 0.8838 - val_loss: 0.4016 - val_accuracy: 0.8757\n",
      "Epoch 75/100\n",
      "60000/60000 [==============================] - 6s 96us/sample - loss: 0.3178 - accuracy: 0.8864 - val_loss: 0.4029 - val_accuracy: 0.8759\n",
      "Epoch 76/100\n",
      "60000/60000 [==============================] - 6s 92us/sample - loss: 0.3197 - accuracy: 0.8846 - val_loss: 0.4020 - val_accuracy: 0.8755\n",
      "Epoch 77/100\n",
      "60000/60000 [==============================] - 6s 97us/sample - loss: 0.3179 - accuracy: 0.8860 - val_loss: 0.4015 - val_accuracy: 0.8759\n",
      "Epoch 78/100\n",
      "60000/60000 [==============================] - 6s 93us/sample - loss: 0.3184 - accuracy: 0.8845 - val_loss: 0.4010 - val_accuracy: 0.8761\n",
      "Epoch 79/100\n",
      "60000/60000 [==============================] - 6s 93us/sample - loss: 0.3179 - accuracy: 0.8846 - val_loss: 0.4009 - val_accuracy: 0.8762\n",
      "Epoch 80/100\n",
      "60000/60000 [==============================] - 6s 96us/sample - loss: 0.3156 - accuracy: 0.8856 - val_loss: 0.4016 - val_accuracy: 0.8760\n",
      "Epoch 81/100\n",
      "60000/60000 [==============================] - 6s 95us/sample - loss: 0.3173 - accuracy: 0.8861 - val_loss: 0.4014 - val_accuracy: 0.8760\n",
      "Epoch 82/100\n",
      "60000/60000 [==============================] - 6s 94us/sample - loss: 0.3190 - accuracy: 0.8842 - val_loss: 0.4015 - val_accuracy: 0.8757\n",
      "Epoch 83/100\n",
      "60000/60000 [==============================] - 6s 95us/sample - loss: 0.3183 - accuracy: 0.8845 - val_loss: 0.4018 - val_accuracy: 0.8755\n",
      "Epoch 84/100\n",
      "60000/60000 [==============================] - 6s 96us/sample - loss: 0.3168 - accuracy: 0.8845 - val_loss: 0.4021 - val_accuracy: 0.8756\n",
      "Epoch 85/100\n",
      "60000/60000 [==============================] - 6s 96us/sample - loss: 0.3172 - accuracy: 0.8849 - val_loss: 0.4011 - val_accuracy: 0.8758\n",
      "Epoch 86/100\n",
      "60000/60000 [==============================] - 6s 94us/sample - loss: 0.3166 - accuracy: 0.8851 - val_loss: 0.4008 - val_accuracy: 0.8763\n",
      "Epoch 87/100\n",
      "60000/60000 [==============================] - 6s 96us/sample - loss: 0.3178 - accuracy: 0.8852 - val_loss: 0.4016 - val_accuracy: 0.8758\n",
      "Epoch 88/100\n",
      "60000/60000 [==============================] - 6s 95us/sample - loss: 0.3192 - accuracy: 0.8853 - val_loss: 0.4003 - val_accuracy: 0.8763\n",
      "Epoch 89/100\n",
      "60000/60000 [==============================] - 6s 95us/sample - loss: 0.3203 - accuracy: 0.8846 - val_loss: 0.4016 - val_accuracy: 0.8762\n",
      "Epoch 90/100\n",
      "60000/60000 [==============================] - 6s 96us/sample - loss: 0.3182 - accuracy: 0.8850 - val_loss: 0.4017 - val_accuracy: 0.8758\n",
      "Epoch 91/100\n",
      "60000/60000 [==============================] - 6s 98us/sample - loss: 0.3181 - accuracy: 0.8855 - val_loss: 0.4014 - val_accuracy: 0.8760\n",
      "Epoch 92/100\n",
      "60000/60000 [==============================] - 6s 94us/sample - loss: 0.3169 - accuracy: 0.8863 - val_loss: 0.4009 - val_accuracy: 0.8761\n",
      "Epoch 93/100\n",
      "60000/60000 [==============================] - 6s 95us/sample - loss: 0.3193 - accuracy: 0.8856 - val_loss: 0.4010 - val_accuracy: 0.8760\n",
      "Epoch 94/100\n",
      "60000/60000 [==============================] - 6s 97us/sample - loss: 0.3163 - accuracy: 0.8855 - val_loss: 0.4011 - val_accuracy: 0.8759\n",
      "Epoch 95/100\n",
      "60000/60000 [==============================] - 6s 95us/sample - loss: 0.3185 - accuracy: 0.8850 - val_loss: 0.4009 - val_accuracy: 0.8761\n",
      "Epoch 96/100\n",
      "60000/60000 [==============================] - 6s 96us/sample - loss: 0.3190 - accuracy: 0.8856 - val_loss: 0.4014 - val_accuracy: 0.8757\n",
      "Epoch 97/100\n",
      "60000/60000 [==============================] - 6s 93us/sample - loss: 0.3163 - accuracy: 0.8856 - val_loss: 0.4013 - val_accuracy: 0.8761\n",
      "Epoch 98/100\n",
      "60000/60000 [==============================] - 6s 99us/sample - loss: 0.3172 - accuracy: 0.8855 - val_loss: 0.4015 - val_accuracy: 0.8761\n",
      "Epoch 99/100\n",
      "60000/60000 [==============================] - 6s 95us/sample - loss: 0.3177 - accuracy: 0.8845 - val_loss: 0.4011 - val_accuracy: 0.8756\n",
      "Epoch 100/100\n",
      "60000/60000 [==============================] - 6s 93us/sample - loss: 0.3187 - accuracy: 0.8843 - val_loss: 0.4007 - val_accuracy: 0.8758\n"
     ]
    }
   ],
   "source": [
    "sgd = optimizers.SGD(lr=lr)\n",
    "model.compile(optimizer= sgd,\n",
    "              loss='sparse_categorical_crossentropy',\n",
    "              metrics=['accuracy'])\n",
    "\n",
    "history = model.fit(x_train, \n",
    "                    y_train, \n",
    "                    epochs=epoch, \n",
    "                    batch_size=batch_size,\n",
    "                    validation_data=(x_test, y_test), \n",
    "                    callbacks=[lrate])"
   ]
  },
  {
   "cell_type": "code",
   "execution_count": 10,
   "metadata": {},
   "outputs": [
    {
     "name": "stdout",
     "output_type": "stream",
     "text": [
      "10000/10000 - 1s - loss: 0.4007 - accuracy: 0.8758\n"
     ]
    }
   ],
   "source": [
    "test_loss, test_acc = model.evaluate(x_test, y_test, verbose=2)"
   ]
  },
  {
   "cell_type": "code",
   "execution_count": 11,
   "metadata": {},
   "outputs": [
    {
     "data": {
      "text/plain": [
       "<matplotlib.legend.Legend at 0x2572f096128>"
      ]
     },
     "execution_count": 11,
     "metadata": {},
     "output_type": "execute_result"
    },
    {
     "data": {
      "image/png": "[encoded data removed]",
      "text/plain": [
       "<Figure size 432x288 with 1 Axes>"
      ]
     },
     "metadata": {
      "needs_background": "light"
     },
     "output_type": "display_data"
    }
   ],
   "source": [
    "plt.plot(history.history['accuracy'], label='accuracy')\n",
    "plt.plot(history.history['val_accuracy'], label = 'val_accuracy')\n",
    "plt.xlabel('Epoch')\n",
    "plt.ylabel('Accuracy')\n",
    "plt.ylim([0.8, 0.925])\n",
    "plt.legend(loc='lower right')\n",
    "# plt.savefig(\"ann_acc.png\", dpi=500)"
   ]
  },
  {
   "cell_type": "code",
   "execution_count": 12,
   "metadata": {},
   "outputs": [
    {
     "data": {
      "text/plain": [
       "<matplotlib.legend.Legend at 0x2572f146588>"
      ]
     },
     "execution_count": 12,
     "metadata": {},
     "output_type": "execute_result"
    },
    {
     "data": {
      "image/png": "[encoded data removed]",
      "text/plain": [
       "<Figure size 432x288 with 1 Axes>"
      ]
     },
     "metadata": {
      "needs_background": "light"
     },
     "output_type": "display_data"
    }
   ],
   "source": [
    "plt.plot(history.history['loss'], label='loss')\n",
    "plt.plot(history.history['val_loss'], label = 'val_loss')\n",
    "plt.xlabel('Epoch')\n",
    "plt.ylabel('loss')\n",
    "plt.ylim([0.25, 0.5])\n",
    "plt.legend(loc='upper right')\n",
    "# plt.savefig(\"ann_loss.png\", dpi=500)"
   ]
  }
 ],
 "metadata": {
  "kernelspec": {
   "display_name": "Python 3",
   "language": "python",
   "name": "python3"
  },
  "language_info": {
   "codemirror_mode": {
    "name": "ipython",
    "version": 3
   },
   "file_extension": ".py",
   "mimetype": "text/x-python",
   "name": "python",
   "nbconvert_exporter": "python",
   "pygments_lexer": "ipython3",
   "version": "3.7.3"
  }
 },
 "nbformat": 4,
 "nbformat_minor": 2
}
