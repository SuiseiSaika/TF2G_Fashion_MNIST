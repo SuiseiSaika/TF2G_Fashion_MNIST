{
 "cells": [
  {
   "cell_type": "code",
   "execution_count": 14,
   "metadata": {},
   "outputs": [],
   "source": [
    "%matplotlib inline\n",
    "import tensorflow as tf\n",
    "import math\n",
    "import numpy as np\n",
    "import matplotlib.pyplot as plt\n",
    "from tensorflow.keras import *\n",
    "from tensorflow.keras.utils import *\n",
    "from tensorflow.keras.datasets import fashion_mnist"
   ]
  },
  {
   "cell_type": "code",
   "execution_count": 2,
   "metadata": {},
   "outputs": [],
   "source": [
    "(x_train, y_train), (x_test, y_test) = fashion_mnist.load_data()\n",
    "x_train = x_train.astype('float32')\n",
    "x_test = x_test.astype('float32')\n",
    "x_train = x_train / 255.0\n",
    "x_test = x_test / 255.0\n",
    "x_train = np.expand_dims(x_train, -1)\n",
    "x_test = np.expand_dims(x_test, -1)"
   ]
  },
  {
   "cell_type": "code",
   "execution_count": 3,
   "metadata": {},
   "outputs": [],
   "source": [
    "epoch = 100\n",
    "batch_size = 512\n",
    "initializer = initializers.he_normal(seed=114)"
   ]
  },
  {
   "cell_type": "code",
   "execution_count": 4,
   "metadata": {},
   "outputs": [],
   "source": [
    "def basic_layer(node, dropoutrate = 0):\n",
    "    layer = models.Sequential()\n",
    "    layer.add(layers.Dense(node, kernel_initializer=initializer))\n",
    "    if(dropoutrate>0):\n",
    "        layer.add(layers.Dropout(dropoutrate))\n",
    "    layer.add(layers.BatchNormalization())\n",
    "    layer.add(layers.Activation('elu'))\n",
    "    return layer"
   ]
  },
  {
   "cell_type": "code",
   "execution_count": 5,
   "metadata": {},
   "outputs": [],
   "source": [
    "model = models.Sequential()\n",
    "model.add(layers.Flatten(input_shape=(28, 28, 1)))\n",
    "model.add(basic_layer(128))\n",
    "model.add(basic_layer(128))\n",
    "model.add(basic_layer(256, 0.25))\n",
    "model.add(basic_layer(256, 0.25))\n",
    "model.add(basic_layer(512, 0.5))\n",
    "model.add(basic_layer(512, 0.5))\n",
    "model.add(basic_layer(256))\n",
    "model.add(basic_layer(128))\n",
    "model.add(basic_layer(64))\n",
    "model.add(layers.Dense(10, activation='softmax'))"
   ]
  },
  {
   "cell_type": "code",
   "execution_count": 6,
   "metadata": {},
   "outputs": [
    {
     "name": "stdout",
     "output_type": "stream",
     "text": [
      "Model: \"sequential\"\n",
      "_________________________________________________________________\n",
      "Layer (type)                 Output Shape              Param #   \n",
      "=================================================================\n",
      "flatten (Flatten)            (None, 784)               0         \n",
      "_________________________________________________________________\n",
      "sequential_1 (Sequential)    (None, 128)               100992    \n",
      "_________________________________________________________________\n",
      "sequential_2 (Sequential)    (None, 128)               17024     \n",
      "_________________________________________________________________\n",
      "sequential_3 (Sequential)    (None, 256)               34048     \n",
      "_________________________________________________________________\n",
      "sequential_4 (Sequential)    (None, 256)               66816     \n",
      "_________________________________________________________________\n",
      "sequential_5 (Sequential)    (None, 512)               133632    \n",
      "_________________________________________________________________\n",
      "sequential_6 (Sequential)    (None, 512)               264704    \n",
      "_________________________________________________________________\n",
      "sequential_7 (Sequential)    (None, 256)               132352    \n",
      "_________________________________________________________________\n",
      "sequential_8 (Sequential)    (None, 128)               33408     \n",
      "_________________________________________________________________\n",
      "sequential_9 (Sequential)    (None, 64)                8512      \n",
      "_________________________________________________________________\n",
      "dense_9 (Dense)              (None, 10)                650       \n",
      "=================================================================\n",
      "Total params: 792,138\n",
      "Trainable params: 787,658\n",
      "Non-trainable params: 4,480\n",
      "_________________________________________________________________\n"
     ]
    }
   ],
   "source": [
    "model.summary()"
   ]
  },
  {
   "cell_type": "code",
   "execution_count": 7,
   "metadata": {
    "scrolled": true
   },
   "outputs": [
    {
     "name": "stdout",
     "output_type": "stream",
     "text": [
      "Epoch 1/100\n",
      "118/118 [==============================] - 21s 181ms/step - loss: 1.1404 - accuracy: 0.5647 - val_loss: 3.5495 - val_accuracy: 0.6059\n",
      "Epoch 2/100\n",
      "118/118 [==============================] - 14s 119ms/step - loss: 0.7750 - accuracy: 0.7091 - val_loss: 1.8631 - val_accuracy: 0.6507\n",
      "Epoch 3/100\n",
      "118/118 [==============================] - 14s 122ms/step - loss: 0.6983 - accuracy: 0.7412 - val_loss: 1.1209 - val_accuracy: 0.7128\n",
      "Epoch 4/100\n",
      "118/118 [==============================] - 15s 125ms/step - loss: 0.6303 - accuracy: 0.7684 - val_loss: 0.8171 - val_accuracy: 0.7736\n",
      "Epoch 5/100\n",
      "118/118 [==============================] - 15s 124ms/step - loss: 0.5914 - accuracy: 0.7835 - val_loss: 1.0130 - val_accuracy: 0.7551\n",
      "Epoch 6/100\n",
      "118/118 [==============================] - 15s 129ms/step - loss: 0.5664 - accuracy: 0.7938 - val_loss: 0.7141 - val_accuracy: 0.7900\n",
      "Epoch 7/100\n",
      "118/118 [==============================] - 15s 127ms/step - loss: 0.5445 - accuracy: 0.8030 - val_loss: 0.7877 - val_accuracy: 0.7684\n",
      "Epoch 8/100\n",
      "118/118 [==============================] - 15s 127ms/step - loss: 0.5372 - accuracy: 0.8053 - val_loss: 0.9320 - val_accuracy: 0.7691\n",
      "Epoch 9/100\n",
      "118/118 [==============================] - 15s 125ms/step - loss: 0.5222 - accuracy: 0.8086 - val_loss: 0.7229 - val_accuracy: 0.7789\n",
      "Epoch 10/100\n",
      "118/118 [==============================] - 14s 123ms/step - loss: 0.5171 - accuracy: 0.8123 - val_loss: 0.7406 - val_accuracy: 0.7864\n",
      "Epoch 11/100\n",
      "118/118 [==============================] - 14s 120ms/step - loss: 0.5003 - accuracy: 0.8160 - val_loss: 0.7410 - val_accuracy: 0.7836\n",
      "Epoch 12/100\n",
      "118/118 [==============================] - 14s 120ms/step - loss: 0.4888 - accuracy: 0.8195 - val_loss: 0.6111 - val_accuracy: 0.8151\n",
      "Epoch 13/100\n",
      "118/118 [==============================] - 14s 120ms/step - loss: 0.4883 - accuracy: 0.8227 - val_loss: 0.6998 - val_accuracy: 0.7943\n",
      "Epoch 14/100\n",
      "118/118 [==============================] - 14s 122ms/step - loss: 0.4980 - accuracy: 0.8184 - val_loss: 0.6429 - val_accuracy: 0.8016\n",
      "Epoch 15/100\n",
      "118/118 [==============================] - 14s 119ms/step - loss: 0.4834 - accuracy: 0.8237 - val_loss: 0.5535 - val_accuracy: 0.8151\n",
      "Epoch 16/100\n",
      "118/118 [==============================] - 14s 121ms/step - loss: 0.4697 - accuracy: 0.8294 - val_loss: 0.6272 - val_accuracy: 0.8041\n",
      "Epoch 17/100\n",
      "118/118 [==============================] - 14s 122ms/step - loss: 0.4723 - accuracy: 0.8296 - val_loss: 0.6740 - val_accuracy: 0.7985\n",
      "Epoch 18/100\n",
      "118/118 [==============================] - 14s 121ms/step - loss: 0.4629 - accuracy: 0.8301 - val_loss: 0.5258 - val_accuracy: 0.8257\n",
      "Epoch 19/100\n",
      "118/118 [==============================] - 15s 126ms/step - loss: 0.4668 - accuracy: 0.8296 - val_loss: 0.5432 - val_accuracy: 0.8221\n",
      "Epoch 20/100\n",
      "118/118 [==============================] - 16s 132ms/step - loss: 0.4584 - accuracy: 0.8327 - val_loss: 0.6307 - val_accuracy: 0.8122\n",
      "Epoch 21/100\n",
      "118/118 [==============================] - 15s 129ms/step - loss: 0.4604 - accuracy: 0.8334 - val_loss: 0.5649 - val_accuracy: 0.8124\n",
      "Epoch 22/100\n",
      "118/118 [==============================] - 14s 122ms/step - loss: 0.4568 - accuracy: 0.8324 - val_loss: 0.5244 - val_accuracy: 0.8240\n",
      "Epoch 23/100\n",
      "118/118 [==============================] - 14s 122ms/step - loss: 0.4570 - accuracy: 0.8336 - val_loss: 0.6036 - val_accuracy: 0.8023\n",
      "Epoch 24/100\n",
      "118/118 [==============================] - 14s 122ms/step - loss: 0.4494 - accuracy: 0.8347 - val_loss: 0.5631 - val_accuracy: 0.8140\n",
      "Epoch 25/100\n",
      "118/118 [==============================] - 14s 123ms/step - loss: 0.4486 - accuracy: 0.8367 - val_loss: 0.5150 - val_accuracy: 0.8300\n",
      "Epoch 26/100\n",
      "118/118 [==============================] - 15s 126ms/step - loss: 0.4431 - accuracy: 0.8387 - val_loss: 0.5099 - val_accuracy: 0.8288\n",
      "Epoch 27/100\n",
      "118/118 [==============================] - 15s 127ms/step - loss: 0.4459 - accuracy: 0.8381 - val_loss: 0.5126 - val_accuracy: 0.8261\n",
      "Epoch 28/100\n",
      "118/118 [==============================] - 14s 121ms/step - loss: 0.4361 - accuracy: 0.8413 - val_loss: 0.5065 - val_accuracy: 0.8301\n",
      "Epoch 29/100\n",
      "118/118 [==============================] - 14s 122ms/step - loss: 0.4317 - accuracy: 0.8429 - val_loss: 0.5629 - val_accuracy: 0.8090\n",
      "Epoch 30/100\n",
      "118/118 [==============================] - 15s 126ms/step - loss: 0.4354 - accuracy: 0.8411 - val_loss: 0.5007 - val_accuracy: 0.8270\n",
      "Epoch 31/100\n",
      "118/118 [==============================] - 16s 135ms/step - loss: 0.4399 - accuracy: 0.8393 - val_loss: 0.5461 - val_accuracy: 0.8157\n",
      "Epoch 32/100\n",
      "118/118 [==============================] - 15s 126ms/step - loss: 0.4397 - accuracy: 0.8407 - val_loss: 0.5501 - val_accuracy: 0.8216\n",
      "Epoch 33/100\n",
      "118/118 [==============================] - 15s 127ms/step - loss: 0.4275 - accuracy: 0.8437 - val_loss: 0.5496 - val_accuracy: 0.8131\n",
      "Epoch 34/100\n",
      "118/118 [==============================] - 15s 127ms/step - loss: 0.4242 - accuracy: 0.8447 - val_loss: 0.5107 - val_accuracy: 0.8294\n",
      "Epoch 35/100\n",
      "118/118 [==============================] - 15s 125ms/step - loss: 0.4266 - accuracy: 0.8453 - val_loss: 0.4816 - val_accuracy: 0.8324\n",
      "Epoch 36/100\n",
      "118/118 [==============================] - 15s 125ms/step - loss: 0.4196 - accuracy: 0.8492 - val_loss: 0.4877 - val_accuracy: 0.8328\n",
      "Epoch 37/100\n",
      "118/118 [==============================] - 15s 123ms/step - loss: 0.4193 - accuracy: 0.8471 - val_loss: 0.5048 - val_accuracy: 0.8189\n",
      "Epoch 38/100\n",
      "118/118 [==============================] - 14s 122ms/step - loss: 0.4167 - accuracy: 0.8483 - val_loss: 0.4854 - val_accuracy: 0.8382\n",
      "Epoch 39/100\n",
      "118/118 [==============================] - 14s 122ms/step - loss: 0.4158 - accuracy: 0.8483 - val_loss: 0.5915 - val_accuracy: 0.8029\n",
      "Epoch 40/100\n",
      "118/118 [==============================] - 15s 124ms/step - loss: 0.4188 - accuracy: 0.8476 - val_loss: 0.4792 - val_accuracy: 0.8329\n",
      "Epoch 41/100\n",
      "118/118 [==============================] - 15s 126ms/step - loss: 0.4272 - accuracy: 0.8455 - val_loss: 0.5035 - val_accuracy: 0.8319\n",
      "Epoch 42/100\n",
      "118/118 [==============================] - 15s 128ms/step - loss: 0.4134 - accuracy: 0.8497 - val_loss: 0.4535 - val_accuracy: 0.8367\n",
      "Epoch 43/100\n",
      "118/118 [==============================] - 14s 123ms/step - loss: 0.4214 - accuracy: 0.8467 - val_loss: 0.5820 - val_accuracy: 0.8236\n",
      "Epoch 44/100\n",
      "118/118 [==============================] - 15s 124ms/step - loss: 0.4216 - accuracy: 0.8468 - val_loss: 0.4900 - val_accuracy: 0.8320\n",
      "Epoch 45/100\n",
      "118/118 [==============================] - 16s 132ms/step - loss: 0.4104 - accuracy: 0.8503 - val_loss: 0.4960 - val_accuracy: 0.8283\n",
      "Epoch 46/100\n",
      "118/118 [==============================] - 14s 118ms/step - loss: 0.4114 - accuracy: 0.8492 - val_loss: 0.4899 - val_accuracy: 0.8411\n",
      "Epoch 47/100\n",
      "118/118 [==============================] - 14s 117ms/step - loss: 0.4071 - accuracy: 0.8514 - val_loss: 0.4795 - val_accuracy: 0.8377\n",
      "Epoch 48/100\n",
      "118/118 [==============================] - 14s 121ms/step - loss: 0.4120 - accuracy: 0.8508 - val_loss: 0.4737 - val_accuracy: 0.8395\n",
      "Epoch 49/100\n",
      "118/118 [==============================] - 14s 116ms/step - loss: 0.4068 - accuracy: 0.8512 - val_loss: 0.4803 - val_accuracy: 0.8377\n",
      "Epoch 50/100\n",
      "118/118 [==============================] - 14s 115ms/step - loss: 0.4097 - accuracy: 0.8515 - val_loss: 0.4752 - val_accuracy: 0.8401\n",
      "Epoch 51/100\n",
      "118/118 [==============================] - 14s 115ms/step - loss: 0.4068 - accuracy: 0.8528 - val_loss: 0.4826 - val_accuracy: 0.8301\n",
      "Epoch 52/100\n",
      "118/118 [==============================] - 15s 129ms/step - loss: 0.3955 - accuracy: 0.8550 - val_loss: 0.5170 - val_accuracy: 0.8321\n",
      "Epoch 53/100\n",
      "118/118 [==============================] - 15s 125ms/step - loss: 0.4003 - accuracy: 0.8548 - val_loss: 0.4913 - val_accuracy: 0.8361\n",
      "Epoch 54/100\n",
      "118/118 [==============================] - 14s 122ms/step - loss: 0.3956 - accuracy: 0.8564 - val_loss: 0.4713 - val_accuracy: 0.8358\n",
      "Epoch 55/100\n",
      "118/118 [==============================] - 14s 120ms/step - loss: 0.3988 - accuracy: 0.8553 - val_loss: 0.4806 - val_accuracy: 0.8353\n",
      "Epoch 56/100\n",
      "118/118 [==============================] - 14s 120ms/step - loss: 0.3939 - accuracy: 0.8577 - val_loss: 0.4371 - val_accuracy: 0.8456\n"
     ]
    },
    {
     "name": "stdout",
     "output_type": "stream",
     "text": [
      "Epoch 57/100\n",
      "118/118 [==============================] - 14s 119ms/step - loss: 0.3890 - accuracy: 0.8593 - val_loss: 0.4624 - val_accuracy: 0.8447\n",
      "Epoch 58/100\n",
      "118/118 [==============================] - 14s 118ms/step - loss: 0.3867 - accuracy: 0.8582 - val_loss: 0.4919 - val_accuracy: 0.8338\n",
      "Epoch 59/100\n",
      "118/118 [==============================] - 14s 119ms/step - loss: 0.3918 - accuracy: 0.8574 - val_loss: 0.4492 - val_accuracy: 0.8422\n",
      "Epoch 60/100\n",
      "118/118 [==============================] - 14s 121ms/step - loss: 0.3930 - accuracy: 0.8555 - val_loss: 0.4452 - val_accuracy: 0.8479\n",
      "Epoch 61/100\n",
      "118/118 [==============================] - 14s 118ms/step - loss: 0.3898 - accuracy: 0.8583 - val_loss: 0.4810 - val_accuracy: 0.8406\n",
      "Epoch 62/100\n",
      "118/118 [==============================] - 14s 119ms/step - loss: 0.3900 - accuracy: 0.8560 - val_loss: 0.4433 - val_accuracy: 0.8443\n",
      "Epoch 63/100\n",
      "118/118 [==============================] - 14s 121ms/step - loss: 0.3894 - accuracy: 0.8584 - val_loss: 0.4708 - val_accuracy: 0.8406\n",
      "Epoch 64/100\n",
      "118/118 [==============================] - 14s 119ms/step - loss: 0.3851 - accuracy: 0.8598 - val_loss: 0.4632 - val_accuracy: 0.8368\n",
      "Epoch 65/100\n",
      "118/118 [==============================] - 14s 117ms/step - loss: 0.3869 - accuracy: 0.8594 - val_loss: 0.5050 - val_accuracy: 0.8337\n",
      "Epoch 66/100\n",
      "118/118 [==============================] - 14s 120ms/step - loss: 0.3863 - accuracy: 0.8587 - val_loss: 0.4408 - val_accuracy: 0.8425\n",
      "Epoch 67/100\n",
      "118/118 [==============================] - 14s 117ms/step - loss: 0.3833 - accuracy: 0.8600 - val_loss: 0.4372 - val_accuracy: 0.8501\n",
      "Epoch 68/100\n",
      "118/118 [==============================] - 14s 117ms/step - loss: 0.3933 - accuracy: 0.8556 - val_loss: 0.4616 - val_accuracy: 0.8399\n",
      "Epoch 69/100\n",
      "118/118 [==============================] - 14s 121ms/step - loss: 0.3950 - accuracy: 0.8565 - val_loss: 0.4510 - val_accuracy: 0.8477\n",
      "Epoch 70/100\n",
      "118/118 [==============================] - 15s 125ms/step - loss: 0.3833 - accuracy: 0.8605 - val_loss: 0.4616 - val_accuracy: 0.8448\n",
      "Epoch 71/100\n",
      "118/118 [==============================] - 15s 126ms/step - loss: 0.3851 - accuracy: 0.8588 - val_loss: 0.4694 - val_accuracy: 0.8364\n",
      "Epoch 72/100\n",
      "118/118 [==============================] - 15s 125ms/step - loss: 0.3882 - accuracy: 0.8577 - val_loss: 0.4281 - val_accuracy: 0.8492\n",
      "Epoch 73/100\n",
      "118/118 [==============================] - 15s 124ms/step - loss: 0.3761 - accuracy: 0.8621 - val_loss: 0.4827 - val_accuracy: 0.8381\n",
      "Epoch 74/100\n",
      "118/118 [==============================] - 15s 127ms/step - loss: 0.3817 - accuracy: 0.8611 - val_loss: 0.4428 - val_accuracy: 0.8472\n",
      "Epoch 75/100\n",
      "118/118 [==============================] - 14s 122ms/step - loss: 0.3773 - accuracy: 0.8625 - val_loss: 0.5028 - val_accuracy: 0.8246\n",
      "Epoch 76/100\n",
      "118/118 [==============================] - 14s 117ms/step - loss: 0.3793 - accuracy: 0.8625 - val_loss: 0.4520 - val_accuracy: 0.8398\n",
      "Epoch 77/100\n",
      "118/118 [==============================] - 14s 118ms/step - loss: 0.3728 - accuracy: 0.8645 - val_loss: 0.4801 - val_accuracy: 0.8419\n",
      "Epoch 78/100\n",
      "118/118 [==============================] - 14s 118ms/step - loss: 0.3710 - accuracy: 0.8628 - val_loss: 0.4148 - val_accuracy: 0.8556\n",
      "Epoch 79/100\n",
      "118/118 [==============================] - 14s 117ms/step - loss: 0.3736 - accuracy: 0.8648 - val_loss: 0.4390 - val_accuracy: 0.8549\n",
      "Epoch 80/100\n",
      "118/118 [==============================] - 14s 117ms/step - loss: 0.3775 - accuracy: 0.8626 - val_loss: 0.4233 - val_accuracy: 0.8525\n",
      "Epoch 81/100\n",
      "118/118 [==============================] - 14s 119ms/step - loss: 0.3721 - accuracy: 0.8632 - val_loss: 0.4258 - val_accuracy: 0.8537\n",
      "Epoch 82/100\n",
      "118/118 [==============================] - 14s 119ms/step - loss: 0.3661 - accuracy: 0.8651 - val_loss: 0.4463 - val_accuracy: 0.8453\n",
      "Epoch 83/100\n",
      "118/118 [==============================] - 15s 124ms/step - loss: 0.3751 - accuracy: 0.8622 - val_loss: 0.4405 - val_accuracy: 0.8446\n",
      "Epoch 84/100\n",
      "118/118 [==============================] - 15s 124ms/step - loss: 0.3694 - accuracy: 0.8658 - val_loss: 0.4391 - val_accuracy: 0.8442\n",
      "Epoch 85/100\n",
      "118/118 [==============================] - 14s 121ms/step - loss: 0.3664 - accuracy: 0.8661 - val_loss: 0.4712 - val_accuracy: 0.8402\n",
      "Epoch 86/100\n",
      "118/118 [==============================] - 14s 118ms/step - loss: 0.3720 - accuracy: 0.8635 - val_loss: 0.4543 - val_accuracy: 0.8414\n",
      "Epoch 87/100\n",
      "118/118 [==============================] - 14s 115ms/step - loss: 0.3706 - accuracy: 0.8641 - val_loss: 0.4237 - val_accuracy: 0.8515\n",
      "Epoch 88/100\n",
      "118/118 [==============================] - 14s 115ms/step - loss: 0.3650 - accuracy: 0.8666 - val_loss: 0.4278 - val_accuracy: 0.8483\n",
      "Epoch 89/100\n",
      "118/118 [==============================] - 14s 117ms/step - loss: 0.3663 - accuracy: 0.8673 - val_loss: 0.4635 - val_accuracy: 0.8348\n",
      "Epoch 90/100\n",
      "118/118 [==============================] - 14s 117ms/step - loss: 0.3667 - accuracy: 0.8682 - val_loss: 0.3984 - val_accuracy: 0.8567\n",
      "Epoch 91/100\n",
      "118/118 [==============================] - 14s 117ms/step - loss: 0.3644 - accuracy: 0.8671 - val_loss: 0.4182 - val_accuracy: 0.8508\n",
      "Epoch 92/100\n",
      "118/118 [==============================] - 14s 116ms/step - loss: 0.3611 - accuracy: 0.8669 - val_loss: 0.4232 - val_accuracy: 0.8556\n",
      "Epoch 93/100\n",
      "118/118 [==============================] - 14s 115ms/step - loss: 0.3630 - accuracy: 0.8684 - val_loss: 0.4748 - val_accuracy: 0.8334\n",
      "Epoch 94/100\n",
      "118/118 [==============================] - 14s 116ms/step - loss: 0.3648 - accuracy: 0.8677 - val_loss: 0.4164 - val_accuracy: 0.8541\n",
      "Epoch 95/100\n",
      "118/118 [==============================] - 14s 116ms/step - loss: 0.3673 - accuracy: 0.8660 - val_loss: 0.6993 - val_accuracy: 0.8143\n",
      "Epoch 96/100\n",
      "118/118 [==============================] - 14s 117ms/step - loss: 0.3686 - accuracy: 0.8657 - val_loss: 0.4232 - val_accuracy: 0.8451\n",
      "Epoch 97/100\n",
      "118/118 [==============================] - 14s 118ms/step - loss: 0.3653 - accuracy: 0.8671 - val_loss: 0.4424 - val_accuracy: 0.8352\n",
      "Epoch 98/100\n",
      "118/118 [==============================] - 14s 121ms/step - loss: 0.3742 - accuracy: 0.8646 - val_loss: 0.6531 - val_accuracy: 0.8297\n",
      "Epoch 99/100\n",
      "118/118 [==============================] - 14s 119ms/step - loss: 0.3709 - accuracy: 0.8651 - val_loss: 0.4103 - val_accuracy: 0.8577\n",
      "Epoch 100/100\n",
      "118/118 [==============================] - 14s 122ms/step - loss: 0.3614 - accuracy: 0.8678 - val_loss: 0.4008 - val_accuracy: 0.8597\n"
     ]
    }
   ],
   "source": [
    "nadam = optimizers.Nadam()\n",
    "model.compile(optimizer= nadam,\n",
    "              loss='sparse_categorical_crossentropy',\n",
    "              metrics=['accuracy'])\n",
    "aug = preprocessing.image.ImageDataGenerator(width_shift_range=0.1,\n",
    "                                             height_shift_range=0.1,\n",
    "                                             horizontal_flip=True)\n",
    "batches = aug.flow(x_train, y_train, batch_size=batch_size)\n",
    "val_batches = aug.flow(x_test, y_test, batch_size=batch_size)\n",
    "history = model.fit_generator(batches, \n",
    "                               epochs=epoch,\n",
    "                               validation_data=val_batches)"
   ]
  },
  {
   "cell_type": "code",
   "execution_count": 13,
   "metadata": {},
   "outputs": [
    {
     "name": "stdout",
     "output_type": "stream",
     "text": [
      "10000/10000 - 1s - loss: 0.3689 - accuracy: 0.8702\n"
     ]
    }
   ],
   "source": [
    "test_loss, test_acc = model.evaluate(x_test, y_test, verbose=2)"
   ]
  },
  {
   "cell_type": "code",
   "execution_count": 11,
   "metadata": {},
   "outputs": [
    {
     "data": {
      "text/plain": [
       "<matplotlib.legend.Legend at 0x1dbccdd8780>"
      ]
     },
     "execution_count": 11,
     "metadata": {},
     "output_type": "execute_result"
    },
    {
     "data": {
      "image/png": "[encoded data removed]",
      "text/plain": [
       "<Figure size 432x288 with 1 Axes>"
      ]
     },
     "metadata": {
      "needs_background": "light"
     },
     "output_type": "display_data"
    }
   ],
   "source": [
    "plt.plot(history.history['accuracy'], label='accuracy')\n",
    "plt.plot(history.history['val_accuracy'], label = 'val_accuracy')\n",
    "plt.xlabel('Epoch')\n",
    "plt.ylabel('Accuracy')\n",
    "plt.ylim([0.8, 0.88])\n",
    "plt.legend(loc='lower right')\n",
    "# plt.savefig(\"ann_acc.png\", dpi=500)"
   ]
  },
  {
   "cell_type": "code",
   "execution_count": 12,
   "metadata": {},
   "outputs": [
    {
     "data": {
      "text/plain": [
       "<matplotlib.legend.Legend at 0x1dbcce40f98>"
      ]
     },
     "execution_count": 12,
     "metadata": {},
     "output_type": "execute_result"
    },
    {
     "data": {
      "image/png": "[encoded data removed]",
      "text/plain": [
       "<Figure size 432x288 with 1 Axes>"
      ]
     },
     "metadata": {
      "needs_background": "light"
     },
     "output_type": "display_data"
    }
   ],
   "source": [
    "plt.plot(history.history['loss'], label='loss')\n",
    "plt.plot(history.history['val_loss'], label = 'val_loss')\n",
    "plt.xlabel('Epoch')\n",
    "plt.ylabel('loss')\n",
    "plt.ylim([0.35, 0.75])\n",
    "plt.legend(loc='upper right')\n",
    "# plt.savefig(\"ann_loss.png\", dpi=500)"
   ]
  },
  {
   "cell_type": "code",
   "execution_count": null,
   "metadata": {},
   "outputs": [],
   "source": []
  }
 ],
 "metadata": {
  "kernelspec": {
   "display_name": "Python 3",
   "language": "python",
   "name": "python3"
  },
  "language_info": {
   "codemirror_mode": {
    "name": "ipython",
    "version": 3
   },
   "file_extension": ".py",
   "mimetype": "text/x-python",
   "name": "python",
   "nbconvert_exporter": "python",
   "pygments_lexer": "ipython3",
   "version": "3.7.3"
  }
 },
 "nbformat": 4,
 "nbformat_minor": 2
}
