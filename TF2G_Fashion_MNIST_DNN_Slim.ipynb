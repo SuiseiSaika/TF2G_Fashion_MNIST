{
 "cells": [
  {
   "cell_type": "code",
   "execution_count": 2,
   "metadata": {},
   "outputs": [],
   "source": [
    "%matplotlib inline\n",
    "import tensorflow as tf\n",
    "import math\n",
    "import numpy as np\n",
    "import matplotlib.pyplot as plt\n",
    "from tensorflow.keras import *\n",
    "from tensorflow.keras.utils import *\n",
    "from tensorflow.keras.datasets import fashion_mnist"
   ]
  },
  {
   "cell_type": "code",
   "execution_count": 3,
   "metadata": {},
   "outputs": [],
   "source": [
    "(x_train, y_train), (x_test, y_test) = fashion_mnist.load_data()\n",
    "x_train, x_test = x_train.reshape(60000,784)/255.0, x_test.reshape(10000,784)/255.0"
   ]
  },
  {
   "cell_type": "code",
   "execution_count": 4,
   "metadata": {},
   "outputs": [],
   "source": [
    "epoch = 100\n",
    "lr = 1e-1\n",
    "batch_size = 256\n",
    "initializer = initializers.he_normal(seed=114)"
   ]
  },
  {
   "cell_type": "code",
   "execution_count": 5,
   "metadata": {},
   "outputs": [],
   "source": [
    "def step_decay(epoch):\n",
    "    initial_lrate = 0.1\n",
    "    drop = math.sqrt(0.5)\n",
    "    epochs_drop = 5\n",
    "    lrate = initial_lrate * math.pow(drop, math.floor((1+epoch)/epochs_drop))\n",
    "    return lrate"
   ]
  },
  {
   "cell_type": "code",
   "execution_count": 6,
   "metadata": {},
   "outputs": [],
   "source": [
    "lrate = callbacks.LearningRateScheduler(step_decay)"
   ]
  },
  {
   "cell_type": "code",
   "execution_count": 7,
   "metadata": {},
   "outputs": [],
   "source": [
    "def basic_layer(node, dropoutrate = 0):\n",
    "    layer = models.Sequential()\n",
    "    layer.add(layers.Dense(node, kernel_initializer=initializer))\n",
    "    if(dropoutrate>0):\n",
    "        layer.add(layers.Dropout(dropoutrate))\n",
    "    layer.add(layers.BatchNormalization())\n",
    "    layer.add(layers.Activation('elu'))\n",
    "    return layer"
   ]
  },
  {
   "cell_type": "code",
   "execution_count": 8,
   "metadata": {},
   "outputs": [],
   "source": [
    "model = models.Sequential()\n",
    "model.add(layers.Dense(128, input_dim=784))\n",
    "model.add(layers.Dropout(0.125))\n",
    "model.add(layers.BatchNormalization())\n",
    "model.add(layers.Activation('elu'))\n",
    "model.add(basic_layer(128, 0.125))\n",
    "model.add(basic_layer(256, 0.25))\n",
    "model.add(basic_layer(256, 0.25))\n",
    "model.add(basic_layer(512, 0.5))\n",
    "model.add(basic_layer(512, 0.5))\n",
    "model.add(basic_layer(256))\n",
    "model.add(basic_layer(128))\n",
    "model.add(basic_layer(64))\n",
    "model.add(layers.Dense(10, activation='softmax'))"
   ]
  },
  {
   "cell_type": "code",
   "execution_count": 9,
   "metadata": {},
   "outputs": [
    {
     "name": "stdout",
     "output_type": "stream",
     "text": [
      "Model: \"sequential\"\n",
      "_________________________________________________________________\n",
      "Layer (type)                 Output Shape              Param #   \n",
      "=================================================================\n",
      "dense (Dense)                (None, 128)               100480    \n",
      "_________________________________________________________________\n",
      "dropout (Dropout)            (None, 128)               0         \n",
      "_________________________________________________________________\n",
      "batch_normalization_v2 (Batc (None, 128)               512       \n",
      "_________________________________________________________________\n",
      "activation (Activation)      (None, 128)               0         \n",
      "_________________________________________________________________\n",
      "sequential_1 (Sequential)    (None, 128)               17024     \n",
      "_________________________________________________________________\n",
      "sequential_2 (Sequential)    (None, 256)               34048     \n",
      "_________________________________________________________________\n",
      "sequential_3 (Sequential)    (None, 256)               66816     \n",
      "_________________________________________________________________\n",
      "sequential_4 (Sequential)    (None, 512)               133632    \n",
      "_________________________________________________________________\n",
      "sequential_5 (Sequential)    (None, 512)               264704    \n",
      "_________________________________________________________________\n",
      "sequential_6 (Sequential)    (None, 256)               132352    \n",
      "_________________________________________________________________\n",
      "sequential_7 (Sequential)    (None, 128)               33408     \n",
      "_________________________________________________________________\n",
      "sequential_8 (Sequential)    (None, 64)                8512      \n",
      "_________________________________________________________________\n",
      "dense_9 (Dense)              (None, 10)                650       \n",
      "=================================================================\n",
      "Total params: 792,138\n",
      "Trainable params: 787,658\n",
      "Non-trainable params: 4,480\n",
      "_________________________________________________________________\n"
     ]
    }
   ],
   "source": [
    "model.summary()"
   ]
  },
  {
   "cell_type": "code",
   "execution_count": 10,
   "metadata": {
    "scrolled": true
   },
   "outputs": [
    {
     "name": "stdout",
     "output_type": "stream",
     "text": [
      "Train on 60000 samples, validate on 10000 samples\n",
      "Epoch 1/100\n",
      "60000/60000 [==============================] - 8s 133us/sample - loss: 0.8032 - accuracy: 0.7145 - val_loss: 0.5925 - val_accuracy: 0.8138\n",
      "Epoch 2/100\n",
      "60000/60000 [==============================] - 6s 106us/sample - loss: 0.5343 - accuracy: 0.8108 - val_loss: 0.5345 - val_accuracy: 0.8239\n",
      "Epoch 3/100\n",
      "60000/60000 [==============================] - 6s 107us/sample - loss: 0.4855 - accuracy: 0.8276 - val_loss: 0.4924 - val_accuracy: 0.8334\n",
      "Epoch 4/100\n",
      "60000/60000 [==============================] - 6s 106us/sample - loss: 0.4602 - accuracy: 0.8371 - val_loss: 0.4697 - val_accuracy: 0.8451\n",
      "Epoch 5/100\n",
      "60000/60000 [==============================] - 6s 106us/sample - loss: 0.4358 - accuracy: 0.8448 - val_loss: 0.4457 - val_accuracy: 0.8481\n",
      "Epoch 6/100\n",
      "60000/60000 [==============================] - 6s 107us/sample - loss: 0.4257 - accuracy: 0.8490 - val_loss: 0.4356 - val_accuracy: 0.8494\n",
      "Epoch 7/100\n",
      "60000/60000 [==============================] - 6s 106us/sample - loss: 0.4171 - accuracy: 0.8518 - val_loss: 0.4471 - val_accuracy: 0.8517\n",
      "Epoch 8/100\n",
      "60000/60000 [==============================] - 7s 112us/sample - loss: 0.4083 - accuracy: 0.8535 - val_loss: 0.4307 - val_accuracy: 0.8544\n",
      "Epoch 9/100\n",
      "60000/60000 [==============================] - 7s 111us/sample - loss: 0.4016 - accuracy: 0.8586 - val_loss: 0.4281 - val_accuracy: 0.8559\n",
      "Epoch 10/100\n",
      "60000/60000 [==============================] - 7s 111us/sample - loss: 0.3956 - accuracy: 0.8587 - val_loss: 0.4322 - val_accuracy: 0.8527\n",
      "Epoch 11/100\n",
      "60000/60000 [==============================] - 7s 112us/sample - loss: 0.3904 - accuracy: 0.8613 - val_loss: 0.4099 - val_accuracy: 0.8593\n",
      "Epoch 12/100\n",
      "60000/60000 [==============================] - 7s 114us/sample - loss: 0.3878 - accuracy: 0.8613 - val_loss: 0.4174 - val_accuracy: 0.8591\n",
      "Epoch 13/100\n",
      "60000/60000 [==============================] - 7s 117us/sample - loss: 0.3814 - accuracy: 0.8632 - val_loss: 0.4302 - val_accuracy: 0.8542\n",
      "Epoch 14/100\n",
      "60000/60000 [==============================] - 7s 111us/sample - loss: 0.3785 - accuracy: 0.8655 - val_loss: 0.4003 - val_accuracy: 0.8610\n",
      "Epoch 15/100\n",
      "60000/60000 [==============================] - 7s 110us/sample - loss: 0.3719 - accuracy: 0.8676 - val_loss: 0.3987 - val_accuracy: 0.8652\n",
      "Epoch 16/100\n",
      "60000/60000 [==============================] - 7s 112us/sample - loss: 0.3716 - accuracy: 0.8678 - val_loss: 0.4012 - val_accuracy: 0.8622\n",
      "Epoch 17/100\n",
      "60000/60000 [==============================] - 7s 118us/sample - loss: 0.3655 - accuracy: 0.8692 - val_loss: 0.4170 - val_accuracy: 0.8555\n",
      "Epoch 18/100\n",
      "60000/60000 [==============================] - 7s 111us/sample - loss: 0.3644 - accuracy: 0.8691 - val_loss: 0.4048 - val_accuracy: 0.8643\n",
      "Epoch 19/100\n",
      "60000/60000 [==============================] - 6s 108us/sample - loss: 0.3613 - accuracy: 0.8710 - val_loss: 0.3945 - val_accuracy: 0.8650\n",
      "Epoch 20/100\n",
      "60000/60000 [==============================] - 7s 109us/sample - loss: 0.3599 - accuracy: 0.8709 - val_loss: 0.3913 - val_accuracy: 0.8670\n",
      "Epoch 21/100\n",
      "60000/60000 [==============================] - 7s 112us/sample - loss: 0.3556 - accuracy: 0.8727 - val_loss: 0.3955 - val_accuracy: 0.8674\n",
      "Epoch 22/100\n",
      "60000/60000 [==============================] - 7s 110us/sample - loss: 0.3572 - accuracy: 0.8715 - val_loss: 0.3995 - val_accuracy: 0.8639\n",
      "Epoch 23/100\n",
      "60000/60000 [==============================] - 7s 116us/sample - loss: 0.3507 - accuracy: 0.8744 - val_loss: 0.3944 - val_accuracy: 0.8666\n",
      "Epoch 24/100\n",
      "60000/60000 [==============================] - 8s 138us/sample - loss: 0.3511 - accuracy: 0.8733 - val_loss: 0.3882 - val_accuracy: 0.8698\n",
      "Epoch 25/100\n",
      "60000/60000 [==============================] - 8s 137us/sample - loss: 0.3481 - accuracy: 0.8761 - val_loss: 0.3876 - val_accuracy: 0.8692\n",
      "Epoch 26/100\n",
      "60000/60000 [==============================] - 9s 146us/sample - loss: 0.3475 - accuracy: 0.8751 - val_loss: 0.3958 - val_accuracy: 0.8676\n",
      "Epoch 27/100\n",
      "60000/60000 [==============================] - 9s 154us/sample - loss: 0.3452 - accuracy: 0.8765 - val_loss: 0.3881 - val_accuracy: 0.8701\n",
      "Epoch 28/100\n",
      "60000/60000 [==============================] - 10s 160us/sample - loss: 0.3472 - accuracy: 0.8752 - val_loss: 0.4038 - val_accuracy: 0.8616\n",
      "Epoch 29/100\n",
      "60000/60000 [==============================] - 9s 151us/sample - loss: 0.3439 - accuracy: 0.8762 - val_loss: 0.3890 - val_accuracy: 0.8678\n",
      "Epoch 30/100\n",
      "60000/60000 [==============================] - 9s 146us/sample - loss: 0.3405 - accuracy: 0.8789 - val_loss: 0.3941 - val_accuracy: 0.8653\n",
      "Epoch 31/100\n",
      "60000/60000 [==============================] - 9s 145us/sample - loss: 0.3415 - accuracy: 0.8768 - val_loss: 0.3887 - val_accuracy: 0.8689\n",
      "Epoch 32/100\n",
      "60000/60000 [==============================] - 9s 145us/sample - loss: 0.3420 - accuracy: 0.8766 - val_loss: 0.3963 - val_accuracy: 0.8656\n",
      "Epoch 33/100\n",
      "60000/60000 [==============================] - 9s 144us/sample - loss: 0.3390 - accuracy: 0.8785 - val_loss: 0.3929 - val_accuracy: 0.8681\n",
      "Epoch 34/100\n",
      "60000/60000 [==============================] - 8s 140us/sample - loss: 0.3381 - accuracy: 0.8796 - val_loss: 0.3835 - val_accuracy: 0.8717\n",
      "Epoch 35/100\n",
      "60000/60000 [==============================] - 8s 134us/sample - loss: 0.3385 - accuracy: 0.8788 - val_loss: 0.3893 - val_accuracy: 0.8709\n",
      "Epoch 36/100\n",
      "60000/60000 [==============================] - 8s 133us/sample - loss: 0.3366 - accuracy: 0.8787 - val_loss: 0.3856 - val_accuracy: 0.8692\n",
      "Epoch 37/100\n",
      "60000/60000 [==============================] - 8s 129us/sample - loss: 0.3334 - accuracy: 0.8803 - val_loss: 0.3888 - val_accuracy: 0.8696\n",
      "Epoch 38/100\n",
      "60000/60000 [==============================] - 8s 128us/sample - loss: 0.3333 - accuracy: 0.8799 - val_loss: 0.3899 - val_accuracy: 0.8705\n",
      "Epoch 39/100\n",
      "60000/60000 [==============================] - 8s 131us/sample - loss: 0.3340 - accuracy: 0.8791 - val_loss: 0.3876 - val_accuracy: 0.8721\n",
      "Epoch 40/100\n",
      "60000/60000 [==============================] - 8s 133us/sample - loss: 0.3345 - accuracy: 0.8805 - val_loss: 0.3846 - val_accuracy: 0.8717\n",
      "Epoch 41/100\n",
      "60000/60000 [==============================] - 8s 126us/sample - loss: 0.3357 - accuracy: 0.8786 - val_loss: 0.3834 - val_accuracy: 0.8722\n",
      "Epoch 42/100\n",
      "60000/60000 [==============================] - 8s 130us/sample - loss: 0.3332 - accuracy: 0.8798 - val_loss: 0.3814 - val_accuracy: 0.8724\n",
      "Epoch 43/100\n",
      "60000/60000 [==============================] - 8s 130us/sample - loss: 0.3317 - accuracy: 0.8811 - val_loss: 0.3829 - val_accuracy: 0.8727\n",
      "Epoch 44/100\n",
      "60000/60000 [==============================] - 8s 132us/sample - loss: 0.3324 - accuracy: 0.8812 - val_loss: 0.3827 - val_accuracy: 0.8709\n",
      "Epoch 45/100\n",
      "60000/60000 [==============================] - 8s 134us/sample - loss: 0.3317 - accuracy: 0.8786 - val_loss: 0.3844 - val_accuracy: 0.8704\n",
      "Epoch 46/100\n",
      "60000/60000 [==============================] - 8s 134us/sample - loss: 0.3332 - accuracy: 0.8802 - val_loss: 0.3826 - val_accuracy: 0.8730\n",
      "Epoch 47/100\n",
      "60000/60000 [==============================] - 8s 136us/sample - loss: 0.3309 - accuracy: 0.8809 - val_loss: 0.3793 - val_accuracy: 0.8731\n",
      "Epoch 48/100\n",
      "60000/60000 [==============================] - 8s 135us/sample - loss: 0.3295 - accuracy: 0.8817 - val_loss: 0.3842 - val_accuracy: 0.8712\n",
      "Epoch 49/100\n",
      "60000/60000 [==============================] - 8s 136us/sample - loss: 0.3316 - accuracy: 0.8804 - val_loss: 0.3797 - val_accuracy: 0.8727\n",
      "Epoch 50/100\n",
      "60000/60000 [==============================] - 8s 133us/sample - loss: 0.3293 - accuracy: 0.8803 - val_loss: 0.3823 - val_accuracy: 0.8716\n",
      "Epoch 51/100\n",
      "60000/60000 [==============================] - 8s 129us/sample - loss: 0.3329 - accuracy: 0.8802 - val_loss: 0.3811 - val_accuracy: 0.8716\n",
      "Epoch 52/100\n",
      "60000/60000 [==============================] - 8s 133us/sample - loss: 0.3286 - accuracy: 0.8817 - val_loss: 0.3804 - val_accuracy: 0.8731\n",
      "Epoch 53/100\n",
      "60000/60000 [==============================] - 8s 130us/sample - loss: 0.3288 - accuracy: 0.8819 - val_loss: 0.3800 - val_accuracy: 0.8745\n",
      "Epoch 54/100\n"
     ]
    },
    {
     "name": "stdout",
     "output_type": "stream",
     "text": [
      "60000/60000 [==============================] - 8s 131us/sample - loss: 0.3292 - accuracy: 0.8815 - val_loss: 0.3801 - val_accuracy: 0.8728\n",
      "Epoch 55/100\n",
      "60000/60000 [==============================] - 8s 127us/sample - loss: 0.3291 - accuracy: 0.8820 - val_loss: 0.3815 - val_accuracy: 0.8735\n",
      "Epoch 56/100\n",
      "60000/60000 [==============================] - 8s 131us/sample - loss: 0.3297 - accuracy: 0.8814 - val_loss: 0.3804 - val_accuracy: 0.8741\n",
      "Epoch 57/100\n",
      "60000/60000 [==============================] - 8s 130us/sample - loss: 0.3245 - accuracy: 0.8833 - val_loss: 0.3807 - val_accuracy: 0.8731\n",
      "Epoch 58/100\n",
      "60000/60000 [==============================] - 8s 129us/sample - loss: 0.3271 - accuracy: 0.8822 - val_loss: 0.3811 - val_accuracy: 0.8740\n",
      "Epoch 59/100\n",
      "60000/60000 [==============================] - 8s 132us/sample - loss: 0.3304 - accuracy: 0.8813 - val_loss: 0.3806 - val_accuracy: 0.8724\n",
      "Epoch 60/100\n",
      "60000/60000 [==============================] - 8s 136us/sample - loss: 0.3287 - accuracy: 0.8819 - val_loss: 0.3799 - val_accuracy: 0.8737\n",
      "Epoch 61/100\n",
      "60000/60000 [==============================] - 8s 133us/sample - loss: 0.3290 - accuracy: 0.8812 - val_loss: 0.3811 - val_accuracy: 0.8739\n",
      "Epoch 62/100\n",
      "60000/60000 [==============================] - 8s 131us/sample - loss: 0.3282 - accuracy: 0.8823 - val_loss: 0.3796 - val_accuracy: 0.8728\n",
      "Epoch 63/100\n",
      "60000/60000 [==============================] - 8s 130us/sample - loss: 0.3316 - accuracy: 0.8818 - val_loss: 0.3797 - val_accuracy: 0.8731\n",
      "Epoch 64/100\n",
      "60000/60000 [==============================] - 8s 131us/sample - loss: 0.3272 - accuracy: 0.8819 - val_loss: 0.3804 - val_accuracy: 0.8730\n",
      "Epoch 65/100\n",
      "60000/60000 [==============================] - 8s 130us/sample - loss: 0.3248 - accuracy: 0.8824 - val_loss: 0.3801 - val_accuracy: 0.8735\n",
      "Epoch 66/100\n",
      "60000/60000 [==============================] - 8s 127us/sample - loss: 0.3289 - accuracy: 0.8819 - val_loss: 0.3807 - val_accuracy: 0.8741\n",
      "Epoch 67/100\n",
      "60000/60000 [==============================] - 8s 129us/sample - loss: 0.3275 - accuracy: 0.8824 - val_loss: 0.3793 - val_accuracy: 0.8732\n",
      "Epoch 68/100\n",
      "60000/60000 [==============================] - 8s 132us/sample - loss: 0.3278 - accuracy: 0.8809 - val_loss: 0.3793 - val_accuracy: 0.8734\n",
      "Epoch 69/100\n",
      "60000/60000 [==============================] - 8s 128us/sample - loss: 0.3277 - accuracy: 0.8817 - val_loss: 0.3806 - val_accuracy: 0.8740\n",
      "Epoch 70/100\n",
      "60000/60000 [==============================] - 8s 131us/sample - loss: 0.3275 - accuracy: 0.8809 - val_loss: 0.3796 - val_accuracy: 0.8741\n",
      "Epoch 71/100\n",
      "60000/60000 [==============================] - 8s 130us/sample - loss: 0.3283 - accuracy: 0.8813 - val_loss: 0.3800 - val_accuracy: 0.8732\n",
      "Epoch 72/100\n",
      "60000/60000 [==============================] - 8s 132us/sample - loss: 0.3283 - accuracy: 0.8816 - val_loss: 0.3804 - val_accuracy: 0.8735\n",
      "Epoch 73/100\n",
      "60000/60000 [==============================] - 8s 128us/sample - loss: 0.3263 - accuracy: 0.8822 - val_loss: 0.3795 - val_accuracy: 0.8740\n",
      "Epoch 74/100\n",
      "60000/60000 [==============================] - 8s 129us/sample - loss: 0.3291 - accuracy: 0.8811 - val_loss: 0.3798 - val_accuracy: 0.8745\n",
      "Epoch 75/100\n",
      "60000/60000 [==============================] - 8s 127us/sample - loss: 0.3250 - accuracy: 0.8830 - val_loss: 0.3801 - val_accuracy: 0.8737\n",
      "Epoch 76/100\n",
      "60000/60000 [==============================] - 8s 128us/sample - loss: 0.3277 - accuracy: 0.8815 - val_loss: 0.3791 - val_accuracy: 0.8736\n",
      "Epoch 77/100\n",
      "60000/60000 [==============================] - 8s 128us/sample - loss: 0.3253 - accuracy: 0.8850 - val_loss: 0.3791 - val_accuracy: 0.8740\n",
      "Epoch 78/100\n",
      "60000/60000 [==============================] - 8s 129us/sample - loss: 0.3279 - accuracy: 0.8814 - val_loss: 0.3797 - val_accuracy: 0.8739\n",
      "Epoch 79/100\n",
      "60000/60000 [==============================] - 8s 127us/sample - loss: 0.3272 - accuracy: 0.8842 - val_loss: 0.3799 - val_accuracy: 0.8741\n",
      "Epoch 80/100\n",
      "60000/60000 [==============================] - 8s 127us/sample - loss: 0.3264 - accuracy: 0.8827 - val_loss: 0.3797 - val_accuracy: 0.8737\n",
      "Epoch 81/100\n",
      "60000/60000 [==============================] - 8s 130us/sample - loss: 0.3259 - accuracy: 0.8829 - val_loss: 0.3797 - val_accuracy: 0.8739\n",
      "Epoch 82/100\n",
      "60000/60000 [==============================] - 8s 131us/sample - loss: 0.3269 - accuracy: 0.8820 - val_loss: 0.3796 - val_accuracy: 0.8740\n",
      "Epoch 83/100\n",
      "60000/60000 [==============================] - 8s 132us/sample - loss: 0.3256 - accuracy: 0.8840 - val_loss: 0.3797 - val_accuracy: 0.8746\n",
      "Epoch 84/100\n",
      "60000/60000 [==============================] - 8s 131us/sample - loss: 0.3259 - accuracy: 0.8833 - val_loss: 0.3795 - val_accuracy: 0.8740\n",
      "Epoch 85/100\n",
      "60000/60000 [==============================] - 8s 133us/sample - loss: 0.3249 - accuracy: 0.8834 - val_loss: 0.3802 - val_accuracy: 0.8740\n",
      "Epoch 86/100\n",
      "60000/60000 [==============================] - 8s 131us/sample - loss: 0.3240 - accuracy: 0.8818 - val_loss: 0.3798 - val_accuracy: 0.8744\n",
      "Epoch 87/100\n",
      "60000/60000 [==============================] - 8s 127us/sample - loss: 0.3277 - accuracy: 0.8819 - val_loss: 0.3795 - val_accuracy: 0.8738\n",
      "Epoch 88/100\n",
      "60000/60000 [==============================] - 8s 126us/sample - loss: 0.3260 - accuracy: 0.8823 - val_loss: 0.3794 - val_accuracy: 0.8740\n",
      "Epoch 89/100\n",
      "60000/60000 [==============================] - 8s 130us/sample - loss: 0.3274 - accuracy: 0.8819 - val_loss: 0.3798 - val_accuracy: 0.8745\n",
      "Epoch 90/100\n",
      "60000/60000 [==============================] - 8s 130us/sample - loss: 0.3255 - accuracy: 0.8826 - val_loss: 0.3795 - val_accuracy: 0.8739\n",
      "Epoch 91/100\n",
      "60000/60000 [==============================] - 8s 136us/sample - loss: 0.3242 - accuracy: 0.8834 - val_loss: 0.3796 - val_accuracy: 0.8737\n",
      "Epoch 92/100\n",
      "60000/60000 [==============================] - 8s 133us/sample - loss: 0.3269 - accuracy: 0.8827 - val_loss: 0.3798 - val_accuracy: 0.8736\n",
      "Epoch 93/100\n",
      "60000/60000 [==============================] - 8s 132us/sample - loss: 0.3258 - accuracy: 0.8819 - val_loss: 0.3798 - val_accuracy: 0.8738\n",
      "Epoch 94/100\n",
      "60000/60000 [==============================] - 7s 119us/sample - loss: 0.3253 - accuracy: 0.8835 - val_loss: 0.3797 - val_accuracy: 0.8741\n",
      "Epoch 95/100\n",
      "60000/60000 [==============================] - 7s 120us/sample - loss: 0.3277 - accuracy: 0.8831 - val_loss: 0.3795 - val_accuracy: 0.8742\n",
      "Epoch 96/100\n",
      "60000/60000 [==============================] - 7s 118us/sample - loss: 0.3259 - accuracy: 0.8812 - val_loss: 0.3797 - val_accuracy: 0.8739\n",
      "Epoch 97/100\n",
      "60000/60000 [==============================] - 8s 125us/sample - loss: 0.3287 - accuracy: 0.8821 - val_loss: 0.3798 - val_accuracy: 0.8741\n",
      "Epoch 98/100\n",
      "60000/60000 [==============================] - 7s 119us/sample - loss: 0.3263 - accuracy: 0.8842 - val_loss: 0.3800 - val_accuracy: 0.8737\n",
      "Epoch 99/100\n",
      "60000/60000 [==============================] - 7s 120us/sample - loss: 0.3265 - accuracy: 0.8812 - val_loss: 0.3794 - val_accuracy: 0.8741\n",
      "Epoch 100/100\n",
      "60000/60000 [==============================] - 7s 121us/sample - loss: 0.3276 - accuracy: 0.8832 - val_loss: 0.3796 - val_accuracy: 0.8740\n"
     ]
    }
   ],
   "source": [
    "sgd = optimizers.SGD(lr=lr)\n",
    "model.compile(optimizer= sgd,\n",
    "              loss='sparse_categorical_crossentropy',\n",
    "              metrics=['accuracy'])\n",
    "\n",
    "history = model.fit(x_train, \n",
    "                    y_train, \n",
    "                    epochs=epoch, \n",
    "                    batch_size=batch_size,\n",
    "                    validation_data=(x_test, y_test), \n",
    "                    callbacks=[lrate])"
   ]
  },
  {
   "cell_type": "code",
   "execution_count": 11,
   "metadata": {},
   "outputs": [
    {
     "name": "stdout",
     "output_type": "stream",
     "text": [
      "10000/10000 - 1s - loss: 0.3796 - accuracy: 0.8740\n"
     ]
    }
   ],
   "source": [
    "test_loss, test_acc = model.evaluate(x_test, y_test, verbose=2)"
   ]
  },
  {
   "cell_type": "code",
   "execution_count": 12,
   "metadata": {},
   "outputs": [
    {
     "data": {
      "text/plain": [
       "<matplotlib.legend.Legend at 0x1aecad52438>"
      ]
     },
     "execution_count": 12,
     "metadata": {},
     "output_type": "execute_result"
    },
    {
     "data": {
      "image/png": "[encoded data removed]",
      "text/plain": [
       "<Figure size 432x288 with 1 Axes>"
      ]
     },
     "metadata": {
      "needs_background": "light"
     },
     "output_type": "display_data"
    }
   ],
   "source": [
    "plt.plot(history.history['accuracy'], label='accuracy')\n",
    "plt.plot(history.history['val_accuracy'], label = 'val_accuracy')\n",
    "plt.xlabel('Epoch')\n",
    "plt.ylabel('Accuracy')\n",
    "plt.ylim([0.8, 0.925])\n",
    "plt.legend(loc='lower right')\n",
    "# plt.savefig(\"ann_acc.png\", dpi=500)"
   ]
  },
  {
   "cell_type": "code",
   "execution_count": 13,
   "metadata": {},
   "outputs": [
    {
     "data": {
      "text/plain": [
       "<matplotlib.legend.Legend at 0x1aecae06780>"
      ]
     },
     "execution_count": 13,
     "metadata": {},
     "output_type": "execute_result"
    },
    {
     "data": {
      "image/png": "[encoded data removed]",
      "text/plain": [
       "<Figure size 432x288 with 1 Axes>"
      ]
     },
     "metadata": {
      "needs_background": "light"
     },
     "output_type": "display_data"
    }
   ],
   "source": [
    "plt.plot(history.history['loss'], label='loss')\n",
    "plt.plot(history.history['val_loss'], label = 'val_loss')\n",
    "plt.xlabel('Epoch')\n",
    "plt.ylabel('loss')\n",
    "plt.ylim([0.25, 0.5])\n",
    "plt.legend(loc='upper right')\n",
    "# plt.savefig(\"ann_loss.png\", dpi=500)"
   ]
  }
 ],
 "metadata": {
  "kernelspec": {
   "display_name": "Python 3",
   "language": "python",
   "name": "python3"
  },
  "language_info": {
   "codemirror_mode": {
    "name": "ipython",
    "version": 3
   },
   "file_extension": ".py",
   "mimetype": "text/x-python",
   "name": "python",
   "nbconvert_exporter": "python",
   "pygments_lexer": "ipython3",
   "version": "3.7.3"
  }
 },
 "nbformat": 4,
 "nbformat_minor": 2
}
