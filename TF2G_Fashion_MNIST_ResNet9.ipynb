{
  "nbformat": 4,
  "nbformat_minor": 0,
  "metadata": {
    "colab": {
      "name": "TF2G_Fashion_MNIST_ResNet9",
      "provenance": [],
      "collapsed_sections": []
    },
    "kernelspec": {
      "name": "python3",
      "display_name": "Python 3"
    },
    "accelerator": "GPU"
  },
  "cells": [
    {
      "cell_type": "code",
      "metadata": {
        "id": "9AGwUFJyToQm",
        "colab_type": "code",
        "colab": {}
      },
      "source": [
        "%tensorflow_version 2.x"
      ],
      "execution_count": 0,
      "outputs": []
    },
    {
      "cell_type": "code",
      "metadata": {
        "id": "LFq5JxDrTkLa",
        "colab_type": "code",
        "colab": {}
      },
      "source": [
        "%matplotlib inline\n",
        "import math\n",
        "import numpy as np\n",
        "import pandas as pd\n",
        "import matplotlib.pyplot as plt\n",
        "from tensorflow.keras import *\n",
        "from tensorflow.keras.utils import *\n",
        "from tensorflow.keras.datasets import fashion_mnist"
      ],
      "execution_count": 0,
      "outputs": []
    },
    {
      "cell_type": "code",
      "metadata": {
        "id": "c7LJ9Dhbb3aQ",
        "colab_type": "code",
        "colab": {}
      },
      "source": [
        "(x_train, y_train), (x_test, y_test) = fashion_mnist.load_data()\n",
        "x_train = x_train.astype('float32')\n",
        "x_test = x_test.astype('float32')\n",
        "x_train = x_train / 255.0\n",
        "x_test = x_test / 255.0\n",
        "x_train = np.expand_dims(x_train, -1)\n",
        "x_test = np.expand_dims(x_test, -1)"
      ],
      "execution_count": 0,
      "outputs": []
    },
    {
      "cell_type": "markdown",
      "metadata": {
        "id": "4jEkwXyUesNw",
        "colab_type": "text"
      },
      "source": [
        "### Hyperparameters\n",
        "#### Epoch: 100\n",
        "#### Initial Learning Rate: 0.005\n",
        "##### 測試過0.01太大，0.001有點小，取0.005。\n",
        "#### Batch  Size: 512\n",
        "##### 取2的次方數能加快學習，反正Colab的Ram不用白不用，就取了512。\n",
        "#### Kernel Initializer: he_normal\n"
      ]
    },
    {
      "cell_type": "code",
      "metadata": {
        "id": "rdwR9nT7b4Au",
        "colab_type": "code",
        "colab": {}
      },
      "source": [
        "epoch = 100\n",
        "learning_rate = 5e-3\n",
        "batch = 512\n",
        "initializer = initializers.he_normal(seed=114)"
      ],
      "execution_count": 0,
      "outputs": []
    },
    {
      "cell_type": "markdown",
      "metadata": {
        "id": "QecQ62kUt-AX",
        "colab_type": "text"
      },
      "source": [
        "### 定義basic_layer :\n",
        "#### 順序是 Conv - BN - Dropout (- Maxpool) - Activation Function\n",
        "###### -   卷積層都採用 3x3 Filter，stride=1，padding=1\n",
        "###### -   每層都使用BN\n",
        "###### -   Dropout策略使用Spatial Dropout代替基本Dropout\n",
        "###### -   Maxpool使用(3,2,1)而非(2,2,0)\n",
        "###### -   Activation Function使用ELUs\n",
        "###### -   MP層放Activation層前面"
      ]
    },
    {
      "cell_type": "code",
      "metadata": {
        "id": "gby80imYb4jy",
        "colab_type": "code",
        "colab": {}
      },
      "source": [
        "def basic_layer(x, channel, dropoutrate = 0.0, bn = True, mp = False):\n",
        "    x = layers.Conv2D(channel, (3, 3), padding='same', kernel_initializer=initializer)(x)\n",
        "    if bn:\n",
        "        x = layers.BatchNormalization()(x)\n",
        "    if(dropoutrate>0):\n",
        "        x = layers.SpatialDropout2D(dropoutrate)(x)\n",
        "    if mp:\n",
        "        x = layers.MaxPooling2D((3, 3), strides=2, padding='same')(x)\n",
        "    x = layers.Activation('elu')(x)\n",
        "    return x"
      ],
      "execution_count": 0,
      "outputs": []
    },
    {
      "cell_type": "code",
      "metadata": {
        "id": "42hHy4vUbO2l",
        "colab_type": "code",
        "colab": {}
      },
      "source": [
        "def residual_layer(x, channel, dropoutrate = 0.0, bn = True, mp = False):\n",
        "  x = basic_layer(x, channel, dropoutrate, bn, mp)\n",
        "  x = basic_layer(x, channel, dropoutrate, bn, mp)\n",
        "  return x"
      ],
      "execution_count": 0,
      "outputs": []
    },
    {
      "cell_type": "markdown",
      "metadata": {
        "id": "cRD7gYgy1rkJ",
        "colab_type": "text"
      },
      "source": [
        "### 定義 residual_block :\n",
        "#### residual = x\n",
        "#### x = basic_layer(basic_layer(x))\n",
        "#### residual_block = x + residual"
      ]
    },
    {
      "cell_type": "code",
      "metadata": {
        "id": "ObGKgl_fbz6n",
        "colab_type": "code",
        "colab": {}
      },
      "source": [
        "def residual_block(x, channel, dropoutrate = 0.0, bn = True, mp = False):\n",
        "  x = layers.add([x, residual_layer(x, channel, dropoutrate, bn, mp)])\n",
        "  return x"
      ],
      "execution_count": 0,
      "outputs": []
    },
    {
      "cell_type": "markdown",
      "metadata": {
        "id": "2wsVJcnJt7xh",
        "colab_type": "text"
      },
      "source": [
        "###網路結構 :\n",
        "#### 使用9層ResNet\n",
        "#### channel : (16) - (32) - (Maxpool) - (Res_Block(32)) - (64) - (Maxpool) - (128) - (Res_Block(128)) - GAP - output\n",
        "##### 用GAP代替FC層，效果好，節省運算資源"
      ]
    },
    {
      "cell_type": "code",
      "metadata": {
        "id": "K6tDCQfLb5Mh",
        "colab_type": "code",
        "colab": {}
      },
      "source": [
        "def resnet9(width, height, channel, classes, init_channel=16):\n",
        "  inpt = Input(shape=(width, height, channel))\n",
        "  x = basic_layer(inpt, init_channel)\n",
        "  x = basic_layer(x, init_channel*2, dropoutrate = 0.125, mp = True)\n",
        "  x = residual_block(x, init_channel*2, dropoutrate = 0.125)\n",
        "  x = basic_layer(x, init_channel*4, dropoutrate = 0.25, mp = True)\n",
        "  x = basic_layer(x, init_channel*8, dropoutrate = 0.25)\n",
        "  x = residual_block(x, init_channel*8, dropoutrate = 0.25)\n",
        "  x = layers.AveragePooling2D(pool_size=(7, 7))(x)\n",
        "  x = layers.Flatten()(x)\n",
        "  x = layers.Dense(classes, activation='softmax')(x)\n",
        "\n",
        "  model = Model(inputs=inpt, outputs=x)\n",
        "  return model"
      ],
      "execution_count": 0,
      "outputs": []
    },
    {
      "cell_type": "code",
      "metadata": {
        "id": "sAgAeXb3b6Re",
        "colab_type": "code",
        "colab": {}
      },
      "source": [
        "model = resnet9(28,28,1,10)"
      ],
      "execution_count": 0,
      "outputs": []
    },
    {
      "cell_type": "markdown",
      "metadata": {
        "id": "7msGkZjXliO4",
        "colab_type": "text"
      },
      "source": [
        "#### Optimizer : Adam\n",
        "#### Train : Validation : Test = 5 : 1 : 1"
      ]
    },
    {
      "cell_type": "code",
      "metadata": {
        "id": "eIT0sSS0b67P",
        "colab_type": "code",
        "outputId": "c534597b-ea77-46e1-8325-0098273d0539",
        "colab": {
          "base_uri": "https://localhost:8080/",
          "height": 1000
        }
      },
      "source": [
        "adam = optimizers.Adam(lr = learning_rate)\n",
        "model.compile(optimizer= adam,\n",
        "              loss='sparse_categorical_crossentropy',\n",
        "              metrics=['accuracy'])\n",
        "early_stop = callbacks.EarlyStopping(monitor='val_loss', patience=5, verbose=2)\n",
        "history = model.fit(x_train,\n",
        "                    y_train, \n",
        "                    batch_size=batch, \n",
        "                    epochs=epoch, \n",
        "                    verbose = 2,\n",
        "                    validation_split = (1/6),\n",
        "                    callbacks=[early_stop])  "
      ],
      "execution_count": 0,
      "outputs": [
        {
          "output_type": "stream",
          "text": [
            "Epoch 1/100\n",
            "98/98 - 10s - loss: 0.8418 - accuracy: 0.6862 - val_loss: 1.9554 - val_accuracy: 0.4893\n",
            "Epoch 2/100\n",
            "98/98 - 10s - loss: 0.5191 - accuracy: 0.8108 - val_loss: 1.1631 - val_accuracy: 0.6354\n",
            "Epoch 3/100\n",
            "98/98 - 10s - loss: 0.4136 - accuracy: 0.8514 - val_loss: 0.5001 - val_accuracy: 0.8283\n",
            "Epoch 4/100\n",
            "98/98 - 10s - loss: 0.3637 - accuracy: 0.8684 - val_loss: 0.3550 - val_accuracy: 0.8782\n",
            "Epoch 5/100\n",
            "98/98 - 10s - loss: 0.3224 - accuracy: 0.8853 - val_loss: 0.3054 - val_accuracy: 0.8912\n",
            "Epoch 6/100\n",
            "98/98 - 10s - loss: 0.3071 - accuracy: 0.8905 - val_loss: 0.2705 - val_accuracy: 0.9044\n",
            "Epoch 7/100\n",
            "98/98 - 10s - loss: 0.2875 - accuracy: 0.8968 - val_loss: 0.2819 - val_accuracy: 0.9035\n",
            "Epoch 8/100\n",
            "98/98 - 10s - loss: 0.2714 - accuracy: 0.9024 - val_loss: 0.2574 - val_accuracy: 0.9114\n",
            "Epoch 9/100\n",
            "98/98 - 10s - loss: 0.2573 - accuracy: 0.9072 - val_loss: 0.2759 - val_accuracy: 0.9047\n",
            "Epoch 10/100\n",
            "98/98 - 10s - loss: 0.2539 - accuracy: 0.9097 - val_loss: 0.2482 - val_accuracy: 0.9161\n",
            "Epoch 11/100\n",
            "98/98 - 10s - loss: 0.2451 - accuracy: 0.9110 - val_loss: 0.2270 - val_accuracy: 0.9218\n",
            "Epoch 12/100\n",
            "98/98 - 10s - loss: 0.2351 - accuracy: 0.9157 - val_loss: 0.2509 - val_accuracy: 0.9095\n",
            "Epoch 13/100\n",
            "98/98 - 10s - loss: 0.2268 - accuracy: 0.9176 - val_loss: 0.2281 - val_accuracy: 0.9219\n",
            "Epoch 14/100\n",
            "98/98 - 10s - loss: 0.2236 - accuracy: 0.9188 - val_loss: 0.2206 - val_accuracy: 0.9236\n",
            "Epoch 15/100\n",
            "98/98 - 10s - loss: 0.2188 - accuracy: 0.9211 - val_loss: 0.2515 - val_accuracy: 0.9137\n",
            "Epoch 16/100\n",
            "98/98 - 10s - loss: 0.2146 - accuracy: 0.9231 - val_loss: 0.2427 - val_accuracy: 0.9168\n",
            "Epoch 17/100\n",
            "98/98 - 10s - loss: 0.2103 - accuracy: 0.9245 - val_loss: 0.2185 - val_accuracy: 0.9246\n",
            "Epoch 18/100\n",
            "98/98 - 10s - loss: 0.2037 - accuracy: 0.9270 - val_loss: 0.2058 - val_accuracy: 0.9293\n",
            "Epoch 19/100\n",
            "98/98 - 10s - loss: 0.2017 - accuracy: 0.9270 - val_loss: 0.2105 - val_accuracy: 0.9295\n",
            "Epoch 20/100\n",
            "98/98 - 10s - loss: 0.1959 - accuracy: 0.9287 - val_loss: 0.2092 - val_accuracy: 0.9287\n",
            "Epoch 21/100\n",
            "98/98 - 10s - loss: 0.1962 - accuracy: 0.9295 - val_loss: 0.2052 - val_accuracy: 0.9289\n",
            "Epoch 22/100\n",
            "98/98 - 10s - loss: 0.1942 - accuracy: 0.9303 - val_loss: 0.2270 - val_accuracy: 0.9258\n",
            "Epoch 23/100\n",
            "98/98 - 10s - loss: 0.1899 - accuracy: 0.9309 - val_loss: 0.2065 - val_accuracy: 0.9314\n",
            "Epoch 24/100\n",
            "98/98 - 10s - loss: 0.1832 - accuracy: 0.9335 - val_loss: 0.2178 - val_accuracy: 0.9304\n",
            "Epoch 25/100\n",
            "98/98 - 10s - loss: 0.1826 - accuracy: 0.9337 - val_loss: 0.2017 - val_accuracy: 0.9312\n",
            "Epoch 26/100\n",
            "98/98 - 10s - loss: 0.1786 - accuracy: 0.9345 - val_loss: 0.1971 - val_accuracy: 0.9362\n",
            "Epoch 27/100\n",
            "98/98 - 10s - loss: 0.1744 - accuracy: 0.9373 - val_loss: 0.2258 - val_accuracy: 0.9261\n",
            "Epoch 28/100\n",
            "98/98 - 10s - loss: 0.1745 - accuracy: 0.9371 - val_loss: 0.1973 - val_accuracy: 0.9333\n",
            "Epoch 29/100\n",
            "98/98 - 10s - loss: 0.1716 - accuracy: 0.9374 - val_loss: 0.2065 - val_accuracy: 0.9312\n",
            "Epoch 30/100\n",
            "98/98 - 10s - loss: 0.1686 - accuracy: 0.9390 - val_loss: 0.1982 - val_accuracy: 0.9363\n",
            "Epoch 31/100\n",
            "98/98 - 10s - loss: 0.1726 - accuracy: 0.9363 - val_loss: 0.2012 - val_accuracy: 0.9340\n",
            "Epoch 00031: early stopping\n"
          ],
          "name": "stdout"
        }
      ]
    },
    {
      "cell_type": "code",
      "metadata": {
        "id": "mMUjF5T4b7ww",
        "colab_type": "code",
        "outputId": "94f3dc92-4bf6-4739-ab4b-4c302a2e345f",
        "colab": {
          "base_uri": "https://localhost:8080/",
          "height": 34
        }
      },
      "source": [
        "test_loss, test_acc = model.evaluate(x_test, y_test, verbose=2)"
      ],
      "execution_count": 0,
      "outputs": [
        {
          "output_type": "stream",
          "text": [
            "313/313 - 2s - loss: 0.2397 - accuracy: 0.9251\n"
          ],
          "name": "stdout"
        }
      ]
    },
    {
      "cell_type": "code",
      "metadata": {
        "id": "bIWJ_yjwb8V_",
        "colab_type": "code",
        "outputId": "a3b23638-0518-440a-9ac6-ea174ee12687",
        "colab": {
          "base_uri": "https://localhost:8080/",
          "height": 300
        }
      },
      "source": [
        "plt.plot(history.history['accuracy'], label='accuracy')\n",
        "plt.plot(history.history['val_accuracy'], label = 'val_accuracy')\n",
        "plt.xlabel('Epoch')\n",
        "plt.ylabel('Accuracy')\n",
        "plt.ylim([0.5, 1])\n",
        "plt.legend(loc='lower right')\n",
        "# plt.savefig(\"ann_acc.png\", dpi=500)"
      ],
      "execution_count": 0,
      "outputs": [
        {
          "output_type": "execute_result",
          "data": {
            "text/plain": [
              "<matplotlib.legend.Legend at 0x7fa406676ac8>"
            ]
          },
          "metadata": {
            "tags": []
          },
          "execution_count": 12
        },
        {
          "output_type": "display_data",
          "data": {
            "image/png": "[encoded data removed]",
            "text/plain": [
              "<Figure size 432x288 with 1 Axes>"
            ]
          },
          "metadata": {
            "tags": []
          }
        }
      ]
    },
    {
      "cell_type": "code",
      "metadata": {
        "id": "maods0xfb85_",
        "colab_type": "code",
        "outputId": "670c36c5-af8b-4602-e7ac-cd486b1d9856",
        "colab": {
          "base_uri": "https://localhost:8080/",
          "height": 300
        }
      },
      "source": [
        "plt.plot(history.history['loss'], label='loss')\n",
        "plt.plot(history.history['val_loss'], label = 'val_loss')\n",
        "plt.xlabel('Epoch')\n",
        "plt.ylabel('loss')\n",
        "plt.ylim([0, 1])\n",
        "plt.legend(loc='upper right')\n",
        "# plt.savefig(\"ann_loss.png\", dpi=500)"
      ],
      "execution_count": 0,
      "outputs": [
        {
          "output_type": "execute_result",
          "data": {
            "text/plain": [
              "<matplotlib.legend.Legend at 0x7fa42b8d5ac8>"
            ]
          },
          "metadata": {
            "tags": []
          },
          "execution_count": 13
        },
        {
          "output_type": "display_data",
          "data": {
            "image/png": "[encoded data removed]",
            "text/plain": [
              "<Figure size 432x288 with 1 Axes>"
            ]
          },
          "metadata": {
            "tags": []
          }
        }
      ]
    },
    {
      "cell_type": "markdown",
      "metadata": {
        "id": "rmFhmwrAl511",
        "colab_type": "text"
      },
      "source": [
        "##Result : \n",
        "### Train accuracy: 93.63%\n",
        "### Valid accuracy: 93.40%\n",
        "### Test  accuracy: 92.51%\n",
        "#### Early_stopping讓模型在第31個epoch就停止訓練\n"
      ]
    }
  ]
}