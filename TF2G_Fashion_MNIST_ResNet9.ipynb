{
  "nbformat": 4,
  "nbformat_minor": 0,
  "metadata": {
    "colab": {
      "name": "TF2G_Fashion_MNIST_ResNet9",
      "provenance": [],
      "collapsed_sections": []
    },
    "kernelspec": {
      "name": "python3",
      "display_name": "Python 3"
    },
    "accelerator": "GPU"
  },
  "cells": [
    {
      "cell_type": "code",
      "metadata": {
        "id": "9AGwUFJyToQm",
        "colab_type": "code",
        "colab": {}
      },
      "source": [
        "%tensorflow_version 2.x"
      ],
      "execution_count": 0,
      "outputs": []
    },
    {
      "cell_type": "code",
      "metadata": {
        "id": "LFq5JxDrTkLa",
        "colab_type": "code",
        "colab": {}
      },
      "source": [
        "%matplotlib inline\n",
        "import math\n",
        "import numpy as np\n",
        "import pandas as pd\n",
        "import matplotlib.pyplot as plt\n",
        "from tensorflow.keras import *\n",
        "from tensorflow.keras import Model, Input\n",
        "from tensorflow.keras.utils import *\n",
        "from tensorflow.keras.datasets import fashion_mnist"
      ],
      "execution_count": 0,
      "outputs": []
    },
    {
      "cell_type": "code",
      "metadata": {
        "id": "c7LJ9Dhbb3aQ",
        "colab_type": "code",
        "colab": {}
      },
      "source": [
        "(x_train, y_train), (x_test, y_test) = fashion_mnist.load_data()\n",
        "x_train = x_train.astype('float32')\n",
        "x_test = x_test.astype('float32')\n",
        "x_train = x_train / 255.0\n",
        "x_test = x_test / 255.0\n",
        "x_train = np.expand_dims(x_train, -1)\n",
        "x_test = np.expand_dims(x_test, -1)"
      ],
      "execution_count": 0,
      "outputs": []
    },
    {
      "cell_type": "markdown",
      "metadata": {
        "id": "4jEkwXyUesNw",
        "colab_type": "text"
      },
      "source": [
        "### Hyperparameters\n",
        "#### Epoch: 100\n",
        "#### Initial Learning Rate: 0.005\n",
        "##### 測試過0.01太大，0.001有點小，取0.005。\n",
        "#### Batch  Size: 512\n",
        "##### 取2的次方數能加快學習，反正Colab的Ram不用白不用，就取了512。\n",
        "#### Kernel Initializer: he_normal\n"
      ]
    },
    {
      "cell_type": "code",
      "metadata": {
        "id": "rdwR9nT7b4Au",
        "colab_type": "code",
        "colab": {}
      },
      "source": [
        "epoch = 100\n",
        "learning_rate = 5e-3\n",
        "batch = 512\n",
        "initializer = initializers.he_normal(seed=114)"
      ],
      "execution_count": 0,
      "outputs": []
    },
    {
      "cell_type": "markdown",
      "metadata": {
        "id": "QecQ62kUt-AX",
        "colab_type": "text"
      },
      "source": [
        "### 定義basic_layer :\n",
        "#### 順序是 Conv - BN - Dropout (- Maxpool) - Activation Function\n",
        "###### -   卷積層都採用 3x3 Filter，stride=1，padding=1\n",
        "###### -   每層都使用BN\n",
        "###### -   Dropout策略使用Spatial Dropout代替基本Dropout\n",
        "###### -   Maxpool使用(3,2,1)而非(2,2,0)\n",
        "###### -   Activation Function使用ELUs\n",
        "###### -   MP層放Activation層前面"
      ]
    },
    {
      "cell_type": "code",
      "metadata": {
        "id": "gby80imYb4jy",
        "colab_type": "code",
        "colab": {}
      },
      "source": [
        "def basic_layer(x, channel, dropoutrate = 0.0, bn = True, mp = False):\n",
        "    x = layers.Conv2D(channel, (3, 3), padding='same', kernel_initializer=initializer)(x)\n",
        "    if bn:\n",
        "        x = layers.BatchNormalization()(x)\n",
        "    if(dropoutrate>0):\n",
        "        x = layers.SpatialDropout2D(dropoutrate)(x)\n",
        "    if mp:\n",
        "        x = layers.MaxPooling2D((3, 3), strides=2, padding='same')(x)\n",
        "    x = layers.Activation('elu')(x)\n",
        "    return x"
      ],
      "execution_count": 0,
      "outputs": []
    },
    {
      "cell_type": "code",
      "metadata": {
        "id": "42hHy4vUbO2l",
        "colab_type": "code",
        "colab": {}
      },
      "source": [
        "def residual_layer(x, channel, dropoutrate = 0.0, bn = True, mp = False):\n",
        "  x = basic_layer(x, channel, dropoutrate, bn, mp)\n",
        "  x = basic_layer(x, channel, dropoutrate, bn, mp)\n",
        "  return x"
      ],
      "execution_count": 0,
      "outputs": []
    },
    {
      "cell_type": "markdown",
      "metadata": {
        "id": "cRD7gYgy1rkJ",
        "colab_type": "text"
      },
      "source": [
        "### 定義 residual_block :\n",
        "#### residual = x\n",
        "#### x = basic_layer(basic_layer(x))\n",
        "#### residual_block = x + residual"
      ]
    },
    {
      "cell_type": "code",
      "metadata": {
        "id": "ObGKgl_fbz6n",
        "colab_type": "code",
        "colab": {}
      },
      "source": [
        "def residual_block(x, channel, dropoutrate = 0.0, bn = True, mp = False):\n",
        "  x = layers.add([x, residual_layer(x, channel, dropoutrate, bn, mp)])\n",
        "  return x"
      ],
      "execution_count": 0,
      "outputs": []
    },
    {
      "cell_type": "markdown",
      "metadata": {
        "id": "2wsVJcnJt7xh",
        "colab_type": "text"
      },
      "source": [
        "###網路結構 :\n",
        "#### 使用9層ResNet\n",
        "#### channel : (16) - (32) - (Maxpool) - (Res_Block(32)) - (64) - (Maxpool) - (128) - (Res_Block(128)) - GAP - output\n",
        "##### 用GAP代替FC層，效果好，節省運算資源"
      ]
    },
    {
      "cell_type": "code",
      "metadata": {
        "id": "K6tDCQfLb5Mh",
        "colab_type": "code",
        "colab": {}
      },
      "source": [
        "def resnet9(width, height, channel, classes, init_channel=16):\n",
        "  inpt = Input(shape=(width, height, channel))\n",
        "  x = basic_layer(inpt, init_channel)\n",
        "  x = basic_layer(x, init_channel*2, dropoutrate = 0.125, mp = True)\n",
        "  x = residual_block(x, init_channel*2, dropoutrate = 0.125)\n",
        "  x = basic_layer(x, init_channel*4, dropoutrate = 0.25, mp = True)\n",
        "  x = basic_layer(x, init_channel*8, dropoutrate = 0.25)\n",
        "  x = residual_block(x, init_channel*8, dropoutrate = 0.25)\n",
        "  x = layers.GlobalAveragePooling2D()(x)\n",
        "  x = layers.Dense(classes, activation='softmax')(x)\n",
        "\n",
        "  model = Model(inputs=inpt, outputs=x)\n",
        "  return model"
      ],
      "execution_count": 0,
      "outputs": []
    },
    {
      "cell_type": "code",
      "metadata": {
        "id": "sAgAeXb3b6Re",
        "colab_type": "code",
        "colab": {}
      },
      "source": [
        "model = resnet9(28,28,1,10)"
      ],
      "execution_count": 0,
      "outputs": []
    },
    {
      "cell_type": "markdown",
      "metadata": {
        "id": "7msGkZjXliO4",
        "colab_type": "text"
      },
      "source": [
        "#### Optimizer : Adam\n",
        "#### Train : Validation : Test = 5 : 1 : 1"
      ]
    },
    {
      "cell_type": "code",
      "metadata": {
        "id": "eIT0sSS0b67P",
        "colab_type": "code",
        "outputId": "aa8d6e10-ed36-4598-e114-893bbe0745d7",
        "colab": {
          "base_uri": "https://localhost:8080/",
          "height": 1000
        }
      },
      "source": [
        "adam = optimizers.Adam(lr = learning_rate)\n",
        "model.compile(optimizer= adam,\n",
        "              loss='sparse_categorical_crossentropy',\n",
        "              metrics=['accuracy'])\n",
        "early_stop = callbacks.EarlyStopping(monitor='val_accuracy', patience=5, verbose=2)\n",
        "history = model.fit(x_train,\n",
        "                    y_train, \n",
        "                    batch_size=batch, \n",
        "                    epochs=epoch, \n",
        "                    verbose = 2,\n",
        "                    validation_split = (1/6),\n",
        "                    callbacks=[early_stop]\n",
        "                    )  "
      ],
      "execution_count": 0,
      "outputs": [
        {
          "output_type": "stream",
          "text": [
            "Epoch 1/100\n",
            "98/98 - 4s - loss: 0.8447 - accuracy: 0.6864 - val_loss: 2.5409 - val_accuracy: 0.5405\n",
            "Epoch 2/100\n",
            "98/98 - 3s - loss: 0.5351 - accuracy: 0.8038 - val_loss: 0.6567 - val_accuracy: 0.7587\n",
            "Epoch 3/100\n",
            "98/98 - 3s - loss: 0.4284 - accuracy: 0.8426 - val_loss: 0.4666 - val_accuracy: 0.8221\n",
            "Epoch 4/100\n",
            "98/98 - 3s - loss: 0.3696 - accuracy: 0.8656 - val_loss: 0.3550 - val_accuracy: 0.8718\n",
            "Epoch 5/100\n",
            "98/98 - 3s - loss: 0.3291 - accuracy: 0.8815 - val_loss: 0.3378 - val_accuracy: 0.8867\n",
            "Epoch 6/100\n",
            "98/98 - 3s - loss: 0.3027 - accuracy: 0.8916 - val_loss: 0.2634 - val_accuracy: 0.9066\n",
            "Epoch 7/100\n",
            "98/98 - 3s - loss: 0.2909 - accuracy: 0.8958 - val_loss: 0.3080 - val_accuracy: 0.8923\n",
            "Epoch 8/100\n",
            "98/98 - 3s - loss: 0.2791 - accuracy: 0.8994 - val_loss: 0.2664 - val_accuracy: 0.9085\n",
            "Epoch 9/100\n",
            "98/98 - 3s - loss: 0.2609 - accuracy: 0.9067 - val_loss: 0.3024 - val_accuracy: 0.8948\n",
            "Epoch 10/100\n",
            "98/98 - 3s - loss: 0.2546 - accuracy: 0.9081 - val_loss: 0.2638 - val_accuracy: 0.9101\n",
            "Epoch 11/100\n",
            "98/98 - 3s - loss: 0.2458 - accuracy: 0.9108 - val_loss: 0.2553 - val_accuracy: 0.9147\n",
            "Epoch 12/100\n",
            "98/98 - 3s - loss: 0.2390 - accuracy: 0.9139 - val_loss: 0.2278 - val_accuracy: 0.9239\n",
            "Epoch 13/100\n",
            "98/98 - 3s - loss: 0.2318 - accuracy: 0.9165 - val_loss: 0.2131 - val_accuracy: 0.9252\n",
            "Epoch 14/100\n",
            "98/98 - 3s - loss: 0.2233 - accuracy: 0.9192 - val_loss: 0.2214 - val_accuracy: 0.9231\n",
            "Epoch 15/100\n",
            "98/98 - 3s - loss: 0.2234 - accuracy: 0.9177 - val_loss: 0.2210 - val_accuracy: 0.9239\n",
            "Epoch 16/100\n",
            "98/98 - 3s - loss: 0.2139 - accuracy: 0.9228 - val_loss: 0.2279 - val_accuracy: 0.9203\n",
            "Epoch 17/100\n",
            "98/98 - 3s - loss: 0.2119 - accuracy: 0.9230 - val_loss: 0.2153 - val_accuracy: 0.9281\n",
            "Epoch 18/100\n",
            "98/98 - 3s - loss: 0.2069 - accuracy: 0.9255 - val_loss: 0.2177 - val_accuracy: 0.9276\n",
            "Epoch 19/100\n",
            "98/98 - 3s - loss: 0.2043 - accuracy: 0.9262 - val_loss: 0.2174 - val_accuracy: 0.9276\n",
            "Epoch 20/100\n",
            "98/98 - 3s - loss: 0.2024 - accuracy: 0.9276 - val_loss: 0.2066 - val_accuracy: 0.9298\n",
            "Epoch 21/100\n",
            "98/98 - 3s - loss: 0.1965 - accuracy: 0.9283 - val_loss: 0.2141 - val_accuracy: 0.9282\n",
            "Epoch 22/100\n",
            "98/98 - 3s - loss: 0.1928 - accuracy: 0.9305 - val_loss: 0.2197 - val_accuracy: 0.9270\n",
            "Epoch 23/100\n",
            "98/98 - 3s - loss: 0.1883 - accuracy: 0.9314 - val_loss: 0.2137 - val_accuracy: 0.9283\n",
            "Epoch 24/100\n",
            "98/98 - 3s - loss: 0.1868 - accuracy: 0.9318 - val_loss: 0.2134 - val_accuracy: 0.9315\n",
            "Epoch 25/100\n",
            "98/98 - 3s - loss: 0.1793 - accuracy: 0.9362 - val_loss: 0.1946 - val_accuracy: 0.9337\n",
            "Epoch 26/100\n",
            "98/98 - 3s - loss: 0.1792 - accuracy: 0.9355 - val_loss: 0.2048 - val_accuracy: 0.9313\n",
            "Epoch 27/100\n",
            "98/98 - 3s - loss: 0.1789 - accuracy: 0.9351 - val_loss: 0.1915 - val_accuracy: 0.9344\n",
            "Epoch 28/100\n",
            "98/98 - 3s - loss: 0.1778 - accuracy: 0.9357 - val_loss: 0.2210 - val_accuracy: 0.9242\n",
            "Epoch 29/100\n",
            "98/98 - 3s - loss: 0.1744 - accuracy: 0.9369 - val_loss: 0.2018 - val_accuracy: 0.9333\n",
            "Epoch 30/100\n",
            "98/98 - 3s - loss: 0.1709 - accuracy: 0.9381 - val_loss: 0.1891 - val_accuracy: 0.9357\n",
            "Epoch 31/100\n",
            "98/98 - 3s - loss: 0.1679 - accuracy: 0.9389 - val_loss: 0.2002 - val_accuracy: 0.9346\n",
            "Epoch 32/100\n",
            "98/98 - 3s - loss: 0.1659 - accuracy: 0.9396 - val_loss: 0.2130 - val_accuracy: 0.9342\n",
            "Epoch 33/100\n",
            "98/98 - 3s - loss: 0.1629 - accuracy: 0.9403 - val_loss: 0.2074 - val_accuracy: 0.9334\n",
            "Epoch 34/100\n",
            "98/98 - 3s - loss: 0.1635 - accuracy: 0.9398 - val_loss: 0.1958 - val_accuracy: 0.9387\n",
            "Epoch 35/100\n",
            "98/98 - 3s - loss: 0.1625 - accuracy: 0.9417 - val_loss: 0.1830 - val_accuracy: 0.9409\n",
            "Epoch 36/100\n",
            "98/98 - 3s - loss: 0.1574 - accuracy: 0.9432 - val_loss: 0.2158 - val_accuracy: 0.9307\n",
            "Epoch 37/100\n",
            "98/98 - 3s - loss: 0.1543 - accuracy: 0.9442 - val_loss: 0.1880 - val_accuracy: 0.9386\n",
            "Epoch 38/100\n",
            "98/98 - 3s - loss: 0.1552 - accuracy: 0.9438 - val_loss: 0.2015 - val_accuracy: 0.9342\n",
            "Epoch 39/100\n",
            "98/98 - 3s - loss: 0.1554 - accuracy: 0.9431 - val_loss: 0.1971 - val_accuracy: 0.9379\n",
            "Epoch 40/100\n",
            "98/98 - 3s - loss: 0.1501 - accuracy: 0.9444 - val_loss: 0.2105 - val_accuracy: 0.9359\n",
            "Epoch 00040: early stopping\n"
          ],
          "name": "stdout"
        }
      ]
    },
    {
      "cell_type": "code",
      "metadata": {
        "id": "mMUjF5T4b7ww",
        "colab_type": "code",
        "outputId": "5d29c087-b163-416b-db4e-1b2dbd3e7b76",
        "colab": {
          "base_uri": "https://localhost:8080/",
          "height": 34
        }
      },
      "source": [
        "test_loss, test_acc = model.evaluate(x_test, y_test, verbose=2)"
      ],
      "execution_count": 0,
      "outputs": [
        {
          "output_type": "stream",
          "text": [
            "313/313 - 1s - loss: 0.2508 - accuracy: 0.9291\n"
          ],
          "name": "stdout"
        }
      ]
    },
    {
      "cell_type": "code",
      "metadata": {
        "id": "bIWJ_yjwb8V_",
        "colab_type": "code",
        "outputId": "a9211acb-708c-4662-c749-ae8febcffca9",
        "colab": {
          "base_uri": "https://localhost:8080/",
          "height": 300
        }
      },
      "source": [
        "plt.plot(history.history['accuracy'], label='accuracy')\n",
        "plt.plot(history.history['val_accuracy'], label = 'val_accuracy')\n",
        "plt.xlabel('Epoch')\n",
        "plt.ylabel('Accuracy')\n",
        "plt.ylim([0.5, 1])\n",
        "plt.legend(loc='lower right')\n",
        "# plt.savefig(\"ann_acc.png\", dpi=500)"
      ],
      "execution_count": 0,
      "outputs": [
        {
          "output_type": "execute_result",
          "data": {
            "text/plain": [
              "<matplotlib.legend.Legend at 0x7fd7482f6048>"
            ]
          },
          "metadata": {
            "tags": []
          },
          "execution_count": 12
        },
        {
          "output_type": "display_data",
          "data": {
            "image/png": "[encoded data removed]",
            "text/plain": [
              "<Figure size 432x288 with 1 Axes>"
            ]
          },
          "metadata": {
            "tags": []
          }
        }
      ]
    },
    {
      "cell_type": "code",
      "metadata": {
        "id": "maods0xfb85_",
        "colab_type": "code",
        "outputId": "cd410ce7-f638-4de8-e5d8-675f2fcc682b",
        "colab": {
          "base_uri": "https://localhost:8080/",
          "height": 300
        }
      },
      "source": [
        "plt.plot(history.history['loss'], label='loss')\n",
        "plt.plot(history.history['val_loss'], label = 'val_loss')\n",
        "plt.xlabel('Epoch')\n",
        "plt.ylabel('loss')\n",
        "plt.ylim([0, 1])\n",
        "plt.legend(loc='upper right')\n",
        "# plt.savefig(\"ann_loss.png\", dpi=500)"
      ],
      "execution_count": 0,
      "outputs": [
        {
          "output_type": "execute_result",
          "data": {
            "text/plain": [
              "<matplotlib.legend.Legend at 0x7fd76df94a90>"
            ]
          },
          "metadata": {
            "tags": []
          },
          "execution_count": 13
        },
        {
          "output_type": "display_data",
          "data": {
            "image/png": "[encoded data removed]",
            "text/plain": [
              "<Figure size 432x288 with 1 Axes>"
            ]
          },
          "metadata": {
            "tags": []
          }
        }
      ]
    },
    {
      "cell_type": "markdown",
      "metadata": {
        "id": "rmFhmwrAl511",
        "colab_type": "text"
      },
      "source": [
        "##Result : \n",
        "### Train accuracy: 94.44%\n",
        "### Valid accuracy: 93.59%\n",
        "### Test  accuracy: 92.91%\n",
        "#### Early_stopping讓模型在第40個epoch就停止訓練\n"
      ]
    }
  ]
}