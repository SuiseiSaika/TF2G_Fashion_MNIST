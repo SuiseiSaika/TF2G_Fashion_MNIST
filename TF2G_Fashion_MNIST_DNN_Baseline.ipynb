{
 "cells": [
  {
   "cell_type": "code",
   "execution_count": 1,
   "metadata": {},
   "outputs": [],
   "source": [
    "%matplotlib inline\n",
    "import tensorflow as tf\n",
    "import math\n",
    "import numpy as np\n",
    "import matplotlib.pyplot as plt\n",
    "from tensorflow.keras import *\n",
    "from tensorflow.keras.utils import *\n",
    "from tensorflow.keras.datasets import fashion_mnist"
   ]
  },
  {
   "cell_type": "code",
   "execution_count": 2,
   "metadata": {},
   "outputs": [],
   "source": [
    "(x_train, y_train), (x_test, y_test) = fashion_mnist.load_data()\n",
    "x_train, x_test = x_train.reshape(60000,784)/255.0, x_test.reshape(10000,784)/255.0"
   ]
  },
  {
   "cell_type": "code",
   "execution_count": 3,
   "metadata": {},
   "outputs": [],
   "source": [
    "epoch = 100\n",
    "lr = 1e-2\n",
    "batch_size = 256\n",
    "initializer = initializers.he_normal(seed=114)"
   ]
  },
  {
   "cell_type": "code",
   "execution_count": 4,
   "metadata": {},
   "outputs": [],
   "source": [
    "def step_decay(epoch):\n",
    "    initial_lrate = 0.01\n",
    "    drop = 0.9\n",
    "    epochs_drop = 10\n",
    "    lrate = initial_lrate * math.pow(drop, math.floor((1+epoch)/epochs_drop))\n",
    "    return lrate"
   ]
  },
  {
   "cell_type": "code",
   "execution_count": 5,
   "metadata": {},
   "outputs": [],
   "source": [
    "lrate = callbacks.LearningRateScheduler(step_decay)"
   ]
  },
  {
   "cell_type": "code",
   "execution_count": 6,
   "metadata": {},
   "outputs": [],
   "source": [
    "def basic_layer(node):\n",
    "    layer = models.Sequential()\n",
    "    layer.add(layers.Dense(node, kernel_initializer=initializer))\n",
    "    layer.add(layers.Activation('elu'))\n",
    "    return layer"
   ]
  },
  {
   "cell_type": "code",
   "execution_count": 7,
   "metadata": {},
   "outputs": [],
   "source": [
    "model = models.Sequential()\n",
    "model.add(layers.Dense(128, input_dim=784))\n",
    "model.add(layers.Activation('elu'))\n",
    "model.add(basic_layer(128))\n",
    "model.add(basic_layer(256))\n",
    "model.add(basic_layer(256))\n",
    "model.add(basic_layer(512))\n",
    "model.add(basic_layer(512))\n",
    "model.add(layers.Dense(10, activation='softmax'))"
   ]
  },
  {
   "cell_type": "code",
   "execution_count": 8,
   "metadata": {},
   "outputs": [
    {
     "name": "stdout",
     "output_type": "stream",
     "text": [
      "Model: \"sequential\"\n",
      "_________________________________________________________________\n",
      "Layer (type)                 Output Shape              Param #   \n",
      "=================================================================\n",
      "dense (Dense)                (None, 128)               100480    \n",
      "_________________________________________________________________\n",
      "activation (Activation)      (None, 128)               0         \n",
      "_________________________________________________________________\n",
      "sequential_1 (Sequential)    (None, 128)               16512     \n",
      "_________________________________________________________________\n",
      "sequential_2 (Sequential)    (None, 256)               33024     \n",
      "_________________________________________________________________\n",
      "sequential_3 (Sequential)    (None, 256)               65792     \n",
      "_________________________________________________________________\n",
      "sequential_4 (Sequential)    (None, 512)               131584    \n",
      "_________________________________________________________________\n",
      "sequential_5 (Sequential)    (None, 512)               262656    \n",
      "_________________________________________________________________\n",
      "dense_6 (Dense)              (None, 10)                5130      \n",
      "=================================================================\n",
      "Total params: 615,178\n",
      "Trainable params: 615,178\n",
      "Non-trainable params: 0\n",
      "_________________________________________________________________\n"
     ]
    }
   ],
   "source": [
    "model.summary()"
   ]
  },
  {
   "cell_type": "code",
   "execution_count": 9,
   "metadata": {
    "scrolled": true
   },
   "outputs": [
    {
     "name": "stdout",
     "output_type": "stream",
     "text": [
      "Train on 60000 samples, validate on 10000 samples\n",
      "Epoch 1/100\n",
      "60000/60000 [==============================] - 2s 35us/sample - loss: 0.6950 - accuracy: 0.7537 - val_loss: 0.5755 - val_accuracy: 0.7951\n",
      "Epoch 2/100\n",
      "60000/60000 [==============================] - 1s 18us/sample - loss: 0.4902 - accuracy: 0.8242 - val_loss: 0.5099 - val_accuracy: 0.8128\n",
      "Epoch 3/100\n",
      "60000/60000 [==============================] - 1s 17us/sample - loss: 0.4451 - accuracy: 0.8396 - val_loss: 0.4907 - val_accuracy: 0.8192\n",
      "Epoch 4/100\n",
      "60000/60000 [==============================] - 1s 18us/sample - loss: 0.4186 - accuracy: 0.8499 - val_loss: 0.4546 - val_accuracy: 0.8355\n",
      "Epoch 5/100\n",
      "60000/60000 [==============================] - 1s 20us/sample - loss: 0.4004 - accuracy: 0.8556 - val_loss: 0.4899 - val_accuracy: 0.8283\n",
      "Epoch 6/100\n",
      "60000/60000 [==============================] - 1s 19us/sample - loss: 0.3831 - accuracy: 0.8624 - val_loss: 0.4821 - val_accuracy: 0.8266\n",
      "Epoch 7/100\n",
      "60000/60000 [==============================] - 1s 20us/sample - loss: 0.3731 - accuracy: 0.8647 - val_loss: 0.4622 - val_accuracy: 0.8339\n",
      "Epoch 8/100\n",
      "60000/60000 [==============================] - 1s 22us/sample - loss: 0.3609 - accuracy: 0.8698 - val_loss: 0.4035 - val_accuracy: 0.8570\n",
      "Epoch 9/100\n",
      "60000/60000 [==============================] - 1s 20us/sample - loss: 0.3505 - accuracy: 0.8725 - val_loss: 0.4075 - val_accuracy: 0.8525\n",
      "Epoch 10/100\n",
      "60000/60000 [==============================] - 1s 21us/sample - loss: 0.3428 - accuracy: 0.8766 - val_loss: 0.3890 - val_accuracy: 0.8618\n",
      "Epoch 11/100\n",
      "60000/60000 [==============================] - 1s 20us/sample - loss: 0.3345 - accuracy: 0.8787 - val_loss: 0.3901 - val_accuracy: 0.8633\n",
      "Epoch 12/100\n",
      "60000/60000 [==============================] - 1s 21us/sample - loss: 0.3300 - accuracy: 0.8798 - val_loss: 0.3784 - val_accuracy: 0.8650\n",
      "Epoch 13/100\n",
      "60000/60000 [==============================] - 1s 19us/sample - loss: 0.3240 - accuracy: 0.8820 - val_loss: 0.3936 - val_accuracy: 0.8583\n",
      "Epoch 14/100\n",
      "60000/60000 [==============================] - 1s 19us/sample - loss: 0.3201 - accuracy: 0.8831 - val_loss: 0.4044 - val_accuracy: 0.8541\n",
      "Epoch 15/100\n",
      "60000/60000 [==============================] - 1s 19us/sample - loss: 0.3149 - accuracy: 0.8851 - val_loss: 0.3775 - val_accuracy: 0.8657\n",
      "Epoch 16/100\n",
      "60000/60000 [==============================] - 1s 19us/sample - loss: 0.3092 - accuracy: 0.8878 - val_loss: 0.3644 - val_accuracy: 0.8701\n",
      "Epoch 17/100\n",
      "60000/60000 [==============================] - 1s 22us/sample - loss: 0.3052 - accuracy: 0.8893 - val_loss: 0.3849 - val_accuracy: 0.8601\n",
      "Epoch 18/100\n",
      "60000/60000 [==============================] - 1s 24us/sample - loss: 0.3006 - accuracy: 0.8903 - val_loss: 0.3813 - val_accuracy: 0.8627\n",
      "Epoch 19/100\n",
      "60000/60000 [==============================] - 4s 68us/sample - loss: 0.2977 - accuracy: 0.8911 - val_loss: 0.3666 - val_accuracy: 0.8681\n",
      "Epoch 20/100\n",
      "60000/60000 [==============================] - 4s 61us/sample - loss: 0.2920 - accuracy: 0.8943 - val_loss: 0.3729 - val_accuracy: 0.8646\n",
      "Epoch 21/100\n",
      "60000/60000 [==============================] - 1s 22us/sample - loss: 0.2892 - accuracy: 0.8943 - val_loss: 0.3683 - val_accuracy: 0.8678\n",
      "Epoch 22/100\n",
      "60000/60000 [==============================] - 1s 22us/sample - loss: 0.2857 - accuracy: 0.8954 - val_loss: 0.3608 - val_accuracy: 0.8699\n",
      "Epoch 23/100\n",
      "60000/60000 [==============================] - 1s 20us/sample - loss: 0.2817 - accuracy: 0.8976 - val_loss: 0.3569 - val_accuracy: 0.8725\n",
      "Epoch 24/100\n",
      "60000/60000 [==============================] - 1s 20us/sample - loss: 0.2804 - accuracy: 0.8973 - val_loss: 0.3863 - val_accuracy: 0.8591\n",
      "Epoch 25/100\n",
      "60000/60000 [==============================] - 1s 19us/sample - loss: 0.2771 - accuracy: 0.8988 - val_loss: 0.3605 - val_accuracy: 0.8682\n",
      "Epoch 26/100\n",
      "60000/60000 [==============================] - 1s 20us/sample - loss: 0.2741 - accuracy: 0.9003 - val_loss: 0.3738 - val_accuracy: 0.8645\n",
      "Epoch 27/100\n",
      "60000/60000 [==============================] - 1s 20us/sample - loss: 0.2719 - accuracy: 0.9005 - val_loss: 0.3540 - val_accuracy: 0.8738\n",
      "Epoch 28/100\n",
      "60000/60000 [==============================] - 1s 19us/sample - loss: 0.2700 - accuracy: 0.9007 - val_loss: 0.3652 - val_accuracy: 0.8686\n",
      "Epoch 29/100\n",
      "60000/60000 [==============================] - 1s 19us/sample - loss: 0.2672 - accuracy: 0.9022 - val_loss: 0.3598 - val_accuracy: 0.8702\n",
      "Epoch 30/100\n",
      "60000/60000 [==============================] - 1s 21us/sample - loss: 0.2629 - accuracy: 0.9039 - val_loss: 0.3430 - val_accuracy: 0.8789\n",
      "Epoch 31/100\n",
      "60000/60000 [==============================] - 1s 20us/sample - loss: 0.2610 - accuracy: 0.9053 - val_loss: 0.3528 - val_accuracy: 0.8737\n",
      "Epoch 32/100\n",
      "60000/60000 [==============================] - 1s 19us/sample - loss: 0.2595 - accuracy: 0.9055 - val_loss: 0.3486 - val_accuracy: 0.8756\n",
      "Epoch 33/100\n",
      "60000/60000 [==============================] - 1s 20us/sample - loss: 0.2573 - accuracy: 0.9062 - val_loss: 0.3489 - val_accuracy: 0.8762\n",
      "Epoch 34/100\n",
      "60000/60000 [==============================] - 1s 21us/sample - loss: 0.2556 - accuracy: 0.9071 - val_loss: 0.3401 - val_accuracy: 0.8780\n",
      "Epoch 35/100\n",
      "60000/60000 [==============================] - 1s 20us/sample - loss: 0.2534 - accuracy: 0.9067 - val_loss: 0.3509 - val_accuracy: 0.8737\n",
      "Epoch 36/100\n",
      "60000/60000 [==============================] - 1s 21us/sample - loss: 0.2520 - accuracy: 0.9075 - val_loss: 0.3767 - val_accuracy: 0.8621\n",
      "Epoch 37/100\n",
      "60000/60000 [==============================] - 1s 20us/sample - loss: 0.2502 - accuracy: 0.9087 - val_loss: 0.3417 - val_accuracy: 0.8765\n",
      "Epoch 38/100\n",
      "60000/60000 [==============================] - 1s 20us/sample - loss: 0.2478 - accuracy: 0.9092 - val_loss: 0.3423 - val_accuracy: 0.8766\n",
      "Epoch 39/100\n",
      "60000/60000 [==============================] - 1s 20us/sample - loss: 0.2457 - accuracy: 0.9098 - val_loss: 0.3389 - val_accuracy: 0.8792\n",
      "Epoch 40/100\n",
      "60000/60000 [==============================] - 1s 20us/sample - loss: 0.2423 - accuracy: 0.9110 - val_loss: 0.3352 - val_accuracy: 0.8785\n",
      "Epoch 41/100\n",
      "60000/60000 [==============================] - 1s 20us/sample - loss: 0.2414 - accuracy: 0.9126 - val_loss: 0.3348 - val_accuracy: 0.8802\n",
      "Epoch 42/100\n",
      "60000/60000 [==============================] - 1s 20us/sample - loss: 0.2387 - accuracy: 0.9139 - val_loss: 0.3432 - val_accuracy: 0.8770\n",
      "Epoch 43/100\n",
      "60000/60000 [==============================] - 1s 20us/sample - loss: 0.2381 - accuracy: 0.9136 - val_loss: 0.3474 - val_accuracy: 0.8784\n",
      "Epoch 44/100\n",
      "60000/60000 [==============================] - 1s 19us/sample - loss: 0.2364 - accuracy: 0.9147 - val_loss: 0.3334 - val_accuracy: 0.8820\n",
      "Epoch 45/100\n",
      "60000/60000 [==============================] - 1s 20us/sample - loss: 0.2348 - accuracy: 0.9147 - val_loss: 0.3321 - val_accuracy: 0.8808\n",
      "Epoch 46/100\n",
      "60000/60000 [==============================] - 1s 20us/sample - loss: 0.2333 - accuracy: 0.9147 - val_loss: 0.3491 - val_accuracy: 0.8750\n",
      "Epoch 47/100\n",
      "60000/60000 [==============================] - 1s 20us/sample - loss: 0.2322 - accuracy: 0.9160 - val_loss: 0.3336 - val_accuracy: 0.8809\n",
      "Epoch 48/100\n",
      "60000/60000 [==============================] - 1s 21us/sample - loss: 0.2304 - accuracy: 0.9165 - val_loss: 0.3372 - val_accuracy: 0.8777\n",
      "Epoch 49/100\n",
      "60000/60000 [==============================] - 1s 20us/sample - loss: 0.2294 - accuracy: 0.9154 - val_loss: 0.3421 - val_accuracy: 0.8803\n",
      "Epoch 50/100\n",
      "60000/60000 [==============================] - 1s 20us/sample - loss: 0.2268 - accuracy: 0.9171 - val_loss: 0.3518 - val_accuracy: 0.8769\n",
      "Epoch 51/100\n",
      "60000/60000 [==============================] - 1s 20us/sample - loss: 0.2261 - accuracy: 0.9187 - val_loss: 0.3319 - val_accuracy: 0.8843\n",
      "Epoch 52/100\n",
      "60000/60000 [==============================] - 1s 20us/sample - loss: 0.2245 - accuracy: 0.9178 - val_loss: 0.3307 - val_accuracy: 0.8829\n",
      "Epoch 53/100\n",
      "60000/60000 [==============================] - 1s 20us/sample - loss: 0.2231 - accuracy: 0.9190 - val_loss: 0.3252 - val_accuracy: 0.8843\n",
      "Epoch 54/100\n",
      "60000/60000 [==============================] - 1s 21us/sample - loss: 0.2215 - accuracy: 0.9196 - val_loss: 0.3330 - val_accuracy: 0.8820\n"
     ]
    },
    {
     "name": "stdout",
     "output_type": "stream",
     "text": [
      "Epoch 55/100\n",
      "60000/60000 [==============================] - 1s 20us/sample - loss: 0.2208 - accuracy: 0.9194 - val_loss: 0.3459 - val_accuracy: 0.8778\n",
      "Epoch 56/100\n",
      "60000/60000 [==============================] - 1s 20us/sample - loss: 0.2197 - accuracy: 0.9201 - val_loss: 0.3324 - val_accuracy: 0.8842\n",
      "Epoch 57/100\n",
      "60000/60000 [==============================] - 1s 20us/sample - loss: 0.2185 - accuracy: 0.9209 - val_loss: 0.3576 - val_accuracy: 0.8705\n",
      "Epoch 58/100\n",
      "60000/60000 [==============================] - 1s 20us/sample - loss: 0.2166 - accuracy: 0.9215 - val_loss: 0.3315 - val_accuracy: 0.8837\n",
      "Epoch 59/100\n",
      "60000/60000 [==============================] - 1s 21us/sample - loss: 0.2151 - accuracy: 0.9218 - val_loss: 0.3253 - val_accuracy: 0.8859\n",
      "Epoch 60/100\n",
      "60000/60000 [==============================] - 1s 20us/sample - loss: 0.2132 - accuracy: 0.9223 - val_loss: 0.3293 - val_accuracy: 0.8848\n",
      "Epoch 61/100\n",
      "60000/60000 [==============================] - 1s 21us/sample - loss: 0.2131 - accuracy: 0.9226 - val_loss: 0.3347 - val_accuracy: 0.8814\n",
      "Epoch 62/100\n",
      "60000/60000 [==============================] - 1s 21us/sample - loss: 0.2114 - accuracy: 0.9236 - val_loss: 0.3413 - val_accuracy: 0.8792\n",
      "Epoch 63/100\n",
      "60000/60000 [==============================] - 1s 20us/sample - loss: 0.2106 - accuracy: 0.9232 - val_loss: 0.3320 - val_accuracy: 0.8836\n",
      "Epoch 64/100\n",
      "60000/60000 [==============================] - 1s 20us/sample - loss: 0.2095 - accuracy: 0.9242 - val_loss: 0.3285 - val_accuracy: 0.8846\n",
      "Epoch 65/100\n",
      "60000/60000 [==============================] - 1s 21us/sample - loss: 0.2085 - accuracy: 0.9243 - val_loss: 0.3342 - val_accuracy: 0.8860\n",
      "Epoch 66/100\n",
      "60000/60000 [==============================] - 1s 21us/sample - loss: 0.2069 - accuracy: 0.9255 - val_loss: 0.3359 - val_accuracy: 0.8805\n",
      "Epoch 67/100\n",
      "60000/60000 [==============================] - 1s 21us/sample - loss: 0.2064 - accuracy: 0.9256 - val_loss: 0.3301 - val_accuracy: 0.8836\n",
      "Epoch 68/100\n",
      "60000/60000 [==============================] - 1s 21us/sample - loss: 0.2046 - accuracy: 0.9261 - val_loss: 0.3298 - val_accuracy: 0.8833\n",
      "Epoch 69/100\n",
      "60000/60000 [==============================] - 1s 22us/sample - loss: 0.2045 - accuracy: 0.9265 - val_loss: 0.3531 - val_accuracy: 0.8741\n",
      "Epoch 70/100\n",
      "60000/60000 [==============================] - 1s 21us/sample - loss: 0.2024 - accuracy: 0.9266 - val_loss: 0.3267 - val_accuracy: 0.8864\n",
      "Epoch 71/100\n",
      "60000/60000 [==============================] - 1s 20us/sample - loss: 0.2005 - accuracy: 0.9272 - val_loss: 0.3325 - val_accuracy: 0.8823\n",
      "Epoch 72/100\n",
      "60000/60000 [==============================] - 1s 20us/sample - loss: 0.2004 - accuracy: 0.9280 - val_loss: 0.3387 - val_accuracy: 0.8804\n",
      "Epoch 73/100\n",
      "60000/60000 [==============================] - 1s 21us/sample - loss: 0.1997 - accuracy: 0.9277 - val_loss: 0.3304 - val_accuracy: 0.8834\n",
      "Epoch 74/100\n",
      "60000/60000 [==============================] - 1s 21us/sample - loss: 0.1990 - accuracy: 0.9289 - val_loss: 0.3367 - val_accuracy: 0.8800\n",
      "Epoch 75/100\n",
      "60000/60000 [==============================] - 1s 20us/sample - loss: 0.1976 - accuracy: 0.9293 - val_loss: 0.3349 - val_accuracy: 0.8842\n",
      "Epoch 76/100\n",
      "60000/60000 [==============================] - 1s 20us/sample - loss: 0.1963 - accuracy: 0.9286 - val_loss: 0.3265 - val_accuracy: 0.8855\n",
      "Epoch 77/100\n",
      "60000/60000 [==============================] - 1s 20us/sample - loss: 0.1962 - accuracy: 0.9298 - val_loss: 0.3292 - val_accuracy: 0.8825\n",
      "Epoch 78/100\n",
      "60000/60000 [==============================] - 1s 19us/sample - loss: 0.1946 - accuracy: 0.9302 - val_loss: 0.3263 - val_accuracy: 0.8869\n",
      "Epoch 79/100\n",
      "60000/60000 [==============================] - 1s 20us/sample - loss: 0.1941 - accuracy: 0.9299 - val_loss: 0.3394 - val_accuracy: 0.8803\n",
      "Epoch 80/100\n",
      "60000/60000 [==============================] - 1s 20us/sample - loss: 0.1928 - accuracy: 0.9314 - val_loss: 0.3308 - val_accuracy: 0.8859\n",
      "Epoch 81/100\n",
      "60000/60000 [==============================] - 1s 20us/sample - loss: 0.1909 - accuracy: 0.9318 - val_loss: 0.3278 - val_accuracy: 0.8842\n",
      "Epoch 82/100\n",
      "60000/60000 [==============================] - 1s 21us/sample - loss: 0.1910 - accuracy: 0.9310 - val_loss: 0.3241 - val_accuracy: 0.8845\n",
      "Epoch 83/100\n",
      "60000/60000 [==============================] - 1s 20us/sample - loss: 0.1897 - accuracy: 0.9323 - val_loss: 0.3250 - val_accuracy: 0.8874\n",
      "Epoch 84/100\n",
      "60000/60000 [==============================] - 1s 20us/sample - loss: 0.1891 - accuracy: 0.9320 - val_loss: 0.3282 - val_accuracy: 0.8868\n",
      "Epoch 85/100\n",
      "60000/60000 [==============================] - 1s 20us/sample - loss: 0.1886 - accuracy: 0.9325 - val_loss: 0.3256 - val_accuracy: 0.8875\n",
      "Epoch 86/100\n",
      "60000/60000 [==============================] - 1s 19us/sample - loss: 0.1877 - accuracy: 0.9326 - val_loss: 0.3378 - val_accuracy: 0.8810\n",
      "Epoch 87/100\n",
      "60000/60000 [==============================] - 1s 20us/sample - loss: 0.1870 - accuracy: 0.9332 - val_loss: 0.3338 - val_accuracy: 0.8849\n",
      "Epoch 88/100\n",
      "60000/60000 [==============================] - 1s 20us/sample - loss: 0.1863 - accuracy: 0.9331 - val_loss: 0.3285 - val_accuracy: 0.8855\n",
      "Epoch 89/100\n",
      "60000/60000 [==============================] - 1s 21us/sample - loss: 0.1853 - accuracy: 0.9331 - val_loss: 0.3365 - val_accuracy: 0.8822\n",
      "Epoch 90/100\n",
      "60000/60000 [==============================] - 1s 23us/sample - loss: 0.1839 - accuracy: 0.9344 - val_loss: 0.3273 - val_accuracy: 0.8872\n",
      "Epoch 91/100\n",
      "60000/60000 [==============================] - 1s 23us/sample - loss: 0.1826 - accuracy: 0.9348 - val_loss: 0.3322 - val_accuracy: 0.8858\n",
      "Epoch 92/100\n",
      "60000/60000 [==============================] - 1s 20us/sample - loss: 0.1823 - accuracy: 0.9354 - val_loss: 0.3274 - val_accuracy: 0.8871\n",
      "Epoch 93/100\n",
      "60000/60000 [==============================] - 1s 23us/sample - loss: 0.1817 - accuracy: 0.9353 - val_loss: 0.3391 - val_accuracy: 0.8819\n",
      "Epoch 94/100\n",
      "60000/60000 [==============================] - 1s 19us/sample - loss: 0.1812 - accuracy: 0.9353 - val_loss: 0.3407 - val_accuracy: 0.8847\n",
      "Epoch 95/100\n",
      "60000/60000 [==============================] - 1s 20us/sample - loss: 0.1806 - accuracy: 0.9352 - val_loss: 0.3337 - val_accuracy: 0.8837\n",
      "Epoch 96/100\n",
      "60000/60000 [==============================] - 1s 19us/sample - loss: 0.1794 - accuracy: 0.9354 - val_loss: 0.3458 - val_accuracy: 0.8820\n",
      "Epoch 97/100\n",
      "60000/60000 [==============================] - 1s 18us/sample - loss: 0.1786 - accuracy: 0.9358 - val_loss: 0.3395 - val_accuracy: 0.8827\n",
      "Epoch 98/100\n",
      "60000/60000 [==============================] - 1s 19us/sample - loss: 0.1788 - accuracy: 0.9358 - val_loss: 0.3371 - val_accuracy: 0.8825\n",
      "Epoch 99/100\n",
      "60000/60000 [==============================] - 1s 20us/sample - loss: 0.1777 - accuracy: 0.9368 - val_loss: 0.3455 - val_accuracy: 0.8819\n",
      "Epoch 100/100\n",
      "60000/60000 [==============================] - 1s 21us/sample - loss: 0.1760 - accuracy: 0.9377 - val_loss: 0.3298 - val_accuracy: 0.8881\n"
     ]
    }
   ],
   "source": [
    "sgd = optimizers.SGD(lr=lr)\n",
    "model.compile(optimizer= sgd,\n",
    "              loss='sparse_categorical_crossentropy',\n",
    "              metrics=['accuracy'])\n",
    "\n",
    "history = model.fit(x_train, \n",
    "                    y_train, \n",
    "                    epochs=epoch, \n",
    "                    batch_size=batch_size,\n",
    "                    validation_data=(x_test, y_test), \n",
    "                    callbacks=[lrate])"
   ]
  },
  {
   "cell_type": "code",
   "execution_count": 10,
   "metadata": {},
   "outputs": [
    {
     "name": "stdout",
     "output_type": "stream",
     "text": [
      "10000/1 - 1s - loss: 0.2777 - accuracy: 0.8881\n"
     ]
    }
   ],
   "source": [
    "test_loss, test_acc = model.evaluate(x_test, y_test, verbose=2)"
   ]
  },
  {
   "cell_type": "code",
   "execution_count": 14,
   "metadata": {},
   "outputs": [
    {
     "data": {
      "text/plain": [
       "<matplotlib.legend.Legend at 0x1aa913ed7b8>"
      ]
     },
     "execution_count": 14,
     "metadata": {},
     "output_type": "execute_result"
    },
    {
     "data": {
      "image/png": "[encoded data removed]",
      "text/plain": [
       "<Figure size 432x288 with 1 Axes>"
      ]
     },
     "metadata": {
      "needs_background": "light"
     },
     "output_type": "display_data"
    }
   ],
   "source": [
    "plt.plot(history.history['accuracy'], label='accuracy')\n",
    "plt.plot(history.history['val_accuracy'], label = 'val_accuracy')\n",
    "plt.xlabel('Epoch')\n",
    "plt.ylabel('Accuracy')\n",
    "plt.ylim([0.8, 0.95])\n",
    "plt.legend(loc='lower right')\n",
    "# plt.savefig(\"ann_acc.png\", dpi=500)"
   ]
  },
  {
   "cell_type": "code",
   "execution_count": 15,
   "metadata": {},
   "outputs": [
    {
     "data": {
      "text/plain": [
       "<matplotlib.legend.Legend at 0x1aa9145b3c8>"
      ]
     },
     "execution_count": 15,
     "metadata": {},
     "output_type": "execute_result"
    },
    {
     "data": {
      "image/png": "[encoded data removed]",
      "text/plain": [
       "<Figure size 432x288 with 1 Axes>"
      ]
     },
     "metadata": {
      "needs_background": "light"
     },
     "output_type": "display_data"
    }
   ],
   "source": [
    "plt.plot(history.history['loss'], label='loss')\n",
    "plt.plot(history.history['val_loss'], label = 'val_loss')\n",
    "plt.xlabel('Epoch')\n",
    "plt.ylabel('loss')\n",
    "plt.ylim([0.15, 0.5])\n",
    "plt.legend(loc='upper right')\n",
    "# plt.savefig(\"ann_loss.png\", dpi=500)"
   ]
  }
 ],
 "metadata": {
  "kernelspec": {
   "display_name": "Python 3",
   "language": "python",
   "name": "python3"
  },
  "language_info": {
   "codemirror_mode": {
    "name": "ipython",
    "version": 3
   },
   "file_extension": ".py",
   "mimetype": "text/x-python",
   "name": "python",
   "nbconvert_exporter": "python",
   "pygments_lexer": "ipython3",
   "version": "3.6.9"
  }
 },
 "nbformat": 4,
 "nbformat_minor": 2
}
