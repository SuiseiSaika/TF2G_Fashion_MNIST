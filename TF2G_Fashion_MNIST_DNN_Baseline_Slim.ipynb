{
 "cells": [
  {
   "cell_type": "code",
   "execution_count": 1,
   "metadata": {},
   "outputs": [],
   "source": [
    "%matplotlib inline\n",
    "import tensorflow as tf\n",
    "import math\n",
    "import numpy as np\n",
    "import matplotlib.pyplot as plt\n",
    "from tensorflow.keras import *\n",
    "from tensorflow.keras.utils import *\n",
    "from tensorflow.keras.datasets import fashion_mnist"
   ]
  },
  {
   "cell_type": "code",
   "execution_count": 2,
   "metadata": {},
   "outputs": [],
   "source": [
    "(x_train, y_train), (x_test, y_test) = fashion_mnist.load_data()\n",
    "x_train, x_test = x_train.reshape(60000,784)/255.0, x_test.reshape(10000,784)/255.0"
   ]
  },
  {
   "cell_type": "code",
   "execution_count": 3,
   "metadata": {},
   "outputs": [],
   "source": [
    "epoch = 100\n",
    "lr = 1e-2\n",
    "batch_size = 256\n",
    "initializer = initializers.he_normal(seed=114)"
   ]
  },
  {
   "cell_type": "code",
   "execution_count": 4,
   "metadata": {},
   "outputs": [],
   "source": [
    "def step_decay(epoch):\n",
    "    initial_lrate = 0.01\n",
    "    drop = 0.9\n",
    "    epochs_drop = 10\n",
    "    lrate = initial_lrate * math.pow(drop, math.floor((1+epoch)/epochs_drop))\n",
    "    return lrate"
   ]
  },
  {
   "cell_type": "code",
   "execution_count": 5,
   "metadata": {},
   "outputs": [],
   "source": [
    "lrate = callbacks.LearningRateScheduler(step_decay)"
   ]
  },
  {
   "cell_type": "code",
   "execution_count": 6,
   "metadata": {},
   "outputs": [],
   "source": [
    "def basic_layer(node):\n",
    "    layer = models.Sequential()\n",
    "    layer.add(layers.Dense(node, kernel_initializer=initializer))\n",
    "    layer.add(layers.Activation('elu'))\n",
    "    return layer"
   ]
  },
  {
   "cell_type": "code",
   "execution_count": 7,
   "metadata": {},
   "outputs": [],
   "source": [
    "model = models.Sequential()\n",
    "model.add(layers.Dense(128, input_dim=784))\n",
    "model.add(layers.Activation('elu'))\n",
    "model.add(basic_layer(128))\n",
    "model.add(basic_layer(256))\n",
    "model.add(basic_layer(256))\n",
    "model.add(basic_layer(512))\n",
    "model.add(basic_layer(512))\n",
    "model.add(basic_layer(256))\n",
    "model.add(basic_layer(128))\n",
    "model.add(basic_layer(64))\n",
    "model.add(layers.Dense(10, activation='softmax'))"
   ]
  },
  {
   "cell_type": "code",
   "execution_count": 8,
   "metadata": {},
   "outputs": [
    {
     "name": "stdout",
     "output_type": "stream",
     "text": [
      "Model: \"sequential\"\n",
      "_________________________________________________________________\n",
      "Layer (type)                 Output Shape              Param #   \n",
      "=================================================================\n",
      "dense (Dense)                (None, 128)               100480    \n",
      "_________________________________________________________________\n",
      "activation (Activation)      (None, 128)               0         \n",
      "_________________________________________________________________\n",
      "sequential_1 (Sequential)    (None, 128)               16512     \n",
      "_________________________________________________________________\n",
      "sequential_2 (Sequential)    (None, 256)               33024     \n",
      "_________________________________________________________________\n",
      "sequential_3 (Sequential)    (None, 256)               65792     \n",
      "_________________________________________________________________\n",
      "sequential_4 (Sequential)    (None, 512)               131584    \n",
      "_________________________________________________________________\n",
      "sequential_5 (Sequential)    (None, 512)               262656    \n",
      "_________________________________________________________________\n",
      "sequential_6 (Sequential)    (None, 256)               131328    \n",
      "_________________________________________________________________\n",
      "sequential_7 (Sequential)    (None, 128)               32896     \n",
      "_________________________________________________________________\n",
      "sequential_8 (Sequential)    (None, 64)                8256      \n",
      "_________________________________________________________________\n",
      "dense_9 (Dense)              (None, 10)                650       \n",
      "=================================================================\n",
      "Total params: 783,178\n",
      "Trainable params: 783,178\n",
      "Non-trainable params: 0\n",
      "_________________________________________________________________\n"
     ]
    }
   ],
   "source": [
    "model.summary()"
   ]
  },
  {
   "cell_type": "code",
   "execution_count": 9,
   "metadata": {
    "scrolled": true
   },
   "outputs": [
    {
     "name": "stdout",
     "output_type": "stream",
     "text": [
      "Train on 60000 samples, validate on 10000 samples\n",
      "Epoch 1/100\n",
      "60000/60000 [==============================] - 2s 35us/sample - loss: 0.6831 - accuracy: 0.7566 - val_loss: 0.5216 - val_accuracy: 0.8123\n",
      "Epoch 2/100\n",
      "60000/60000 [==============================] - 1s 19us/sample - loss: 0.4743 - accuracy: 0.8271 - val_loss: 0.4971 - val_accuracy: 0.8230\n",
      "Epoch 3/100\n",
      "60000/60000 [==============================] - 1s 19us/sample - loss: 0.4249 - accuracy: 0.8451 - val_loss: 0.4650 - val_accuracy: 0.8281\n",
      "Epoch 4/100\n",
      "60000/60000 [==============================] - 1s 19us/sample - loss: 0.3984 - accuracy: 0.8545 - val_loss: 0.4520 - val_accuracy: 0.8334\n",
      "Epoch 5/100\n",
      "60000/60000 [==============================] - 1s 19us/sample - loss: 0.3773 - accuracy: 0.8620 - val_loss: 0.4734 - val_accuracy: 0.8300\n",
      "Epoch 6/100\n",
      "60000/60000 [==============================] - 1s 18us/sample - loss: 0.3625 - accuracy: 0.8676 - val_loss: 0.4673 - val_accuracy: 0.8265\n",
      "Epoch 7/100\n",
      "60000/60000 [==============================] - 1s 19us/sample - loss: 0.3461 - accuracy: 0.8722 - val_loss: 0.3900 - val_accuracy: 0.8609\n",
      "Epoch 8/100\n",
      "60000/60000 [==============================] - 1s 18us/sample - loss: 0.3357 - accuracy: 0.8762 - val_loss: 0.3852 - val_accuracy: 0.8587\n",
      "Epoch 9/100\n",
      "60000/60000 [==============================] - 1s 18us/sample - loss: 0.3274 - accuracy: 0.8791 - val_loss: 0.3939 - val_accuracy: 0.8564\n",
      "Epoch 10/100\n",
      "60000/60000 [==============================] - 1s 19us/sample - loss: 0.3130 - accuracy: 0.8849 - val_loss: 0.3847 - val_accuracy: 0.8598\n",
      "Epoch 11/100\n",
      "60000/60000 [==============================] - 1s 19us/sample - loss: 0.3079 - accuracy: 0.8868 - val_loss: 0.3923 - val_accuracy: 0.8623\n",
      "Epoch 12/100\n",
      "60000/60000 [==============================] - 1s 18us/sample - loss: 0.3003 - accuracy: 0.8894 - val_loss: 0.3693 - val_accuracy: 0.8699\n",
      "Epoch 13/100\n",
      "60000/60000 [==============================] - 1s 19us/sample - loss: 0.2947 - accuracy: 0.8921 - val_loss: 0.3664 - val_accuracy: 0.8684\n",
      "Epoch 14/100\n",
      "60000/60000 [==============================] - 1s 19us/sample - loss: 0.2876 - accuracy: 0.8936 - val_loss: 0.3773 - val_accuracy: 0.8620\n",
      "Epoch 15/100\n",
      "60000/60000 [==============================] - 1s 19us/sample - loss: 0.2828 - accuracy: 0.8969 - val_loss: 0.3633 - val_accuracy: 0.8687\n",
      "Epoch 16/100\n",
      "60000/60000 [==============================] - 1s 18us/sample - loss: 0.2779 - accuracy: 0.8979 - val_loss: 0.3756 - val_accuracy: 0.8636\n",
      "Epoch 17/100\n",
      "60000/60000 [==============================] - 1s 19us/sample - loss: 0.2733 - accuracy: 0.8993 - val_loss: 0.3936 - val_accuracy: 0.8568\n",
      "Epoch 18/100\n",
      "60000/60000 [==============================] - 1s 19us/sample - loss: 0.2683 - accuracy: 0.9023 - val_loss: 0.3491 - val_accuracy: 0.8770\n",
      "Epoch 19/100\n",
      "60000/60000 [==============================] - 1s 19us/sample - loss: 0.2637 - accuracy: 0.9037 - val_loss: 0.3717 - val_accuracy: 0.8611\n",
      "Epoch 20/100\n",
      "60000/60000 [==============================] - 1s 20us/sample - loss: 0.2581 - accuracy: 0.9052 - val_loss: 0.3576 - val_accuracy: 0.8692\n",
      "Epoch 21/100\n",
      "60000/60000 [==============================] - 1s 19us/sample - loss: 0.2538 - accuracy: 0.9071 - val_loss: 0.3387 - val_accuracy: 0.8777\n",
      "Epoch 22/100\n",
      "60000/60000 [==============================] - 1s 18us/sample - loss: 0.2506 - accuracy: 0.9080 - val_loss: 0.3634 - val_accuracy: 0.8724\n",
      "Epoch 23/100\n",
      "60000/60000 [==============================] - 1s 18us/sample - loss: 0.2465 - accuracy: 0.9100 - val_loss: 0.3747 - val_accuracy: 0.8630\n",
      "Epoch 24/100\n",
      "60000/60000 [==============================] - 1s 19us/sample - loss: 0.2452 - accuracy: 0.9090 - val_loss: 0.3650 - val_accuracy: 0.8684\n",
      "Epoch 25/100\n",
      "60000/60000 [==============================] - 1s 20us/sample - loss: 0.2411 - accuracy: 0.9107 - val_loss: 0.3399 - val_accuracy: 0.8772\n",
      "Epoch 26/100\n",
      "60000/60000 [==============================] - 1s 19us/sample - loss: 0.2364 - accuracy: 0.9138 - val_loss: 0.3717 - val_accuracy: 0.8667\n",
      "Epoch 27/100\n",
      "60000/60000 [==============================] - 1s 21us/sample - loss: 0.2341 - accuracy: 0.9141 - val_loss: 0.3735 - val_accuracy: 0.8582\n",
      "Epoch 28/100\n",
      "60000/60000 [==============================] - 1s 20us/sample - loss: 0.2307 - accuracy: 0.9152 - val_loss: 0.4629 - val_accuracy: 0.8448\n",
      "Epoch 29/100\n",
      "60000/60000 [==============================] - 1s 19us/sample - loss: 0.2283 - accuracy: 0.9172 - val_loss: 0.3468 - val_accuracy: 0.8744\n",
      "Epoch 30/100\n",
      "60000/60000 [==============================] - 1s 19us/sample - loss: 0.2224 - accuracy: 0.9182 - val_loss: 0.3353 - val_accuracy: 0.8812\n",
      "Epoch 31/100\n",
      "60000/60000 [==============================] - 1s 19us/sample - loss: 0.2197 - accuracy: 0.9196 - val_loss: 0.3492 - val_accuracy: 0.8756\n",
      "Epoch 32/100\n",
      "60000/60000 [==============================] - 1s 20us/sample - loss: 0.2169 - accuracy: 0.9197 - val_loss: 0.3384 - val_accuracy: 0.8805\n",
      "Epoch 33/100\n",
      "60000/60000 [==============================] - 1s 21us/sample - loss: 0.2142 - accuracy: 0.9211 - val_loss: 0.3609 - val_accuracy: 0.8676\n",
      "Epoch 34/100\n",
      "60000/60000 [==============================] - 1s 22us/sample - loss: 0.2130 - accuracy: 0.9218 - val_loss: 0.3337 - val_accuracy: 0.8791\n",
      "Epoch 35/100\n",
      "60000/60000 [==============================] - 1s 19us/sample - loss: 0.2089 - accuracy: 0.9234 - val_loss: 0.3466 - val_accuracy: 0.8766\n",
      "Epoch 36/100\n",
      "60000/60000 [==============================] - 1s 19us/sample - loss: 0.2069 - accuracy: 0.9240 - val_loss: 0.3406 - val_accuracy: 0.8768\n",
      "Epoch 37/100\n",
      "60000/60000 [==============================] - 1s 22us/sample - loss: 0.2044 - accuracy: 0.9246 - val_loss: 0.3518 - val_accuracy: 0.8717\n",
      "Epoch 38/100\n",
      "60000/60000 [==============================] - 1s 23us/sample - loss: 0.2028 - accuracy: 0.9261 - val_loss: 0.3884 - val_accuracy: 0.8636\n",
      "Epoch 39/100\n",
      "60000/60000 [==============================] - 1s 21us/sample - loss: 0.2002 - accuracy: 0.9268 - val_loss: 0.3329 - val_accuracy: 0.8804\n",
      "Epoch 40/100\n",
      "60000/60000 [==============================] - 1s 21us/sample - loss: 0.1955 - accuracy: 0.9284 - val_loss: 0.3383 - val_accuracy: 0.8806\n",
      "Epoch 41/100\n",
      "60000/60000 [==============================] - 1s 21us/sample - loss: 0.1925 - accuracy: 0.9304 - val_loss: 0.3447 - val_accuracy: 0.8784\n",
      "Epoch 42/100\n",
      "60000/60000 [==============================] - 1s 21us/sample - loss: 0.1901 - accuracy: 0.9311 - val_loss: 0.3550 - val_accuracy: 0.8740\n",
      "Epoch 43/100\n",
      "60000/60000 [==============================] - 1s 22us/sample - loss: 0.1893 - accuracy: 0.9312 - val_loss: 0.3677 - val_accuracy: 0.8712\n",
      "Epoch 44/100\n",
      "60000/60000 [==============================] - 1s 21us/sample - loss: 0.1871 - accuracy: 0.9316 - val_loss: 0.3387 - val_accuracy: 0.8775\n",
      "Epoch 45/100\n",
      "60000/60000 [==============================] - 1s 24us/sample - loss: 0.1846 - accuracy: 0.9327 - val_loss: 0.3504 - val_accuracy: 0.8791\n",
      "Epoch 46/100\n",
      "60000/60000 [==============================] - 1s 22us/sample - loss: 0.1830 - accuracy: 0.9337 - val_loss: 0.3374 - val_accuracy: 0.8813\n",
      "Epoch 47/100\n",
      "60000/60000 [==============================] - 1s 20us/sample - loss: 0.1800 - accuracy: 0.9352 - val_loss: 0.3546 - val_accuracy: 0.8761\n",
      "Epoch 48/100\n",
      "60000/60000 [==============================] - 1s 20us/sample - loss: 0.1785 - accuracy: 0.9349 - val_loss: 0.3535 - val_accuracy: 0.8718\n",
      "Epoch 49/100\n",
      "60000/60000 [==============================] - 1s 20us/sample - loss: 0.1757 - accuracy: 0.9363 - val_loss: 0.3432 - val_accuracy: 0.8797\n",
      "Epoch 50/100\n",
      "60000/60000 [==============================] - 1s 20us/sample - loss: 0.1719 - accuracy: 0.9378 - val_loss: 0.3667 - val_accuracy: 0.8709\n",
      "Epoch 51/100\n",
      "60000/60000 [==============================] - 1s 19us/sample - loss: 0.1708 - accuracy: 0.9383 - val_loss: 0.3448 - val_accuracy: 0.8781\n",
      "Epoch 52/100\n",
      "60000/60000 [==============================] - 1s 19us/sample - loss: 0.1681 - accuracy: 0.9396 - val_loss: 0.3427 - val_accuracy: 0.8828\n",
      "Epoch 53/100\n",
      "60000/60000 [==============================] - 1s 20us/sample - loss: 0.1665 - accuracy: 0.9404 - val_loss: 0.3508 - val_accuracy: 0.8796\n",
      "Epoch 54/100\n",
      "60000/60000 [==============================] - 1s 19us/sample - loss: 0.1648 - accuracy: 0.9411 - val_loss: 0.3397 - val_accuracy: 0.8818\n"
     ]
    },
    {
     "name": "stdout",
     "output_type": "stream",
     "text": [
      "Epoch 55/100\n",
      "60000/60000 [==============================] - 1s 21us/sample - loss: 0.1630 - accuracy: 0.9405 - val_loss: 0.3504 - val_accuracy: 0.8804\n",
      "Epoch 56/100\n",
      "60000/60000 [==============================] - 1s 22us/sample - loss: 0.1607 - accuracy: 0.9424 - val_loss: 0.3650 - val_accuracy: 0.8743\n",
      "Epoch 57/100\n",
      "60000/60000 [==============================] - 1s 20us/sample - loss: 0.1589 - accuracy: 0.9426 - val_loss: 0.3907 - val_accuracy: 0.8703\n",
      "Epoch 58/100\n",
      "60000/60000 [==============================] - 1s 20us/sample - loss: 0.1575 - accuracy: 0.9444 - val_loss: 0.3583 - val_accuracy: 0.8785\n",
      "Epoch 59/100\n",
      "60000/60000 [==============================] - 1s 20us/sample - loss: 0.1557 - accuracy: 0.9441 - val_loss: 0.3700 - val_accuracy: 0.8751\n",
      "Epoch 60/100\n",
      "60000/60000 [==============================] - 1s 20us/sample - loss: 0.1516 - accuracy: 0.9463 - val_loss: 0.3551 - val_accuracy: 0.8812\n",
      "Epoch 61/100\n",
      "60000/60000 [==============================] - 1s 20us/sample - loss: 0.1508 - accuracy: 0.9463 - val_loss: 0.3541 - val_accuracy: 0.8780\n",
      "Epoch 62/100\n",
      "60000/60000 [==============================] - 1s 19us/sample - loss: 0.1489 - accuracy: 0.9470 - val_loss: 0.3408 - val_accuracy: 0.8857\n",
      "Epoch 63/100\n",
      "60000/60000 [==============================] - 1s 19us/sample - loss: 0.1471 - accuracy: 0.9477 - val_loss: 0.3552 - val_accuracy: 0.8804\n",
      "Epoch 64/100\n",
      "60000/60000 [==============================] - 1s 19us/sample - loss: 0.1465 - accuracy: 0.9483 - val_loss: 0.3570 - val_accuracy: 0.8831\n",
      "Epoch 65/100\n",
      "60000/60000 [==============================] - 1s 19us/sample - loss: 0.1446 - accuracy: 0.9487 - val_loss: 0.3530 - val_accuracy: 0.8812\n",
      "Epoch 66/100\n",
      "60000/60000 [==============================] - 1s 19us/sample - loss: 0.1431 - accuracy: 0.9492 - val_loss: 0.3484 - val_accuracy: 0.8829\n",
      "Epoch 67/100\n",
      "60000/60000 [==============================] - 1s 20us/sample - loss: 0.1419 - accuracy: 0.9498 - val_loss: 0.3553 - val_accuracy: 0.8822\n",
      "Epoch 68/100\n",
      "60000/60000 [==============================] - 1s 21us/sample - loss: 0.1399 - accuracy: 0.9505 - val_loss: 0.3529 - val_accuracy: 0.8836\n",
      "Epoch 69/100\n",
      "60000/60000 [==============================] - 1s 20us/sample - loss: 0.1394 - accuracy: 0.9505 - val_loss: 0.3550 - val_accuracy: 0.8826\n",
      "Epoch 70/100\n",
      "60000/60000 [==============================] - 1s 19us/sample - loss: 0.1351 - accuracy: 0.9524 - val_loss: 0.3554 - val_accuracy: 0.8832\n",
      "Epoch 71/100\n",
      "60000/60000 [==============================] - 1s 19us/sample - loss: 0.1342 - accuracy: 0.9532 - val_loss: 0.3572 - val_accuracy: 0.8807\n",
      "Epoch 72/100\n",
      "60000/60000 [==============================] - 1s 21us/sample - loss: 0.1331 - accuracy: 0.9533 - val_loss: 0.3524 - val_accuracy: 0.8844\n",
      "Epoch 73/100\n",
      "60000/60000 [==============================] - 1s 22us/sample - loss: 0.1308 - accuracy: 0.9540 - val_loss: 0.3530 - val_accuracy: 0.8834\n",
      "Epoch 74/100\n",
      "60000/60000 [==============================] - 1s 20us/sample - loss: 0.1291 - accuracy: 0.9550 - val_loss: 0.3755 - val_accuracy: 0.8772\n",
      "Epoch 75/100\n",
      "60000/60000 [==============================] - 1s 21us/sample - loss: 0.1273 - accuracy: 0.9558 - val_loss: 0.3570 - val_accuracy: 0.8843\n",
      "Epoch 76/100\n",
      "60000/60000 [==============================] - 1s 19us/sample - loss: 0.1273 - accuracy: 0.9548 - val_loss: 0.3965 - val_accuracy: 0.8711\n",
      "Epoch 77/100\n",
      "60000/60000 [==============================] - 1s 20us/sample - loss: 0.1267 - accuracy: 0.9554 - val_loss: 0.3554 - val_accuracy: 0.8864\n",
      "Epoch 78/100\n",
      "60000/60000 [==============================] - 1s 20us/sample - loss: 0.1255 - accuracy: 0.9562 - val_loss: 0.3756 - val_accuracy: 0.8773\n",
      "Epoch 79/100\n",
      "60000/60000 [==============================] - 1s 20us/sample - loss: 0.1228 - accuracy: 0.9571 - val_loss: 0.3580 - val_accuracy: 0.8844\n",
      "Epoch 80/100\n",
      "60000/60000 [==============================] - 1s 19us/sample - loss: 0.1209 - accuracy: 0.9579 - val_loss: 0.3603 - val_accuracy: 0.8850\n",
      "Epoch 81/100\n",
      "60000/60000 [==============================] - 1s 19us/sample - loss: 0.1196 - accuracy: 0.9592 - val_loss: 0.3715 - val_accuracy: 0.8809\n",
      "Epoch 82/100\n",
      "60000/60000 [==============================] - 1s 19us/sample - loss: 0.1177 - accuracy: 0.9597 - val_loss: 0.3945 - val_accuracy: 0.8732\n",
      "Epoch 83/100\n",
      "60000/60000 [==============================] - 1s 19us/sample - loss: 0.1173 - accuracy: 0.9593 - val_loss: 0.3588 - val_accuracy: 0.8845\n",
      "Epoch 84/100\n",
      "60000/60000 [==============================] - 1s 19us/sample - loss: 0.1150 - accuracy: 0.9608 - val_loss: 0.3963 - val_accuracy: 0.8783\n",
      "Epoch 85/100\n",
      "60000/60000 [==============================] - 1s 20us/sample - loss: 0.1147 - accuracy: 0.9606 - val_loss: 0.3858 - val_accuracy: 0.8773\n",
      "Epoch 86/100\n",
      "60000/60000 [==============================] - 1s 19us/sample - loss: 0.1143 - accuracy: 0.9610 - val_loss: 0.3747 - val_accuracy: 0.8784\n",
      "Epoch 87/100\n",
      "60000/60000 [==============================] - 1s 20us/sample - loss: 0.1119 - accuracy: 0.9614 - val_loss: 0.3737 - val_accuracy: 0.8819\n",
      "Epoch 88/100\n",
      "60000/60000 [==============================] - 1s 19us/sample - loss: 0.1109 - accuracy: 0.9620 - val_loss: 0.3658 - val_accuracy: 0.8876\n",
      "Epoch 89/100\n",
      "60000/60000 [==============================] - 1s 19us/sample - loss: 0.1094 - accuracy: 0.9625 - val_loss: 0.3727 - val_accuracy: 0.8853\n",
      "Epoch 90/100\n",
      "60000/60000 [==============================] - 1s 19us/sample - loss: 0.1067 - accuracy: 0.9641 - val_loss: 0.4053 - val_accuracy: 0.8771\n",
      "Epoch 91/100\n",
      "60000/60000 [==============================] - 1s 19us/sample - loss: 0.1059 - accuracy: 0.9649 - val_loss: 0.3794 - val_accuracy: 0.8859\n",
      "Epoch 92/100\n",
      "60000/60000 [==============================] - 1s 19us/sample - loss: 0.1048 - accuracy: 0.9643 - val_loss: 0.3735 - val_accuracy: 0.8841\n",
      "Epoch 93/100\n",
      "60000/60000 [==============================] - 1s 19us/sample - loss: 0.1030 - accuracy: 0.9654 - val_loss: 0.3829 - val_accuracy: 0.8827\n",
      "Epoch 94/100\n",
      "60000/60000 [==============================] - 1s 19us/sample - loss: 0.1038 - accuracy: 0.9650 - val_loss: 0.3721 - val_accuracy: 0.8853\n",
      "Epoch 95/100\n",
      "60000/60000 [==============================] - 1s 19us/sample - loss: 0.1017 - accuracy: 0.9660 - val_loss: 0.3952 - val_accuracy: 0.8763\n",
      "Epoch 96/100\n",
      "60000/60000 [==============================] - 1s 20us/sample - loss: 0.1014 - accuracy: 0.9655 - val_loss: 0.3792 - val_accuracy: 0.8854\n",
      "Epoch 97/100\n",
      "60000/60000 [==============================] - 1s 20us/sample - loss: 0.0996 - accuracy: 0.9672 - val_loss: 0.3967 - val_accuracy: 0.8827\n",
      "Epoch 98/100\n",
      "60000/60000 [==============================] - 1s 20us/sample - loss: 0.0986 - accuracy: 0.9673 - val_loss: 0.3793 - val_accuracy: 0.8879\n",
      "Epoch 99/100\n",
      "60000/60000 [==============================] - 1s 20us/sample - loss: 0.0979 - accuracy: 0.9676 - val_loss: 0.3914 - val_accuracy: 0.8823\n",
      "Epoch 100/100\n",
      "60000/60000 [==============================] - 1s 19us/sample - loss: 0.0949 - accuracy: 0.9686 - val_loss: 0.3811 - val_accuracy: 0.8842\n"
     ]
    }
   ],
   "source": [
    "sgd = optimizers.SGD(lr=lr)\n",
    "model.compile(optimizer= sgd,\n",
    "              loss='sparse_categorical_crossentropy',\n",
    "              metrics=['accuracy'])\n",
    "\n",
    "history = model.fit(x_train, \n",
    "                    y_train, \n",
    "                    epochs=epoch, \n",
    "                    batch_size=batch_size,\n",
    "                    validation_data=(x_test, y_test), \n",
    "                    callbacks=[lrate])"
   ]
  },
  {
   "cell_type": "code",
   "execution_count": 10,
   "metadata": {},
   "outputs": [
    {
     "name": "stdout",
     "output_type": "stream",
     "text": [
      "10000/1 - 1s - loss: 0.2219 - accuracy: 0.8842\n"
     ]
    }
   ],
   "source": [
    "test_loss, test_acc = model.evaluate(x_test, y_test, verbose=2)"
   ]
  },
  {
   "cell_type": "code",
   "execution_count": 13,
   "metadata": {},
   "outputs": [
    {
     "data": {
      "text/plain": [
       "<matplotlib.legend.Legend at 0x232123a2898>"
      ]
     },
     "execution_count": 13,
     "metadata": {},
     "output_type": "execute_result"
    },
    {
     "data": {
      "image/png": "[encoded data removed]",
      "text/plain": [
       "<Figure size 432x288 with 1 Axes>"
      ]
     },
     "metadata": {
      "needs_background": "light"
     },
     "output_type": "display_data"
    }
   ],
   "source": [
    "plt.plot(history.history['accuracy'], label='accuracy')\n",
    "plt.plot(history.history['val_accuracy'], label = 'val_accuracy')\n",
    "plt.xlabel('Epoch')\n",
    "plt.ylabel('Accuracy')\n",
    "plt.ylim([0.8, 1])\n",
    "plt.legend(loc='lower right')\n",
    "# plt.savefig(\"ann_acc.png\", dpi=500)"
   ]
  },
  {
   "cell_type": "code",
   "execution_count": 14,
   "metadata": {},
   "outputs": [
    {
     "data": {
      "text/plain": [
       "<matplotlib.legend.Legend at 0x23212410588>"
      ]
     },
     "execution_count": 14,
     "metadata": {},
     "output_type": "execute_result"
    },
    {
     "data": {
      "image/png": "[encoded data removed]",
      "text/plain": [
       "<Figure size 432x288 with 1 Axes>"
      ]
     },
     "metadata": {
      "needs_background": "light"
     },
     "output_type": "display_data"
    }
   ],
   "source": [
    "plt.plot(history.history['loss'], label='loss')\n",
    "plt.plot(history.history['val_loss'], label = 'val_loss')\n",
    "plt.xlabel('Epoch')\n",
    "plt.ylabel('loss')\n",
    "plt.ylim([0, 0.5])\n",
    "plt.legend(loc='upper right')\n",
    "# plt.savefig(\"ann_loss.png\", dpi=500)"
   ]
  }
 ],
 "metadata": {
  "kernelspec": {
   "display_name": "Python 3",
   "language": "python",
   "name": "python3"
  },
  "language_info": {
   "codemirror_mode": {
    "name": "ipython",
    "version": 3
   },
   "file_extension": ".py",
   "mimetype": "text/x-python",
   "name": "python",
   "nbconvert_exporter": "python",
   "pygments_lexer": "ipython3",
   "version": "3.6.9"
  }
 },
 "nbformat": 4,
 "nbformat_minor": 2
}
